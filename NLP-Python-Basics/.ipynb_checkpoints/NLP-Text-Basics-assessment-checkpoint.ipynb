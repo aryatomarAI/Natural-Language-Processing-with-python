{
 "cells": [
  {
   "cell_type": "markdown",
   "id": "4199409e",
   "metadata": {},
   "source": [
    "# NLP Basics Assessment\n",
    "\n",
    "For this assessment we'll be using the short story [_An Occurrence at Owl Creek Bridge_](https://en.wikipedia.org/wiki/An_Occurrence_at_Owl_Creek_Bridge) by Ambrose Bierce (1890). <br>The story is in the public domain; the text file was obtained from [Project Gutenberg](https://www.gutenberg.org/ebooks/375.txt.utf-8)."
   ]
  },
  {
   "cell_type": "code",
   "execution_count": 3,
   "id": "8ebe8151",
   "metadata": {},
   "outputs": [],
   "source": [
    "import spacy\n",
    "import en_core_web_sm\n",
    "\n",
    "nlp=en_core_web_sm.load()"
   ]
  },
  {
   "cell_type": "code",
   "execution_count": 4,
   "id": "360a4fff",
   "metadata": {},
   "outputs": [],
   "source": [
    "# Create a doc object\n",
    "with open(\"../TextFiles/owlcreek.txt\") as f:\n",
    "    doc=nlp(f.read())"
   ]
  },
  {
   "cell_type": "code",
   "execution_count": 5,
   "id": "6aeca2cc",
   "metadata": {},
   "outputs": [
    {
     "data": {
      "text/plain": [
       "AN OCCURRENCE AT OWL CREEK BRIDGE\n",
       "\n",
       "by Ambrose Bierce\n",
       "\n",
       "I\n",
       "\n",
       "A man stood upon a railroad bridge in northern Alabama, looking down\n",
       "into the swift water twenty feet below.  "
      ]
     },
     "execution_count": 5,
     "metadata": {},
     "output_type": "execute_result"
    }
   ],
   "source": [
    "doc[:36]"
   ]
  },
  {
   "cell_type": "code",
   "execution_count": 7,
   "id": "1218b6dc",
   "metadata": {},
   "outputs": [
    {
     "data": {
      "text/plain": [
       "4835"
      ]
     },
     "execution_count": 7,
     "metadata": {},
     "output_type": "execute_result"
    }
   ],
   "source": [
    "# No of tokens in the doc object\n",
    "len(doc)"
   ]
  },
  {
   "cell_type": "code",
   "execution_count": 20,
   "id": "f201fbc8",
   "metadata": {},
   "outputs": [],
   "source": [
    "# No of sentences in the doc object\n",
    "sents=[sent for sent in doc.sents]\n"
   ]
  },
  {
   "cell_type": "code",
   "execution_count": 21,
   "id": "7582e37c",
   "metadata": {},
   "outputs": [
    {
     "data": {
      "text/plain": [
       "254"
      ]
     },
     "execution_count": 21,
     "metadata": {},
     "output_type": "execute_result"
    }
   ],
   "source": [
    "len(sents)"
   ]
  },
  {
   "cell_type": "code",
   "execution_count": 27,
   "id": "5c578294",
   "metadata": {},
   "outputs": [
    {
     "data": {
      "text/plain": [
       "A man stood upon a railroad bridge in northern Alabama, looking down\n",
       "into the swift water twenty feet below."
      ]
     },
     "execution_count": 27,
     "metadata": {},
     "output_type": "execute_result"
    }
   ],
   "source": [
    "# Printing fourth sentence of the doc\n",
    "sents[3]"
   ]
  },
  {
   "cell_type": "markdown",
   "id": "638e3fad",
   "metadata": {},
   "source": [
    "For each token in the sentence above, print its text, POS tag, dep tag and lemma"
   ]
  },
  {
   "cell_type": "code",
   "execution_count": 28,
   "id": "294a0bf2",
   "metadata": {},
   "outputs": [],
   "source": [
    "doc1=sents[3]"
   ]
  },
  {
   "cell_type": "code",
   "execution_count": 32,
   "id": "76adbbf9",
   "metadata": {},
   "outputs": [
    {
     "name": "stdout",
     "output_type": "stream",
     "text": [
      "A                    DET        det        a\n",
      "man                  NOUN       nsubj      man\n",
      "stood                VERB       ROOT       stand\n",
      "upon                 SCONJ      prep       upon\n",
      "a                    DET        det        a\n",
      "railroad             NOUN       compound   railroad\n",
      "bridge               NOUN       pobj       bridge\n",
      "in                   ADP        prep       in\n",
      "northern             ADJ        amod       northern\n",
      "Alabama              PROPN      pobj       Alabama\n",
      ",                    PUNCT      punct      ,\n",
      "looking              VERB       advcl      look\n",
      "down                 ADP        prep       down\n",
      "\n",
      "                    SPACE      pobj       \n",
      "\n",
      "into                 ADP        prep       into\n",
      "the                  DET        det        the\n",
      "swift                ADJ        amod       swift\n",
      "water                NOUN       pobj       water\n",
      "twenty               NUM        nummod     twenty\n",
      "feet                 NOUN       npadvmod   foot\n",
      "below                ADV        advmod     below\n",
      ".                    PUNCT      punct      .\n"
     ]
    }
   ],
   "source": [
    "for token in doc1:\n",
    "    print(f\"{token.text:{20}} {token.pos_:{10}} {token.dep_:{10}} {token.lemma_}\")"
   ]
  },
  {
   "cell_type": "markdown",
   "id": "9a3943f5",
   "metadata": {},
   "source": [
    "**Write a matcher called 'Swimming' that finds both occurrences of the phrase \"swimming vigorously\" in the doc**"
   ]
  },
  {
   "cell_type": "code",
   "execution_count": 33,
   "id": "7832d260",
   "metadata": {},
   "outputs": [],
   "source": [
    "from spacy.matcher import Matcher\n",
    "matcher=Matcher(nlp.vocab)"
   ]
  },
  {
   "cell_type": "code",
   "execution_count": 34,
   "id": "eec9ed66",
   "metadata": {},
   "outputs": [],
   "source": [
    "pattern=[{\"LOWER\":'swimming'},{\"IS_SPACE\":True,\"OP\":\"*\"},{'LOWER':\"vigorously\"}]\n",
    "matcher.add('Swimming',[pattern])"
   ]
  },
  {
   "cell_type": "code",
   "execution_count": 35,
   "id": "04ab67ce",
   "metadata": {},
   "outputs": [],
   "source": [
    "find_matches=matcher(doc)"
   ]
  },
  {
   "cell_type": "code",
   "execution_count": 36,
   "id": "43cd3333",
   "metadata": {},
   "outputs": [
    {
     "data": {
      "text/plain": [
       "[(12881893835109366681, 1274, 1277), (12881893835109366681, 3609, 3612)]"
      ]
     },
     "execution_count": 36,
     "metadata": {},
     "output_type": "execute_result"
    }
   ],
   "source": [
    "find_matches"
   ]
  },
  {
   "cell_type": "code",
   "execution_count": 37,
   "id": "edb61a65",
   "metadata": {},
   "outputs": [
    {
     "name": "stdout",
     "output_type": "stream",
     "text": [
      "12881893835109366681 Swimming 1274 1277 evade the bullets and, swimming\n",
      "vigorously, reach the bank, take\n",
      "12881893835109366681 Swimming 3609 3612 shoulder; he was now swimming\n",
      "vigorously with the current.  His\n"
     ]
    }
   ],
   "source": [
    "for match_id, start, end in find_matches:\n",
    "    string_id=nlp.vocab.strings[match_id]\n",
    "    span=doc[start-5:end+6]\n",
    "    print(match_id,string_id,start,end,span)"
   ]
  },
  {
   "cell_type": "code",
   "execution_count": 39,
   "id": "1bad014a",
   "metadata": {},
   "outputs": [
    {
     "name": "stdout",
     "output_type": "stream",
     "text": [
      " By diving I could evade the bullets and, swimming\n",
      "vigorously, reach the bank, take to the woods and get away home.\n"
     ]
    }
   ],
   "source": [
    "# Find the sentences in which these matches occured\n",
    "for sent in sents:\n",
    "    if find_matches[0][1] < sent.end:\n",
    "        print(sent)\n",
    "        break"
   ]
  },
  {
   "cell_type": "code",
   "execution_count": 40,
   "id": "3875931b",
   "metadata": {},
   "outputs": [
    {
     "name": "stdout",
     "output_type": "stream",
     "text": [
      "The hunted man saw all this over his shoulder; he was now swimming\n",
      "vigorously with the current.\n"
     ]
    }
   ],
   "source": [
    "for sent in sents:\n",
    "    if find_matches[1][1] < sent.end:\n",
    "        print(sent)\n",
    "        break"
   ]
  },
  {
   "cell_type": "code",
   "execution_count": null,
   "id": "1b4368b3",
   "metadata": {},
   "outputs": [],
   "source": []
  }
 ],
 "metadata": {
  "kernelspec": {
   "display_name": "Python 3",
   "language": "python",
   "name": "python3"
  },
  "language_info": {
   "codemirror_mode": {
    "name": "ipython",
    "version": 3
   },
   "file_extension": ".py",
   "mimetype": "text/x-python",
   "name": "python",
   "nbconvert_exporter": "python",
   "pygments_lexer": "ipython3",
   "version": "3.7.10"
  }
 },
 "nbformat": 4,
 "nbformat_minor": 5
}
