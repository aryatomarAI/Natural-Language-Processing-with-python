{
 "cells": [
  {
   "cell_type": "markdown",
   "id": "55b9aa80",
   "metadata": {},
   "source": [
    "## Tokenization\n",
    "\n",
    "Tokens are the basic building blocks of a Doc object everything that help us understand the meaning of the text is derived from token and their relationship to one another."
   ]
  },
  {
   "cell_type": "code",
   "execution_count": 1,
   "id": "5b8098b4",
   "metadata": {},
   "outputs": [],
   "source": [
    "# Import spacy and load the language library\n",
    "import spacy\n",
    "import en_core_web_sm"
   ]
  },
  {
   "cell_type": "code",
   "execution_count": 2,
   "id": "80b3c74f",
   "metadata": {},
   "outputs": [
    {
     "name": "stdout",
     "output_type": "stream",
     "text": [
      "\"We're moving to L.A.!\"\n"
     ]
    }
   ],
   "source": [
    "# Create a string that consist opening and closiing quotes\n",
    "my_str='\"We\\'re moving to L.A.!\"'\n",
    "print(my_str)"
   ]
  },
  {
   "cell_type": "code",
   "execution_count": 4,
   "id": "00787e52",
   "metadata": {},
   "outputs": [
    {
     "name": "stdout",
     "output_type": "stream",
     "text": [
      "\"We're moving to L.A.!\"\n"
     ]
    }
   ],
   "source": [
    "nlp=en_core_web_sm.load()\n",
    "doc=nlp(my_str)\n",
    "print(doc)"
   ]
  },
  {
   "cell_type": "code",
   "execution_count": 5,
   "id": "2d1221ce",
   "metadata": {},
   "outputs": [
    {
     "name": "stdout",
     "output_type": "stream",
     "text": [
      "\" | We | 're | moving | to | L.A. | ! | \" | "
     ]
    }
   ],
   "source": [
    "for token in doc:\n",
    "    print(token,end=\" | \")"
   ]
  },
  {
   "cell_type": "markdown",
   "id": "03e6d223",
   "metadata": {},
   "source": [
    "<img src=\"../tokenization.png\" width='600'>"
   ]
  },
  {
   "cell_type": "markdown",
   "id": "992cdf80",
   "metadata": {},
   "source": [
    "-  **Prefix**:\tCharacter(s) at the beginning &#9656; `$ ( “ ¿`\n",
    "-  **Suffix**:\tCharacter(s) at the end &#9656; `km ) , . ! ”`\n",
    "-  **Infix**:\tCharacter(s) in between &#9656; `- -- / ...`\n",
    "-  **Exception**: Special-case rule to split a string into several tokens or prevent a token from being split when punctuation rules are applied &#9656; `St. U.S.`"
   ]
  },
  {
   "cell_type": "code",
   "execution_count": null,
   "id": "cb73df03",
   "metadata": {},
   "outputs": [],
   "source": []
  }
 ],
 "metadata": {
  "kernelspec": {
   "display_name": "Python 3",
   "language": "python",
   "name": "python3"
  },
  "language_info": {
   "codemirror_mode": {
    "name": "ipython",
    "version": 3
   },
   "file_extension": ".py",
   "mimetype": "text/x-python",
   "name": "python",
   "nbconvert_exporter": "python",
   "pygments_lexer": "ipython3",
   "version": "3.7.10"
  }
 },
 "nbformat": 4,
 "nbformat_minor": 5
}
