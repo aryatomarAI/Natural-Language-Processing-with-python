{
 "cells": [
  {
   "cell_type": "markdown",
   "id": "16e550b7",
   "metadata": {},
   "source": [
    "# Stemming\n",
    "Often when searching text for a certain keyword, it helps if the search returns variations of the word. For instance, searching for \"boat\" might also return \"boats\" and \"boating\". Here, \"boat\" would be the stem for [boat, boater, boating, boats].\n",
    "\n",
    "Stemming is a somewhat crude method for cataloging related words; it essentially chops off letters from the end until the stem is reached. This works fairly well in most cases, but unfortunately English has many exceptions where a more sophisticated process is required. In fact, spaCy doesn't include a stemmer, opting instead to rely entirely on lemmatization. For those interested, there's some background on this decision [here](https://github.com/explosion/spaCy/issues/327). We discuss the virtues of *lemmatization* in the next section.\n",
    "\n",
    "Instead, we'll use another popular NLP tool called **nltk**, which stands for *Natural Language Toolkit*. For more information on nltk visit https://www.nltk.org/"
   ]
  },
  {
   "cell_type": "markdown",
   "id": "aa9cd0c8",
   "metadata": {},
   "source": [
    "## Porter Stemmer\n",
    "One of the most common - and effective - stemming tools is [*Porter's Algorithm*](https://tartarus.org/martin/PorterStemmer/) developed by Martin Porter in [1980](https://tartarus.org/martin/PorterStemmer/def.txt). The algorithm employs five phases of word reduction, each with its own set of mapping rules. In the first phase, simple suffix mapping rules are defined, such as:"
   ]
  },
  {
   "cell_type": "markdown",
   "id": "02eaa889",
   "metadata": {},
   "source": [
    "<img src=\"../stemming1.png\" width=\"400\">"
   ]
  },
  {
   "cell_type": "markdown",
   "id": "20373d60",
   "metadata": {},
   "source": [
    "From a given set of stemming rules only one rule is applied, based on the longest suffix S1. Thus, `caresses` reduces to `caress` but not `cares`.\n",
    "\n",
    "More sophisticated phases consider the length/complexity of the word before applying a rule. For example:"
   ]
  },
  {
   "cell_type": "markdown",
   "id": "5da9e0d8",
   "metadata": {},
   "source": [
    "<img src=\"../stemming2.png\" width='500'>"
   ]
  },
  {
   "cell_type": "markdown",
   "id": "ea6f0702",
   "metadata": {},
   "source": [
    "Here `m>0` describes the \"measure\" of the stem, such that the rule is applied to all but the most basic stems."
   ]
  },
  {
   "cell_type": "code",
   "execution_count": 3,
   "id": "7f653481",
   "metadata": {},
   "outputs": [],
   "source": [
    "# Import the tool-kit and full porter stemmer library\n",
    "import nltk\n",
    "from nltk.stem.porter import PorterStemmer"
   ]
  },
  {
   "cell_type": "code",
   "execution_count": 4,
   "id": "c8107109",
   "metadata": {},
   "outputs": [
    {
     "name": "stdout",
     "output_type": "stream",
     "text": [
      "run--->run\n",
      "runner--->runner\n",
      "ran--->ran\n",
      "runs--->run\n",
      "running--->run\n",
      "easily--->easili\n",
      "fairly--->fairli\n"
     ]
    }
   ],
   "source": [
    "# create an object\n",
    "p_stemmer=PorterStemmer()\n",
    "\n",
    "words=[\"run\",'runner',\"ran\",\"runs\",\"running\",\"easily\",\"fairly\"]\n",
    "\n",
    "for word in words:\n",
    "    print(word + \"--->\" + p_stemmer.stem(word))\n"
   ]
  },
  {
   "cell_type": "markdown",
   "id": "d550280b",
   "metadata": {},
   "source": [
    "<font color=blue>Note how the stemmer recognizes \"runner\" as a noun, not a verb form or participle. Also, the adverbs \"easily\" and \"fairly\" are stemmed to the unusual root \"easili\" and \"fairli\"</font>\n",
    "___"
   ]
  },
  {
   "cell_type": "markdown",
   "id": "870e70b6",
   "metadata": {},
   "source": [
    "## Snowball Algorithm\n",
    "Snowball is the name of a stemming language also developed by Martin Porter.\n",
    "\n",
    "The algorithm used here is more accurately called the \"English Stemmer\" or \"Porter 2 Stemmer\".\n",
    "\n",
    "It offers a slight improvement over the original Porter Stemmer, both in logic and speed.\n"
   ]
  },
  {
   "cell_type": "code",
   "execution_count": 7,
   "id": "3fbeb808",
   "metadata": {},
   "outputs": [
    {
     "name": "stdout",
     "output_type": "stream",
     "text": [
      "run---->run\n",
      "runner---->runner\n",
      "ran---->ran\n",
      "runs---->run\n",
      "running---->run\n",
      "easily---->easili\n",
      "fairly---->fair\n"
     ]
    }
   ],
   "source": [
    "# Now let's check for snowball algo\n",
    "from nltk.stem.snowball import SnowballStemmer\n",
    "s_stemmer=SnowballStemmer(language='english')\n",
    "\n",
    "for word in words:\n",
    "    print(word + \"---->\" + s_stemmer.stem(word))"
   ]
  },
  {
   "cell_type": "code",
   "execution_count": 8,
   "id": "b16c7d9f",
   "metadata": {},
   "outputs": [
    {
     "name": "stdout",
     "output_type": "stream",
     "text": [
      "generous---->generous\n",
      "generation---->generat\n",
      "generously---->generous\n",
      "generate---->generat\n"
     ]
    }
   ],
   "source": [
    "words1 = ['generous','generation','generously','generate']\n",
    "for word in words1:\n",
    "    print(word + \"---->\" + s_stemmer.stem(word))"
   ]
  },
  {
   "cell_type": "code",
   "execution_count": null,
   "id": "f1cce5f4",
   "metadata": {},
   "outputs": [],
   "source": []
  }
 ],
 "metadata": {
  "kernelspec": {
   "display_name": "Python 3",
   "language": "python",
   "name": "python3"
  },
  "language_info": {
   "codemirror_mode": {
    "name": "ipython",
    "version": 3
   },
   "file_extension": ".py",
   "mimetype": "text/x-python",
   "name": "python",
   "nbconvert_exporter": "python",
   "pygments_lexer": "ipython3",
   "version": "3.7.10"
  }
 },
 "nbformat": 4,
 "nbformat_minor": 5
}
