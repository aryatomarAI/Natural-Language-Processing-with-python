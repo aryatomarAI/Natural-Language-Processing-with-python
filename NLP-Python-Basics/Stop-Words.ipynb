{
 "cells": [
  {
   "cell_type": "markdown",
   "id": "c66e751f",
   "metadata": {},
   "source": [
    "# Stop Words\n",
    "Words like \"a\" and \"the\" appeared so frequently that they don't require tagging as throughly as nouns, verbs and modifiers. We call these stop words, and they can be filtered from text to be processed.\n",
    "\n",
    "Spacy holds a built-in list of some 305 English stop words."
   ]
  },
  {
   "cell_type": "code",
   "execution_count": 2,
   "id": "847c5847",
   "metadata": {},
   "outputs": [
    {
     "name": "stdout",
     "output_type": "stream",
     "text": [
      "{'afterwards', 'somewhere', 'last', 'namely', 'down', 'than', 'everywhere', 'may', 'should', 'wherever', 'who', 'is', 'becoming', 'call', 'could', 'already', 'in', 'most', 'that', 'besides', 'please', 'which', 'here', 'name', 'next', 'used', 'into', 'anyhow', 'former', 'us', 'various', 'been', 'below', 'done', 'get', 'how', 'therein', 'under', 'we', 'without', 'itself', 'almost', 'those', 'bottom', 'your', 'onto', 'across', 'eight', 'hereby', 'such', 'why', 'yet', 'yours', 'full', 'also', 'though', 'empty', 'off', 'they', 'make', 'whereupon', 'some', 'me', 'along', 'my', 'several', 'third', 'much', 'indeed', 'otherwise', 'three', 'an', 'throughout', 'hence', 'what', 'cannot', 'due', 'had', 'up', 'herself', 'nine', 'few', 'sixty', 'whether', 'front', 'first', 'whence', 'via', 'until', 'not', 'the', 'however', 'forty', 'something', 'this', 'wherein', 'have', 'else', 'behind', 'to', 'although', 'own', 'quite', 'doing', 'its', 'give', 'before', 'after', 'top', 'perhaps', 'whither', 'made', 'nevertheless', 'are', 'become', 'our', 'am', 'if', 'seemed', 'anyway', 'will', 'moreover', 'one', 'i', 'using', 'take', 'myself', 'on', 'enough', 'even', 'others', 'so', 'would', 'eleven', 'of', 'ever', 'six', 'hereupon', 'whereby', 'by', 'being', 'each', 'must', 'nowhere', 'move', 'them', 'be', 'amount', 'himself', 'it', 'seems', 'she', 'just', 'five', 'still', 'another', 'meanwhile', 'all', 'can', 'themselves', 'her', 'whenever', 'ten', 'serious', 'whereas', 'whose', 'therefore', 'yourself', 'there', 'hers', 'someone', 'thereafter', 'towards', 'many', 'fifty', 'once', 'thru', 'during', 'amongst', 'alone', 'has', 'noone', 'whereafter', 'rather', 'latterly', 'when', 'whom', 'nor', 'beyond', 'beforehand', 'everything', 'sometime', 'as', 'go', 'from', 'through', 'twelve', 'whoever', 'within', 'he', 'less', 'do', 'other', 'whatever', 'again', 'elsewhere', 'while', 'least', 'his', 'because', 'or', 'say', 'side', 'with', 'toward', 'these', 'anyone', 'upon', 'never', 'ours', 'every', 'latter', 'now', 'over', 'thereby', 'too', 'about', 'a', 'any', 'four', 'above', 'back', 'mostly', 'well', 'nobody', 'then', 'were', 'regarding', 'anything', 'since', 'somehow', 'against', 'seeming', 'thus', 'beside', 'hundred', 'their', 'for', 'became', 'did', 're', 'except', 'none', 'really', 'further', 'show', 'unless', 'becomes', 'see', 'does', 'was', 'where', 'only', 'always', 'between', 'part', 'keep', 'formerly', 'very', 'whole', 'seem', 'fifteen', 'ca', 'among', 'no', 'at', 'both', 'mine', 'thence', 'put', 'but', 'hereafter', 'yourselves', 'same', 'anywhere', 'nothing', 'him', 'ourselves', 'out', 'twenty', 'might', 'two', 'you', 'often', 'everyone', 'together', 'per', 'and', 'more', 'sometimes', 'herein', 'neither', 'around', 'thereupon', 'either'}\n"
     ]
    }
   ],
   "source": [
    "# Import spacy\n",
    "import spacy\n",
    "\n",
    "# Load language library\n",
    "import en_core_web_sm\n",
    "\n",
    "# print list of stop words in spacy\n",
    "nlp=en_core_web_sm.load()\n",
    "print(nlp.Defaults.stop_words)"
   ]
  },
  {
   "cell_type": "code",
   "execution_count": 3,
   "id": "dbf53da4",
   "metadata": {},
   "outputs": [
    {
     "data": {
      "text/plain": [
       "305"
      ]
     },
     "execution_count": 3,
     "metadata": {},
     "output_type": "execute_result"
    }
   ],
   "source": [
    "len(nlp.Defaults.stop_words)"
   ]
  },
  {
   "cell_type": "code",
   "execution_count": 4,
   "id": "e34bcd55",
   "metadata": {},
   "outputs": [
    {
     "data": {
      "text/plain": [
       "True"
      ]
     },
     "execution_count": 4,
     "metadata": {},
     "output_type": "execute_result"
    }
   ],
   "source": [
    "# Check if a given word is stop word or not \n",
    "nlp.vocab[\"is\"].is_stop"
   ]
  },
  {
   "cell_type": "code",
   "execution_count": 5,
   "id": "f3341ebb",
   "metadata": {},
   "outputs": [
    {
     "data": {
      "text/plain": [
       "True"
      ]
     },
     "execution_count": 5,
     "metadata": {},
     "output_type": "execute_result"
    }
   ],
   "source": [
    "nlp.vocab[\"here\"].is_stop"
   ]
  },
  {
   "cell_type": "code",
   "execution_count": 6,
   "id": "9ce89b15",
   "metadata": {},
   "outputs": [
    {
     "data": {
      "text/plain": [
       "False"
      ]
     },
     "execution_count": 6,
     "metadata": {},
     "output_type": "execute_result"
    }
   ],
   "source": [
    "nlp.vocab['mystery'].is_stop"
   ]
  },
  {
   "cell_type": "code",
   "execution_count": 7,
   "id": "5ab38789",
   "metadata": {},
   "outputs": [],
   "source": [
    "# Add a word in stop words list \n",
    "nlp.Defaults.stop_words.add(\"btw\")\n",
    "nlp.vocab['btw'].is_stop=True"
   ]
  },
  {
   "cell_type": "code",
   "execution_count": 8,
   "id": "b542d773",
   "metadata": {},
   "outputs": [
    {
     "data": {
      "text/plain": [
       "306"
      ]
     },
     "execution_count": 8,
     "metadata": {},
     "output_type": "execute_result"
    }
   ],
   "source": [
    "len(nlp.Defaults.stop_words)"
   ]
  },
  {
   "cell_type": "code",
   "execution_count": 9,
   "id": "f923c086",
   "metadata": {},
   "outputs": [
    {
     "data": {
      "text/plain": [
       "True"
      ]
     },
     "execution_count": 9,
     "metadata": {},
     "output_type": "execute_result"
    }
   ],
   "source": [
    "# Removing a stop word from the list\n",
    "nlp.vocab['beyond'].is_stop"
   ]
  },
  {
   "cell_type": "code",
   "execution_count": 10,
   "id": "036be308",
   "metadata": {},
   "outputs": [],
   "source": [
    "nlp.Defaults.stop_words.remove(\"beyond\")\n",
    "nlp.vocab['beyond'].is_stop=False"
   ]
  },
  {
   "cell_type": "code",
   "execution_count": 11,
   "id": "c8e5af73",
   "metadata": {},
   "outputs": [
    {
     "data": {
      "text/plain": [
       "305"
      ]
     },
     "execution_count": 11,
     "metadata": {},
     "output_type": "execute_result"
    }
   ],
   "source": [
    "len(nlp.Defaults.stop_words)"
   ]
  },
  {
   "cell_type": "code",
   "execution_count": null,
   "id": "b9218d91",
   "metadata": {},
   "outputs": [],
   "source": []
  }
 ],
 "metadata": {
  "kernelspec": {
   "display_name": "Python 3",
   "language": "python",
   "name": "python3"
  },
  "language_info": {
   "codemirror_mode": {
    "name": "ipython",
    "version": 3
   },
   "file_extension": ".py",
   "mimetype": "text/x-python",
   "name": "python",
   "nbconvert_exporter": "python",
   "pygments_lexer": "ipython3",
   "version": "3.7.10"
  }
 },
 "nbformat": 4,
 "nbformat_minor": 5
}
