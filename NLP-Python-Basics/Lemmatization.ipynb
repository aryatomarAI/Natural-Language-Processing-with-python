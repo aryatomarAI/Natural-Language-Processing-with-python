{
 "cells": [
  {
   "cell_type": "markdown",
   "id": "d2b74598",
   "metadata": {},
   "source": [
    "# Lemmatization\n",
    "* In contrast to the stemming, lemmatization looks beyond word reduction and considers a language's full vocabulary to apply a morphological analysis to words.\n",
    "\n",
    "* The lemma of word 'was' is \"be\" and the lemma of the word \"mice\" is \"mouse\", the lemma of \"meeting\" might be 'meet' or 'meeting' depending on its use in a sentence.\n",
    "\n",
    "* Lemmatization is typically seen as much more information simple stemming, which is why spaCy has opted to only have lemmatization available instead of stemming."
   ]
  },
  {
   "cell_type": "code",
   "execution_count": 1,
   "id": "01f22511",
   "metadata": {},
   "outputs": [],
   "source": [
    "# Import spacy\n",
    "import spacy\n",
    "import en_core_web_sm"
   ]
  },
  {
   "cell_type": "code",
   "execution_count": 3,
   "id": "98a404f7",
   "metadata": {},
   "outputs": [
    {
     "name": "stdout",
     "output_type": "stream",
     "text": [
      "I \t PRON \t 561228191312463089 \t -PRON-\n",
      "am \t VERB \t 10382539506755952630 \t be\n",
      "a \t DET \t 11901859001352538922 \t a\n",
      "runner \t NOUN \t 12640964157389618806 \t runner\n",
      "who \t NOUN \t 3876862883474502309 \t who\n",
      "runs \t VERB \t 12767647472892411841 \t run\n",
      "daily \t ADV \t 7369875328865446693 \t daily\n",
      "in \t ADP \t 3002984154512732771 \t in\n",
      "a \t DET \t 11901859001352538922 \t a\n",
      "race \t NOUN \t 8048469955494714898 \t race\n",
      "because \t ADP \t 16950148841647037698 \t because\n",
      "I \t PRON \t 561228191312463089 \t -PRON-\n",
      "love \t VERB \t 3702023516439754181 \t love\n",
      "running \t VERB \t 12767647472892411841 \t run\n",
      ", \t PUNCT \t 2593208677638477497 \t ,\n",
      "today \t NOUN \t 11042482332948150395 \t today\n",
      "i \t PRON \t 5097672513440128799 \t i\n",
      "ran \t VERB \t 12767647472892411841 \t run\n",
      "almost \t ADV \t 9970931496028849525 \t almost\n",
      "10 \t NUM \t 6572986864102252890 \t 10\n",
      "miles \t NOUN \t 15996833532744392865 \t mile\n"
     ]
    }
   ],
   "source": [
    "nlp=en_core_web_sm.load()\n",
    "doc1=nlp(u\"I am a runner who runs daily in a race because I love running, today i ran almost 10 miles\")\n",
    "\n",
    "for token in doc1:\n",
    "    print(token.text,\"\\t\",token.pos_,\"\\t\",token.lemma,\"\\t\",token.lemma_)"
   ]
  },
  {
   "cell_type": "markdown",
   "id": "e97325d2",
   "metadata": {},
   "source": [
    "### Function to display lemmas\n",
    "Since the display above is staggared and hard to read, let's write a function that displays the information we want more neatly."
   ]
  },
  {
   "cell_type": "code",
   "execution_count": 6,
   "id": "ea6f7e8c",
   "metadata": {},
   "outputs": [],
   "source": [
    "def show_lemma(text):\n",
    "    for token in text:\n",
    "        print(f\"{token.text:{13}}  {token.pos_:{8}}  {token.lemma:<{24}} {token.lemma_}\")"
   ]
  },
  {
   "cell_type": "code",
   "execution_count": 7,
   "id": "4c3cb243",
   "metadata": {},
   "outputs": [
    {
     "name": "stdout",
     "output_type": "stream",
     "text": [
      "Apple          PROPN     8566208034543834098      apple\n",
      "is             VERB      10382539506755952630     be\n",
      "the            DET       7425985699627899538      the\n",
      "biggest        ADJ       15511632813958231649     big\n",
      "company        NOUN      6905553075311563409      company\n",
      "in             ADP       3002984154512732771      in\n",
      "the            DET       7425985699627899538      the\n",
      "world          NOUN      1703489418272052182      world\n"
     ]
    }
   ],
   "source": [
    "doc2=nlp(u\"Apple is the biggest company in the world\")\n",
    "show_lemma(doc2)"
   ]
  },
  {
   "cell_type": "code",
   "execution_count": 8,
   "id": "8289f509",
   "metadata": {},
   "outputs": [
    {
     "name": "stdout",
     "output_type": "stream",
     "text": [
      "I              PRON      561228191312463089       -PRON-\n",
      "have           VERB      14692702688101715474     have\n",
      "ate            VERB      9837207709914848172      eat\n",
      "eleven         NUM       2577106820672012207      eleven\n",
      "apple          NOUN      8566208034543834098      apple\n",
      "yesterday      NOUN      1756787072497230782      yesterday\n"
     ]
    }
   ],
   "source": [
    "doc3=nlp(u\"I have ate eleven apple yesterday\")\n",
    "show_lemma(doc3)"
   ]
  },
  {
   "cell_type": "code",
   "execution_count": 9,
   "id": "4e2a8c35",
   "metadata": {},
   "outputs": [
    {
     "name": "stdout",
     "output_type": "stream",
     "text": [
      "We             PRON      561228191312463089       -PRON-\n",
      "will           VERB      18307573501153647118     will\n",
      "be             VERB      10382539506755952630     be\n",
      "meeting        VERB      6880656908171229526      meet\n",
      "tommorow       NOUN      14881451523362505806     tommorow\n",
      "be             VERB      10382539506755952630     be\n",
      "ready          ADJ       16376148581985464650     ready\n",
      "for            ADP       16037325823156266367     for\n",
      "the            DET       7425985699627899538      the\n",
      "meeting        NOUN      14798207169164081740     meeting\n"
     ]
    }
   ],
   "source": [
    "doc4=nlp(u\"We will be meeting tommorow be ready for the meeting\")\n",
    "show_lemma(doc4)"
   ]
  },
  {
   "cell_type": "code",
   "execution_count": null,
   "id": "009c2ba0",
   "metadata": {},
   "outputs": [],
   "source": []
  }
 ],
 "metadata": {
  "kernelspec": {
   "display_name": "Python 3",
   "language": "python",
   "name": "python3"
  },
  "language_info": {
   "codemirror_mode": {
    "name": "ipython",
    "version": 3
   },
   "file_extension": ".py",
   "mimetype": "text/x-python",
   "name": "python",
   "nbconvert_exporter": "python",
   "pygments_lexer": "ipython3",
   "version": "3.7.10"
  }
 },
 "nbformat": 4,
 "nbformat_minor": 5
}
