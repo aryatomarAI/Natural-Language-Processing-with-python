{
 "cells": [
  {
   "cell_type": "markdown",
   "id": "7b6d5701",
   "metadata": {},
   "source": [
    "# Keras Basics\n",
    "In this notebook we will learn basics of Keras with the help a data set known as iris. In this dataset we have few features of flowers on basis of these features we have to predict three classes( 3 flower species )"
   ]
  },
  {
   "cell_type": "markdown",
   "id": "a3aa106c",
   "metadata": {},
   "source": [
    "## Import the tools and Load data"
   ]
  },
  {
   "cell_type": "code",
   "execution_count": 93,
   "id": "8e4b6c61",
   "metadata": {},
   "outputs": [],
   "source": [
    "import numpy as np\n",
    "import pandas as pd\n",
    "from sklearn.datasets import load_iris"
   ]
  },
  {
   "cell_type": "code",
   "execution_count": 94,
   "id": "4c0365f7",
   "metadata": {},
   "outputs": [],
   "source": [
    "iris=load_iris()"
   ]
  },
  {
   "cell_type": "code",
   "execution_count": 101,
   "id": "743570cd",
   "metadata": {},
   "outputs": [
    {
     "name": "stdout",
     "output_type": "stream",
     "text": [
      "<class 'sklearn.utils.Bunch'>\n"
     ]
    }
   ],
   "source": [
    "print(type(iris))"
   ]
  },
  {
   "cell_type": "code",
   "execution_count": 103,
   "id": "9cacddcb",
   "metadata": {},
   "outputs": [
    {
     "name": "stdout",
     "output_type": "stream",
     "text": [
      ".. _iris_dataset:\n",
      "\n",
      "Iris plants dataset\n",
      "--------------------\n",
      "\n",
      "**Data Set Characteristics:**\n",
      "\n",
      "    :Number of Instances: 150 (50 in each of three classes)\n",
      "    :Number of Attributes: 4 numeric, predictive attributes and the class\n",
      "    :Attribute Information:\n",
      "        - sepal length in cm\n",
      "        - sepal width in cm\n",
      "        - petal length in cm\n",
      "        - petal width in cm\n",
      "        - class:\n",
      "                - Iris-Setosa\n",
      "                - Iris-Versicolour\n",
      "                - Iris-Virginica\n",
      "                \n",
      "    :Summary Statistics:\n",
      "\n",
      "    ============== ==== ==== ======= ===== ====================\n",
      "                    Min  Max   Mean    SD   Class Correlation\n",
      "    ============== ==== ==== ======= ===== ====================\n",
      "    sepal length:   4.3  7.9   5.84   0.83    0.7826\n",
      "    sepal width:    2.0  4.4   3.05   0.43   -0.4194\n",
      "    petal length:   1.0  6.9   3.76   1.76    0.9490  (high!)\n",
      "    petal width:    0.1  2.5   1.20   0.76    0.9565  (high!)\n",
      "    ============== ==== ==== ======= ===== ====================\n",
      "\n",
      "    :Missing Attribute Values: None\n",
      "    :Class Distribution: 33.3% for each of 3 classes.\n",
      "    :Creator: R.A. Fisher\n",
      "    :Donor: Michael Marshall (MARSHALL%PLU@io.arc.nasa.gov)\n",
      "    :Date: July, 1988\n",
      "\n",
      "The famous Iris database, first used by Sir R.A. Fisher. The dataset is taken\n",
      "from Fisher's paper. Note that it's the same as in R, but not as in the UCI\n",
      "Machine Learning Repository, which has two wrong data points.\n",
      "\n",
      "This is perhaps the best known database to be found in the\n",
      "pattern recognition literature.  Fisher's paper is a classic in the field and\n",
      "is referenced frequently to this day.  (See Duda & Hart, for example.)  The\n",
      "data set contains 3 classes of 50 instances each, where each class refers to a\n",
      "type of iris plant.  One class is linearly separable from the other 2; the\n",
      "latter are NOT linearly separable from each other.\n",
      "\n",
      ".. topic:: References\n",
      "\n",
      "   - Fisher, R.A. \"The use of multiple measurements in taxonomic problems\"\n",
      "     Annual Eugenics, 7, Part II, 179-188 (1936); also in \"Contributions to\n",
      "     Mathematical Statistics\" (John Wiley, NY, 1950).\n",
      "   - Duda, R.O., & Hart, P.E. (1973) Pattern Classification and Scene Analysis.\n",
      "     (Q327.D83) John Wiley & Sons.  ISBN 0-471-22361-1.  See page 218.\n",
      "   - Dasarathy, B.V. (1980) \"Nosing Around the Neighborhood: A New System\n",
      "     Structure and Classification Rule for Recognition in Partially Exposed\n",
      "     Environments\".  IEEE Transactions on Pattern Analysis and Machine\n",
      "     Intelligence, Vol. PAMI-2, No. 1, 67-71.\n",
      "   - Gates, G.W. (1972) \"The Reduced Nearest Neighbor Rule\".  IEEE Transactions\n",
      "     on Information Theory, May 1972, 431-433.\n",
      "   - See also: 1988 MLC Proceedings, 54-64.  Cheeseman et al\"s AUTOCLASS II\n",
      "     conceptual clustering system finds 3 classes in the data.\n",
      "   - Many, many more ...\n"
     ]
    }
   ],
   "source": [
    "print(iris.DESCR)"
   ]
  },
  {
   "cell_type": "code",
   "execution_count": 104,
   "id": "80df1bcf",
   "metadata": {},
   "outputs": [],
   "source": [
    "X=iris.data"
   ]
  },
  {
   "cell_type": "code",
   "execution_count": 107,
   "id": "42b1cf4f",
   "metadata": {},
   "outputs": [
    {
     "name": "stdout",
     "output_type": "stream",
     "text": [
      "['sepal length (cm)', 'sepal width (cm)', 'petal length (cm)', 'petal width (cm)']\n"
     ]
    }
   ],
   "source": [
    "print(iris.feature_names)"
   ]
  },
  {
   "cell_type": "code",
   "execution_count": 108,
   "id": "53b615eb",
   "metadata": {},
   "outputs": [],
   "source": [
    "y=iris.target"
   ]
  },
  {
   "cell_type": "code",
   "execution_count": 109,
   "id": "39b6b284",
   "metadata": {},
   "outputs": [
    {
     "data": {
      "text/plain": [
       "150"
      ]
     },
     "execution_count": 109,
     "metadata": {},
     "output_type": "execute_result"
    }
   ],
   "source": [
    "len(X)"
   ]
  },
  {
   "cell_type": "code",
   "execution_count": 110,
   "id": "6c868496",
   "metadata": {},
   "outputs": [
    {
     "data": {
      "text/plain": [
       "150"
      ]
     },
     "execution_count": 110,
     "metadata": {},
     "output_type": "execute_result"
    }
   ],
   "source": [
    "len(y)"
   ]
  },
  {
   "cell_type": "markdown",
   "id": "2d44c16b",
   "metadata": {},
   "source": [
    "## Change y using One hot encoding"
   ]
  },
  {
   "cell_type": "code",
   "execution_count": 111,
   "id": "52dff3f6",
   "metadata": {},
   "outputs": [],
   "source": [
    "from keras.utils import to_categorical\n",
    "y=to_categorical(y)"
   ]
  },
  {
   "cell_type": "code",
   "execution_count": 112,
   "id": "8dbc4f3b",
   "metadata": {},
   "outputs": [
    {
     "data": {
      "text/plain": [
       "(150, 3)"
      ]
     },
     "execution_count": 112,
     "metadata": {},
     "output_type": "execute_result"
    }
   ],
   "source": [
    "y.shape"
   ]
  },
  {
   "cell_type": "code",
   "execution_count": 114,
   "id": "faa7ff8f",
   "metadata": {},
   "outputs": [
    {
     "data": {
      "text/plain": [
       "array([[1., 0., 0.],\n",
       "       [1., 0., 0.],\n",
       "       [1., 0., 0.],\n",
       "       [1., 0., 0.],\n",
       "       [1., 0., 0.]], dtype=float32)"
      ]
     },
     "execution_count": 114,
     "metadata": {},
     "output_type": "execute_result"
    }
   ],
   "source": [
    "y[0:5]"
   ]
  },
  {
   "cell_type": "markdown",
   "id": "20b4bab6",
   "metadata": {},
   "source": [
    "## Split the data into training and test datasets"
   ]
  },
  {
   "cell_type": "code",
   "execution_count": 115,
   "id": "1b9d3213",
   "metadata": {},
   "outputs": [],
   "source": [
    "from sklearn.model_selection import train_test_split\n",
    "\n",
    "X_train,X_test,y_train,y_test=train_test_split(X,y,test_size=0.25,random_state=42)"
   ]
  },
  {
   "cell_type": "code",
   "execution_count": 116,
   "id": "c3e73013",
   "metadata": {},
   "outputs": [
    {
     "data": {
      "text/plain": [
       "(112, 4)"
      ]
     },
     "execution_count": 116,
     "metadata": {},
     "output_type": "execute_result"
    }
   ],
   "source": [
    "X_train.shape"
   ]
  },
  {
   "cell_type": "code",
   "execution_count": 117,
   "id": "93e8ccc3",
   "metadata": {},
   "outputs": [
    {
     "data": {
      "text/plain": [
       "(112, 3)"
      ]
     },
     "execution_count": 117,
     "metadata": {},
     "output_type": "execute_result"
    }
   ],
   "source": [
    "y_train.shape"
   ]
  },
  {
   "cell_type": "code",
   "execution_count": 118,
   "id": "2013264c",
   "metadata": {},
   "outputs": [
    {
     "data": {
      "text/plain": [
       "array([[5. , 3.6, 1.4, 0.2],\n",
       "       [5.2, 4.1, 1.5, 0.1],\n",
       "       [5.8, 2.7, 5.1, 1.9]])"
      ]
     },
     "execution_count": 118,
     "metadata": {},
     "output_type": "execute_result"
    }
   ],
   "source": [
    "X_train[:3]"
   ]
  },
  {
   "cell_type": "markdown",
   "id": "0be275b1",
   "metadata": {},
   "source": [
    "## Standardize the datasets"
   ]
  },
  {
   "cell_type": "code",
   "execution_count": 119,
   "id": "6f3b3706",
   "metadata": {},
   "outputs": [],
   "source": [
    "from sklearn.preprocessing import MinMaxScaler\n",
    "scaler_object=MinMaxScaler()\n",
    "scaler_object.fit(X_train)\n",
    "\n",
    "scaled_X_train=scaler_object.transform(X_train)\n",
    "scaled_X_test=scaler_object.transform(X_test)"
   ]
  },
  {
   "cell_type": "code",
   "execution_count": 120,
   "id": "c82dcc11",
   "metadata": {},
   "outputs": [
    {
     "data": {
      "text/plain": [
       "array([[0.52941176, 0.36363636, 0.64285714, 0.45833333],\n",
       "       [0.41176471, 0.81818182, 0.10714286, 0.08333333],\n",
       "       [1.        , 0.27272727, 1.03571429, 0.91666667],\n",
       "       [0.5       , 0.40909091, 0.60714286, 0.58333333],\n",
       "       [0.73529412, 0.36363636, 0.66071429, 0.54166667],\n",
       "       [0.32352941, 0.63636364, 0.07142857, 0.125     ],\n",
       "       [0.38235294, 0.40909091, 0.44642857, 0.5       ],\n",
       "       [0.76470588, 0.5       , 0.71428571, 0.91666667],\n",
       "       [0.55882353, 0.09090909, 0.60714286, 0.58333333],\n",
       "       [0.44117647, 0.31818182, 0.5       , 0.45833333]])"
      ]
     },
     "execution_count": 120,
     "metadata": {},
     "output_type": "execute_result"
    }
   ],
   "source": [
    "scaled_X_test[:10]"
   ]
  },
  {
   "cell_type": "markdown",
   "id": "7b3c1c18",
   "metadata": {},
   "source": [
    "## Let's build a keras model from the scratch"
   ]
  },
  {
   "cell_type": "code",
   "execution_count": 122,
   "id": "b2469fbd",
   "metadata": {},
   "outputs": [],
   "source": [
    "from keras.models import Sequential\n",
    "from keras.layers import Dense,Dropout"
   ]
  },
  {
   "cell_type": "code",
   "execution_count": 134,
   "id": "2226b5ad",
   "metadata": {},
   "outputs": [
    {
     "name": "stdout",
     "output_type": "stream",
     "text": [
      "Model: \"sequential_6\"\n",
      "_________________________________________________________________\n",
      "Layer (type)                 Output Shape              Param #   \n",
      "=================================================================\n",
      "dense_16 (Dense)             (None, 8)                 40        \n",
      "_________________________________________________________________\n",
      "dense_17 (Dense)             (None, 32)                288       \n",
      "_________________________________________________________________\n",
      "dropout_5 (Dropout)          (None, 32)                0         \n",
      "_________________________________________________________________\n",
      "dense_18 (Dense)             (None, 3)                 99        \n",
      "=================================================================\n",
      "Total params: 427\n",
      "Trainable params: 427\n",
      "Non-trainable params: 0\n",
      "_________________________________________________________________\n"
     ]
    }
   ],
   "source": [
    "model=Sequential()\n",
    "# Input layer\n",
    "model.add(Dense(8,input_dim=4,activation=\"relu\"))\n",
    "model.add(Dense(32,input_dim=4,activation='relu'))\n",
    "model.add(Dropout(0.35))\n",
    "model.add(Dense(3,activation='softmax'))\n",
    "model.compile(loss=\"categorical_crossentropy\",optimizer=\"adam\",metrics=['accuracy'])\n",
    "\n",
    "model.summary()"
   ]
  },
  {
   "cell_type": "code",
   "execution_count": 135,
   "id": "41bb45d7",
   "metadata": {},
   "outputs": [
    {
     "name": "stdout",
     "output_type": "stream",
     "text": [
      "Epoch 1/200\n",
      " - 0s - loss: 1.0252 - accuracy: 0.3482\n",
      "Epoch 2/200\n",
      " - 0s - loss: 0.9946 - accuracy: 0.4286\n",
      "Epoch 3/200\n",
      " - 0s - loss: 0.9820 - accuracy: 0.3750\n",
      "Epoch 4/200\n",
      " - 0s - loss: 1.0043 - accuracy: 0.3304\n",
      "Epoch 5/200\n",
      " - 0s - loss: 0.9882 - accuracy: 0.3214\n",
      "Epoch 6/200\n",
      " - 0s - loss: 0.9682 - accuracy: 0.3929\n",
      "Epoch 7/200\n",
      " - 0s - loss: 0.9831 - accuracy: 0.3304\n",
      "Epoch 8/200\n",
      " - 0s - loss: 0.9655 - accuracy: 0.4196\n",
      "Epoch 9/200\n",
      " - 0s - loss: 0.9507 - accuracy: 0.4375\n",
      "Epoch 10/200\n",
      " - 0s - loss: 0.9367 - accuracy: 0.4107\n",
      "Epoch 11/200\n",
      " - 0s - loss: 0.9206 - accuracy: 0.4643\n",
      "Epoch 12/200\n",
      " - 0s - loss: 0.9329 - accuracy: 0.4643\n",
      "Epoch 13/200\n",
      " - 0s - loss: 0.9132 - accuracy: 0.4643\n",
      "Epoch 14/200\n",
      " - 0s - loss: 0.9192 - accuracy: 0.5000\n",
      "Epoch 15/200\n",
      " - 0s - loss: 0.8845 - accuracy: 0.6071\n",
      "Epoch 16/200\n",
      " - 0s - loss: 0.8794 - accuracy: 0.6071\n",
      "Epoch 17/200\n",
      " - 0s - loss: 0.8769 - accuracy: 0.5446\n",
      "Epoch 18/200\n",
      " - 0s - loss: 0.8695 - accuracy: 0.6071\n",
      "Epoch 19/200\n",
      " - 0s - loss: 0.8560 - accuracy: 0.6429\n",
      "Epoch 20/200\n",
      " - 0s - loss: 0.8440 - accuracy: 0.6339\n",
      "Epoch 21/200\n",
      " - 0s - loss: 0.8558 - accuracy: 0.6339\n",
      "Epoch 22/200\n",
      " - 0s - loss: 0.8348 - accuracy: 0.6339\n",
      "Epoch 23/200\n",
      " - 0s - loss: 0.8113 - accuracy: 0.6786\n",
      "Epoch 24/200\n",
      " - 0s - loss: 0.8011 - accuracy: 0.7321\n",
      "Epoch 25/200\n",
      " - 0s - loss: 0.8026 - accuracy: 0.6607\n",
      "Epoch 26/200\n",
      " - 0s - loss: 0.8177 - accuracy: 0.6607\n",
      "Epoch 27/200\n",
      " - 0s - loss: 0.7811 - accuracy: 0.6875\n",
      "Epoch 28/200\n",
      " - 0s - loss: 0.7682 - accuracy: 0.6429\n",
      "Epoch 29/200\n",
      " - 0s - loss: 0.7630 - accuracy: 0.6964\n",
      "Epoch 30/200\n",
      " - 0s - loss: 0.7550 - accuracy: 0.6875\n",
      "Epoch 31/200\n",
      " - 0s - loss: 0.7673 - accuracy: 0.7054\n",
      "Epoch 32/200\n",
      " - 0s - loss: 0.7260 - accuracy: 0.7232\n",
      "Epoch 33/200\n",
      " - 0s - loss: 0.7215 - accuracy: 0.7321\n",
      "Epoch 34/200\n",
      " - 0s - loss: 0.7111 - accuracy: 0.6964\n",
      "Epoch 35/200\n",
      " - 0s - loss: 0.7081 - accuracy: 0.6875\n",
      "Epoch 36/200\n",
      " - 0s - loss: 0.7042 - accuracy: 0.7321\n",
      "Epoch 37/200\n",
      " - 0s - loss: 0.6981 - accuracy: 0.7232\n",
      "Epoch 38/200\n",
      " - 0s - loss: 0.7160 - accuracy: 0.6786\n",
      "Epoch 39/200\n",
      " - 0s - loss: 0.6776 - accuracy: 0.6964\n",
      "Epoch 40/200\n",
      " - 0s - loss: 0.6561 - accuracy: 0.7054\n",
      "Epoch 41/200\n",
      " - 0s - loss: 0.6489 - accuracy: 0.6964\n",
      "Epoch 42/200\n",
      " - 0s - loss: 0.6379 - accuracy: 0.7411\n",
      "Epoch 43/200\n",
      " - 0s - loss: 0.6419 - accuracy: 0.7321\n",
      "Epoch 44/200\n",
      " - 0s - loss: 0.6314 - accuracy: 0.7679\n",
      "Epoch 45/200\n",
      " - 0s - loss: 0.5837 - accuracy: 0.7857\n",
      "Epoch 46/200\n",
      " - 0s - loss: 0.5967 - accuracy: 0.7589\n",
      "Epoch 47/200\n",
      " - 0s - loss: 0.5823 - accuracy: 0.7589\n",
      "Epoch 48/200\n",
      " - 0s - loss: 0.5878 - accuracy: 0.7857\n",
      "Epoch 49/200\n",
      " - 0s - loss: 0.5860 - accuracy: 0.7946\n",
      "Epoch 50/200\n",
      " - 0s - loss: 0.5622 - accuracy: 0.7679\n",
      "Epoch 51/200\n",
      " - 0s - loss: 0.5468 - accuracy: 0.8036\n",
      "Epoch 52/200\n",
      " - 0s - loss: 0.5235 - accuracy: 0.8125\n",
      "Epoch 53/200\n",
      " - 0s - loss: 0.5104 - accuracy: 0.8125\n",
      "Epoch 54/200\n",
      " - 0s - loss: 0.5443 - accuracy: 0.7857\n",
      "Epoch 55/200\n",
      " - 0s - loss: 0.5391 - accuracy: 0.7768\n",
      "Epoch 56/200\n",
      " - 0s - loss: 0.5332 - accuracy: 0.8036\n",
      "Epoch 57/200\n",
      " - 0s - loss: 0.4949 - accuracy: 0.8393\n",
      "Epoch 58/200\n",
      " - 0s - loss: 0.5132 - accuracy: 0.8125\n",
      "Epoch 59/200\n",
      " - 0s - loss: 0.5214 - accuracy: 0.7679\n",
      "Epoch 60/200\n",
      " - 0s - loss: 0.4641 - accuracy: 0.8750\n",
      "Epoch 61/200\n",
      " - 0s - loss: 0.5051 - accuracy: 0.8125\n",
      "Epoch 62/200\n",
      " - 0s - loss: 0.4934 - accuracy: 0.7768\n",
      "Epoch 63/200\n",
      " - 0s - loss: 0.4772 - accuracy: 0.8214\n",
      "Epoch 64/200\n",
      " - 0s - loss: 0.4533 - accuracy: 0.8304\n",
      "Epoch 65/200\n",
      " - 0s - loss: 0.4776 - accuracy: 0.8125\n",
      "Epoch 66/200\n",
      " - 0s - loss: 0.4329 - accuracy: 0.8750\n",
      "Epoch 67/200\n",
      " - 0s - loss: 0.4747 - accuracy: 0.8214\n",
      "Epoch 68/200\n",
      " - 0s - loss: 0.4604 - accuracy: 0.9196\n",
      "Epoch 69/200\n",
      " - 0s - loss: 0.4395 - accuracy: 0.8571\n",
      "Epoch 70/200\n",
      " - 0s - loss: 0.4406 - accuracy: 0.8661\n",
      "Epoch 71/200\n",
      " - 0s - loss: 0.4313 - accuracy: 0.8571\n",
      "Epoch 72/200\n",
      " - 0s - loss: 0.4439 - accuracy: 0.8839\n",
      "Epoch 73/200\n",
      " - 0s - loss: 0.4215 - accuracy: 0.8304\n",
      "Epoch 74/200\n",
      " - 0s - loss: 0.4181 - accuracy: 0.8661\n",
      "Epoch 75/200\n",
      " - 0s - loss: 0.4453 - accuracy: 0.8393\n",
      "Epoch 76/200\n",
      " - 0s - loss: 0.4302 - accuracy: 0.8304\n",
      "Epoch 77/200\n",
      " - 0s - loss: 0.4313 - accuracy: 0.8482\n",
      "Epoch 78/200\n",
      " - 0s - loss: 0.4238 - accuracy: 0.8214\n",
      "Epoch 79/200\n",
      " - 0s - loss: 0.4034 - accuracy: 0.8750\n",
      "Epoch 80/200\n",
      " - 0s - loss: 0.4290 - accuracy: 0.8393\n",
      "Epoch 81/200\n",
      " - 0s - loss: 0.3979 - accuracy: 0.9643\n",
      "Epoch 82/200\n",
      " - 0s - loss: 0.3950 - accuracy: 0.8571\n",
      "Epoch 83/200\n",
      " - 0s - loss: 0.3814 - accuracy: 0.8839\n",
      "Epoch 84/200\n",
      " - 0s - loss: 0.4018 - accuracy: 0.8839\n",
      "Epoch 85/200\n",
      " - 0s - loss: 0.3650 - accuracy: 0.9286\n",
      "Epoch 86/200\n",
      " - 0s - loss: 0.3976 - accuracy: 0.8929\n",
      "Epoch 87/200\n",
      " - 0s - loss: 0.3618 - accuracy: 0.9196\n",
      "Epoch 88/200\n",
      " - 0s - loss: 0.3941 - accuracy: 0.8661\n",
      "Epoch 89/200\n",
      " - 0s - loss: 0.3580 - accuracy: 0.9018\n",
      "Epoch 90/200\n",
      " - 0s - loss: 0.3939 - accuracy: 0.8839\n",
      "Epoch 91/200\n",
      " - 0s - loss: 0.3836 - accuracy: 0.9018\n",
      "Epoch 92/200\n",
      " - 0s - loss: 0.3721 - accuracy: 0.9286\n",
      "Epoch 93/200\n",
      " - 0s - loss: 0.3582 - accuracy: 0.9196\n",
      "Epoch 94/200\n",
      " - 0s - loss: 0.3664 - accuracy: 0.9018\n",
      "Epoch 95/200\n",
      " - 0s - loss: 0.3696 - accuracy: 0.9018\n",
      "Epoch 96/200\n",
      " - 0s - loss: 0.3439 - accuracy: 0.9018\n",
      "Epoch 97/200\n",
      " - 0s - loss: 0.3381 - accuracy: 0.9107\n",
      "Epoch 98/200\n",
      " - 0s - loss: 0.3710 - accuracy: 0.8571\n",
      "Epoch 99/200\n",
      " - 0s - loss: 0.3477 - accuracy: 0.9018\n",
      "Epoch 100/200\n",
      " - 0s - loss: 0.3505 - accuracy: 0.9018\n",
      "Epoch 101/200\n",
      " - 0s - loss: 0.3092 - accuracy: 0.9464\n",
      "Epoch 102/200\n",
      " - 0s - loss: 0.3364 - accuracy: 0.9018\n",
      "Epoch 103/200\n",
      " - 0s - loss: 0.3326 - accuracy: 0.9196\n",
      "Epoch 104/200\n",
      " - 0s - loss: 0.3215 - accuracy: 0.9196\n",
      "Epoch 105/200\n",
      " - 0s - loss: 0.2891 - accuracy: 0.9464\n",
      "Epoch 106/200\n",
      " - 0s - loss: 0.3388 - accuracy: 0.9107\n",
      "Epoch 107/200\n",
      " - 0s - loss: 0.3036 - accuracy: 0.9196\n",
      "Epoch 108/200\n",
      " - 0s - loss: 0.3145 - accuracy: 0.9107\n",
      "Epoch 109/200\n",
      " - 0s - loss: 0.3280 - accuracy: 0.9286\n",
      "Epoch 110/200\n",
      " - 0s - loss: 0.3190 - accuracy: 0.9107\n",
      "Epoch 111/200\n",
      " - 0s - loss: 0.2980 - accuracy: 0.9375\n",
      "Epoch 112/200\n",
      " - 0s - loss: 0.2899 - accuracy: 0.9464\n",
      "Epoch 113/200\n",
      " - 0s - loss: 0.3150 - accuracy: 0.8929\n",
      "Epoch 114/200\n",
      " - 0s - loss: 0.3028 - accuracy: 0.9107\n",
      "Epoch 115/200\n",
      " - 0s - loss: 0.2997 - accuracy: 0.9464\n",
      "Epoch 116/200\n",
      " - 0s - loss: 0.2818 - accuracy: 0.9196\n",
      "Epoch 117/200\n",
      " - 0s - loss: 0.3008 - accuracy: 0.9196\n",
      "Epoch 118/200\n",
      " - 0s - loss: 0.2842 - accuracy: 0.9554\n",
      "Epoch 119/200\n",
      " - 0s - loss: 0.2710 - accuracy: 0.9732\n",
      "Epoch 120/200\n",
      " - 0s - loss: 0.2762 - accuracy: 0.9107\n",
      "Epoch 121/200\n",
      " - 0s - loss: 0.2893 - accuracy: 0.9196\n",
      "Epoch 122/200\n",
      " - 0s - loss: 0.3069 - accuracy: 0.8839\n",
      "Epoch 123/200\n",
      " - 0s - loss: 0.2695 - accuracy: 0.9286\n",
      "Epoch 124/200\n",
      " - 0s - loss: 0.2835 - accuracy: 0.9554\n",
      "Epoch 125/200\n",
      " - 0s - loss: 0.2898 - accuracy: 0.9107\n",
      "Epoch 126/200\n",
      " - 0s - loss: 0.2714 - accuracy: 0.9375\n",
      "Epoch 127/200\n",
      " - 0s - loss: 0.2603 - accuracy: 0.9375\n",
      "Epoch 128/200\n",
      " - 0s - loss: 0.3056 - accuracy: 0.9018\n",
      "Epoch 129/200\n",
      " - 0s - loss: 0.2547 - accuracy: 0.9464\n",
      "Epoch 130/200\n",
      " - 0s - loss: 0.2784 - accuracy: 0.9643\n",
      "Epoch 131/200\n",
      " - 0s - loss: 0.2726 - accuracy: 0.9196\n",
      "Epoch 132/200\n",
      " - 0s - loss: 0.2784 - accuracy: 0.9107\n",
      "Epoch 133/200\n",
      " - 0s - loss: 0.2570 - accuracy: 0.9643\n",
      "Epoch 134/200\n",
      " - 0s - loss: 0.2684 - accuracy: 0.9196\n",
      "Epoch 135/200\n",
      " - 0s - loss: 0.2708 - accuracy: 0.9464\n",
      "Epoch 136/200\n",
      " - 0s - loss: 0.2446 - accuracy: 0.9196\n",
      "Epoch 137/200\n",
      " - 0s - loss: 0.2332 - accuracy: 0.9018\n",
      "Epoch 138/200\n",
      " - 0s - loss: 0.2444 - accuracy: 0.9732\n",
      "Epoch 139/200\n",
      " - 0s - loss: 0.2571 - accuracy: 0.9464\n",
      "Epoch 140/200\n",
      " - 0s - loss: 0.2702 - accuracy: 0.9196\n",
      "Epoch 141/200\n",
      " - 0s - loss: 0.2533 - accuracy: 0.9018\n",
      "Epoch 142/200\n",
      " - 0s - loss: 0.2373 - accuracy: 0.9554\n",
      "Epoch 143/200\n",
      " - 0s - loss: 0.2343 - accuracy: 0.9286\n",
      "Epoch 144/200\n",
      " - 0s - loss: 0.2364 - accuracy: 0.9554\n",
      "Epoch 145/200\n",
      " - 0s - loss: 0.2437 - accuracy: 0.9286\n",
      "Epoch 146/200\n",
      " - 0s - loss: 0.2532 - accuracy: 0.9107\n",
      "Epoch 147/200\n",
      " - 0s - loss: 0.2224 - accuracy: 0.9375\n",
      "Epoch 148/200\n",
      " - 0s - loss: 0.2228 - accuracy: 0.9643\n",
      "Epoch 149/200\n",
      " - 0s - loss: 0.2330 - accuracy: 0.9286\n",
      "Epoch 150/200\n",
      " - 0s - loss: 0.2008 - accuracy: 0.9375\n",
      "Epoch 151/200\n",
      " - 0s - loss: 0.2240 - accuracy: 0.9554\n",
      "Epoch 152/200\n",
      " - 0s - loss: 0.2374 - accuracy: 0.9554\n",
      "Epoch 153/200\n",
      " - 0s - loss: 0.2207 - accuracy: 0.9554\n",
      "Epoch 154/200\n",
      " - 0s - loss: 0.2101 - accuracy: 0.9464\n"
     ]
    },
    {
     "name": "stdout",
     "output_type": "stream",
     "text": [
      "Epoch 155/200\n",
      " - 0s - loss: 0.2118 - accuracy: 0.9196\n",
      "Epoch 156/200\n",
      " - 0s - loss: 0.1956 - accuracy: 0.9643\n",
      "Epoch 157/200\n",
      " - 0s - loss: 0.2089 - accuracy: 0.9554\n",
      "Epoch 158/200\n",
      " - 0s - loss: 0.2051 - accuracy: 0.9554\n",
      "Epoch 159/200\n",
      " - 0s - loss: 0.1884 - accuracy: 0.9643\n",
      "Epoch 160/200\n",
      " - 0s - loss: 0.2102 - accuracy: 0.9464\n",
      "Epoch 161/200\n",
      " - 0s - loss: 0.2213 - accuracy: 0.9196\n",
      "Epoch 162/200\n",
      " - 0s - loss: 0.2064 - accuracy: 0.9464\n",
      "Epoch 163/200\n",
      " - 0s - loss: 0.2008 - accuracy: 0.9732\n",
      "Epoch 164/200\n",
      " - 0s - loss: 0.2142 - accuracy: 0.9643\n",
      "Epoch 165/200\n",
      " - 0s - loss: 0.2068 - accuracy: 0.9643\n",
      "Epoch 166/200\n",
      " - 0s - loss: 0.2218 - accuracy: 0.9196\n",
      "Epoch 167/200\n",
      " - 0s - loss: 0.2031 - accuracy: 0.9375\n",
      "Epoch 168/200\n",
      " - 0s - loss: 0.2039 - accuracy: 0.9286\n",
      "Epoch 169/200\n",
      " - 0s - loss: 0.2189 - accuracy: 0.9464\n",
      "Epoch 170/200\n",
      " - 0s - loss: 0.2085 - accuracy: 0.9375\n",
      "Epoch 171/200\n",
      " - 0s - loss: 0.1708 - accuracy: 0.9643\n",
      "Epoch 172/200\n",
      " - 0s - loss: 0.1806 - accuracy: 0.9554\n",
      "Epoch 173/200\n",
      " - 0s - loss: 0.2022 - accuracy: 0.9464\n",
      "Epoch 174/200\n",
      " - 0s - loss: 0.2131 - accuracy: 0.9286\n",
      "Epoch 175/200\n",
      " - 0s - loss: 0.1991 - accuracy: 0.9196\n",
      "Epoch 176/200\n",
      " - 0s - loss: 0.2154 - accuracy: 0.8929\n",
      "Epoch 177/200\n",
      " - 0s - loss: 0.1853 - accuracy: 0.9375\n",
      "Epoch 178/200\n",
      " - 0s - loss: 0.1717 - accuracy: 0.9464\n",
      "Epoch 179/200\n",
      " - 0s - loss: 0.1957 - accuracy: 0.9196\n",
      "Epoch 180/200\n",
      " - 0s - loss: 0.1908 - accuracy: 0.9375\n",
      "Epoch 181/200\n",
      " - 0s - loss: 0.1956 - accuracy: 0.9464\n",
      "Epoch 182/200\n",
      " - 0s - loss: 0.2095 - accuracy: 0.9286\n",
      "Epoch 183/200\n",
      " - 0s - loss: 0.1928 - accuracy: 0.9554\n",
      "Epoch 184/200\n",
      " - 0s - loss: 0.1793 - accuracy: 0.9554\n",
      "Epoch 185/200\n",
      " - 0s - loss: 0.1848 - accuracy: 0.9464\n",
      "Epoch 186/200\n",
      " - 0s - loss: 0.1776 - accuracy: 0.9732\n",
      "Epoch 187/200\n",
      " - 0s - loss: 0.1888 - accuracy: 0.9554\n",
      "Epoch 188/200\n",
      " - 0s - loss: 0.1805 - accuracy: 0.9554\n",
      "Epoch 189/200\n",
      " - 0s - loss: 0.1744 - accuracy: 0.9554\n",
      "Epoch 190/200\n",
      " - 0s - loss: 0.2162 - accuracy: 0.9375\n",
      "Epoch 191/200\n",
      " - 0s - loss: 0.1641 - accuracy: 0.9732\n",
      "Epoch 192/200\n",
      " - 0s - loss: 0.1581 - accuracy: 0.9643\n",
      "Epoch 193/200\n",
      " - 0s - loss: 0.1785 - accuracy: 0.9375\n",
      "Epoch 194/200\n",
      " - 0s - loss: 0.2081 - accuracy: 0.9107\n",
      "Epoch 195/200\n",
      " - 0s - loss: 0.2089 - accuracy: 0.9196\n",
      "Epoch 196/200\n",
      " - 0s - loss: 0.1628 - accuracy: 0.9643\n",
      "Epoch 197/200\n",
      " - 0s - loss: 0.1736 - accuracy: 0.9643\n",
      "Epoch 198/200\n",
      " - 0s - loss: 0.1645 - accuracy: 0.9464\n",
      "Epoch 199/200\n",
      " - 0s - loss: 0.1675 - accuracy: 0.9554\n",
      "Epoch 200/200\n",
      " - 0s - loss: 0.1838 - accuracy: 0.9643\n"
     ]
    },
    {
     "data": {
      "text/plain": [
       "<keras.callbacks.callbacks.History at 0x163d3947d88>"
      ]
     },
     "execution_count": 135,
     "metadata": {},
     "output_type": "execute_result"
    }
   ],
   "source": [
    "model.fit(scaled_X_train,y_train,epochs=200,verbose=2)"
   ]
  },
  {
   "cell_type": "markdown",
   "id": "0a76a5d3",
   "metadata": {},
   "source": [
    "## Evaluate the model"
   ]
  },
  {
   "cell_type": "code",
   "execution_count": 137,
   "id": "5a085494",
   "metadata": {},
   "outputs": [
    {
     "name": "stdout",
     "output_type": "stream",
     "text": [
      "38/38 [==============================] - 0s 2ms/step\n"
     ]
    },
    {
     "data": {
      "text/plain": [
       "[0.11282200052549965, 0.9736841917037964]"
      ]
     },
     "execution_count": 137,
     "metadata": {},
     "output_type": "execute_result"
    }
   ],
   "source": [
    "model.evaluate(scaled_X_test,y_test)"
   ]
  },
  {
   "cell_type": "code",
   "execution_count": 140,
   "id": "22a601bd",
   "metadata": {},
   "outputs": [
    {
     "data": {
      "text/plain": [
       "['loss', 'accuracy']"
      ]
     },
     "execution_count": 140,
     "metadata": {},
     "output_type": "execute_result"
    }
   ],
   "source": [
    "model.metrics_names"
   ]
  },
  {
   "cell_type": "code",
   "execution_count": 141,
   "id": "f9012e86",
   "metadata": {},
   "outputs": [],
   "source": [
    "predictions=model.predict_classes(scaled_X_test)"
   ]
  },
  {
   "cell_type": "code",
   "execution_count": 142,
   "id": "4a23a9c9",
   "metadata": {},
   "outputs": [],
   "source": [
    "from sklearn.metrics import classification_report,confusion_matrix"
   ]
  },
  {
   "cell_type": "code",
   "execution_count": 143,
   "id": "810ec9e6",
   "metadata": {},
   "outputs": [
    {
     "name": "stdout",
     "output_type": "stream",
     "text": [
      "              precision    recall  f1-score   support\n",
      "\n",
      "           0       1.00      1.00      1.00        15\n",
      "           1       1.00      0.91      0.95        11\n",
      "           2       0.92      1.00      0.96        12\n",
      "\n",
      "   micro avg       0.97      0.97      0.97        38\n",
      "   macro avg       0.97      0.97      0.97        38\n",
      "weighted avg       0.98      0.97      0.97        38\n",
      "\n"
     ]
    }
   ],
   "source": [
    "print(classification_report(y_test.argmax(axis=1),predictions))"
   ]
  },
  {
   "cell_type": "code",
   "execution_count": 144,
   "id": "371dd103",
   "metadata": {},
   "outputs": [
    {
     "data": {
      "text/plain": [
       "array([[15,  0,  0],\n",
       "       [ 0, 10,  1],\n",
       "       [ 0,  0, 12]], dtype=int64)"
      ]
     },
     "execution_count": 144,
     "metadata": {},
     "output_type": "execute_result"
    }
   ],
   "source": [
    "confusion_matrix(y_test.argmax(axis=1),predictions)"
   ]
  },
  {
   "cell_type": "code",
   "execution_count": 145,
   "id": "776c7e85",
   "metadata": {},
   "outputs": [
    {
     "data": {
      "text/html": [
       "<div>\n",
       "<style scoped>\n",
       "    .dataframe tbody tr th:only-of-type {\n",
       "        vertical-align: middle;\n",
       "    }\n",
       "\n",
       "    .dataframe tbody tr th {\n",
       "        vertical-align: top;\n",
       "    }\n",
       "\n",
       "    .dataframe thead th {\n",
       "        text-align: right;\n",
       "    }\n",
       "</style>\n",
       "<table border=\"1\" class=\"dataframe\">\n",
       "  <thead>\n",
       "    <tr style=\"text-align: right;\">\n",
       "      <th></th>\n",
       "      <th>0</th>\n",
       "      <th>1</th>\n",
       "      <th>2</th>\n",
       "    </tr>\n",
       "  </thead>\n",
       "  <tbody>\n",
       "    <tr>\n",
       "      <th>0</th>\n",
       "      <td>15</td>\n",
       "      <td>0</td>\n",
       "      <td>0</td>\n",
       "    </tr>\n",
       "    <tr>\n",
       "      <th>1</th>\n",
       "      <td>0</td>\n",
       "      <td>10</td>\n",
       "      <td>1</td>\n",
       "    </tr>\n",
       "    <tr>\n",
       "      <th>2</th>\n",
       "      <td>0</td>\n",
       "      <td>0</td>\n",
       "      <td>12</td>\n",
       "    </tr>\n",
       "  </tbody>\n",
       "</table>\n",
       "</div>"
      ],
      "text/plain": [
       "    0   1   2\n",
       "0  15   0   0\n",
       "1   0  10   1\n",
       "2   0   0  12"
      ]
     },
     "execution_count": 145,
     "metadata": {},
     "output_type": "execute_result"
    }
   ],
   "source": [
    "df=pd.DataFrame(confusion_matrix(y_test.argmax(axis=1),predictions),index=[0,1,2],columns=[0,1,2])\n",
    "df"
   ]
  },
  {
   "cell_type": "markdown",
   "id": "28889a54",
   "metadata": {},
   "source": [
    "## So our Keras model is working fantastically with an accuracy of around 97% which is great to start with"
   ]
  },
  {
   "cell_type": "code",
   "execution_count": null,
   "id": "e3b2a824",
   "metadata": {},
   "outputs": [],
   "source": []
  }
 ],
 "metadata": {
  "kernelspec": {
   "display_name": "Python 3",
   "language": "python",
   "name": "python3"
  },
  "language_info": {
   "codemirror_mode": {
    "name": "ipython",
    "version": 3
   },
   "file_extension": ".py",
   "mimetype": "text/x-python",
   "name": "python",
   "nbconvert_exporter": "python",
   "pygments_lexer": "ipython3",
   "version": "3.7.10"
  }
 },
 "nbformat": 4,
 "nbformat_minor": 5
}
