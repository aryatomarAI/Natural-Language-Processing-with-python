{
  "nbformat": 4,
  "nbformat_minor": 5,
  "metadata": {
    "kernelspec": {
      "display_name": "Python 3",
      "language": "python",
      "name": "python3"
    },
    "language_info": {
      "codemirror_mode": {
        "name": "ipython",
        "version": 3
      },
      "file_extension": ".py",
      "mimetype": "text/x-python",
      "name": "python",
      "nbconvert_exporter": "python",
      "pygments_lexer": "ipython3",
      "version": "3.7.10"
    },
    "colab": {
      "name": "Chat-Bots_colab.ipynb",
      "provenance": [],
      "collapsed_sections": [
        "e1169942"
      ],
      "include_colab_link": true
    },
    "accelerator": "GPU"
  },
  "cells": [
    {
      "cell_type": "markdown",
      "metadata": {
        "id": "view-in-github",
        "colab_type": "text"
      },
      "source": [
        "<a href=\"https://colab.research.google.com/github/aryatomarAI/Natural-Language-Processing-with-python/blob/main/Deep-Learning-(-NLP-Project-)/Chat_Bots_colab.ipynb\" target=\"_parent\"><img src=\"https://colab.research.google.com/assets/colab-badge.svg\" alt=\"Open In Colab\"/></a>"
      ]
    },
    {
      "cell_type": "markdown",
      "metadata": {
        "id": "e071cc2d"
      },
      "source": [
        "# Question and Answer Chat Bots\n",
        "In this Project we will Build Q&A Chat bots which will study a story and when asked a question will reply in Yes or No according to the situation in the story."
      ],
      "id": "e071cc2d"
    },
    {
      "cell_type": "markdown",
      "metadata": {
        "id": "3c439563"
      },
      "source": [
        "## Data\n",
        "We will use BaBi dataset of facebook for this project\n",
        "\n",
        "Full Details: https://research.fb.com/downloads/babi/\n",
        "\n",
        "## Algorithm \n",
        "We will use End-to-End Memory Networks for this project\n",
        "\n",
        "Full Details: https://arxiv.org/abs/1503.08895"
      ],
      "id": "3c439563"
    },
    {
      "cell_type": "markdown",
      "metadata": {
        "id": "3cb67f07"
      },
      "source": [
        "## Now let's load the data and import all the tools needed"
      ],
      "id": "3cb67f07"
    },
    {
      "cell_type": "code",
      "metadata": {
        "colab": {
          "base_uri": "https://localhost:8080/"
        },
        "id": "EFwn9mlbMmSy",
        "outputId": "7ac28983-6c05-40f1-e825-08de60bbb80a"
      },
      "source": [
        "from google.colab import drive\n",
        "drive.mount(\"/content/drive\")"
      ],
      "id": "EFwn9mlbMmSy",
      "execution_count": 1,
      "outputs": [
        {
          "output_type": "stream",
          "text": [
            "Mounted at /content/drive\n"
          ],
          "name": "stdout"
        }
      ]
    },
    {
      "cell_type": "code",
      "metadata": {
        "id": "b73a728b"
      },
      "source": [
        "import numpy as np\n",
        "import pickle"
      ],
      "id": "b73a728b",
      "execution_count": 2,
      "outputs": []
    },
    {
      "cell_type": "markdown",
      "metadata": {
        "id": "caf59530"
      },
      "source": [
        "### load the training data "
      ],
      "id": "caf59530"
    },
    {
      "cell_type": "code",
      "metadata": {
        "id": "c6ce29d4"
      },
      "source": [
        "with open(\"drive/MyDrive/train_qa.txt\",\"rb\") as f:\n",
        "    train_data=pickle.load(f)"
      ],
      "id": "c6ce29d4",
      "execution_count": 3,
      "outputs": []
    },
    {
      "cell_type": "code",
      "metadata": {
        "colab": {
          "base_uri": "https://localhost:8080/"
        },
        "id": "ed8ca4ae",
        "outputId": "82a30333-e46f-4a4f-a3fe-f1ef0fede6fc"
      },
      "source": [
        "train_data[:6]"
      ],
      "id": "ed8ca4ae",
      "execution_count": 4,
      "outputs": [
        {
          "output_type": "execute_result",
          "data": {
            "text/plain": [
              "[(['Mary',\n",
              "   'moved',\n",
              "   'to',\n",
              "   'the',\n",
              "   'bathroom',\n",
              "   '.',\n",
              "   'Sandra',\n",
              "   'journeyed',\n",
              "   'to',\n",
              "   'the',\n",
              "   'bedroom',\n",
              "   '.'],\n",
              "  ['Is', 'Sandra', 'in', 'the', 'hallway', '?'],\n",
              "  'no'),\n",
              " (['Mary',\n",
              "   'moved',\n",
              "   'to',\n",
              "   'the',\n",
              "   'bathroom',\n",
              "   '.',\n",
              "   'Sandra',\n",
              "   'journeyed',\n",
              "   'to',\n",
              "   'the',\n",
              "   'bedroom',\n",
              "   '.',\n",
              "   'Mary',\n",
              "   'went',\n",
              "   'back',\n",
              "   'to',\n",
              "   'the',\n",
              "   'bedroom',\n",
              "   '.',\n",
              "   'Daniel',\n",
              "   'went',\n",
              "   'back',\n",
              "   'to',\n",
              "   'the',\n",
              "   'hallway',\n",
              "   '.'],\n",
              "  ['Is', 'Daniel', 'in', 'the', 'bathroom', '?'],\n",
              "  'no'),\n",
              " (['Mary',\n",
              "   'moved',\n",
              "   'to',\n",
              "   'the',\n",
              "   'bathroom',\n",
              "   '.',\n",
              "   'Sandra',\n",
              "   'journeyed',\n",
              "   'to',\n",
              "   'the',\n",
              "   'bedroom',\n",
              "   '.',\n",
              "   'Mary',\n",
              "   'went',\n",
              "   'back',\n",
              "   'to',\n",
              "   'the',\n",
              "   'bedroom',\n",
              "   '.',\n",
              "   'Daniel',\n",
              "   'went',\n",
              "   'back',\n",
              "   'to',\n",
              "   'the',\n",
              "   'hallway',\n",
              "   '.',\n",
              "   'Sandra',\n",
              "   'went',\n",
              "   'to',\n",
              "   'the',\n",
              "   'kitchen',\n",
              "   '.',\n",
              "   'Daniel',\n",
              "   'went',\n",
              "   'back',\n",
              "   'to',\n",
              "   'the',\n",
              "   'bathroom',\n",
              "   '.'],\n",
              "  ['Is', 'Daniel', 'in', 'the', 'office', '?'],\n",
              "  'no'),\n",
              " (['Mary',\n",
              "   'moved',\n",
              "   'to',\n",
              "   'the',\n",
              "   'bathroom',\n",
              "   '.',\n",
              "   'Sandra',\n",
              "   'journeyed',\n",
              "   'to',\n",
              "   'the',\n",
              "   'bedroom',\n",
              "   '.',\n",
              "   'Mary',\n",
              "   'went',\n",
              "   'back',\n",
              "   'to',\n",
              "   'the',\n",
              "   'bedroom',\n",
              "   '.',\n",
              "   'Daniel',\n",
              "   'went',\n",
              "   'back',\n",
              "   'to',\n",
              "   'the',\n",
              "   'hallway',\n",
              "   '.',\n",
              "   'Sandra',\n",
              "   'went',\n",
              "   'to',\n",
              "   'the',\n",
              "   'kitchen',\n",
              "   '.',\n",
              "   'Daniel',\n",
              "   'went',\n",
              "   'back',\n",
              "   'to',\n",
              "   'the',\n",
              "   'bathroom',\n",
              "   '.',\n",
              "   'Daniel',\n",
              "   'picked',\n",
              "   'up',\n",
              "   'the',\n",
              "   'football',\n",
              "   'there',\n",
              "   '.',\n",
              "   'Daniel',\n",
              "   'went',\n",
              "   'to',\n",
              "   'the',\n",
              "   'bedroom',\n",
              "   '.'],\n",
              "  ['Is', 'Daniel', 'in', 'the', 'bedroom', '?'],\n",
              "  'yes'),\n",
              " (['Mary',\n",
              "   'moved',\n",
              "   'to',\n",
              "   'the',\n",
              "   'bathroom',\n",
              "   '.',\n",
              "   'Sandra',\n",
              "   'journeyed',\n",
              "   'to',\n",
              "   'the',\n",
              "   'bedroom',\n",
              "   '.',\n",
              "   'Mary',\n",
              "   'went',\n",
              "   'back',\n",
              "   'to',\n",
              "   'the',\n",
              "   'bedroom',\n",
              "   '.',\n",
              "   'Daniel',\n",
              "   'went',\n",
              "   'back',\n",
              "   'to',\n",
              "   'the',\n",
              "   'hallway',\n",
              "   '.',\n",
              "   'Sandra',\n",
              "   'went',\n",
              "   'to',\n",
              "   'the',\n",
              "   'kitchen',\n",
              "   '.',\n",
              "   'Daniel',\n",
              "   'went',\n",
              "   'back',\n",
              "   'to',\n",
              "   'the',\n",
              "   'bathroom',\n",
              "   '.',\n",
              "   'Daniel',\n",
              "   'picked',\n",
              "   'up',\n",
              "   'the',\n",
              "   'football',\n",
              "   'there',\n",
              "   '.',\n",
              "   'Daniel',\n",
              "   'went',\n",
              "   'to',\n",
              "   'the',\n",
              "   'bedroom',\n",
              "   '.',\n",
              "   'John',\n",
              "   'travelled',\n",
              "   'to',\n",
              "   'the',\n",
              "   'office',\n",
              "   '.',\n",
              "   'Sandra',\n",
              "   'went',\n",
              "   'to',\n",
              "   'the',\n",
              "   'garden',\n",
              "   '.'],\n",
              "  ['Is', 'Daniel', 'in', 'the', 'bedroom', '?'],\n",
              "  'yes'),\n",
              " (['Sandra',\n",
              "   'got',\n",
              "   'the',\n",
              "   'football',\n",
              "   'there',\n",
              "   '.',\n",
              "   'Mary',\n",
              "   'went',\n",
              "   'to',\n",
              "   'the',\n",
              "   'bedroom',\n",
              "   '.'],\n",
              "  ['Is', 'Mary', 'in', 'the', 'bedroom', '?'],\n",
              "  'yes')]"
            ]
          },
          "metadata": {},
          "execution_count": 4
        }
      ]
    },
    {
      "cell_type": "markdown",
      "metadata": {
        "id": "8729bbd5"
      },
      "source": [
        "### load the testing data"
      ],
      "id": "8729bbd5"
    },
    {
      "cell_type": "code",
      "metadata": {
        "id": "d369e461"
      },
      "source": [
        "with open(\"drive/MyDrive/test_qa.txt\",\"rb\") as f:\n",
        "    test_data=pickle.load(f)"
      ],
      "id": "d369e461",
      "execution_count": 5,
      "outputs": []
    },
    {
      "cell_type": "code",
      "metadata": {
        "colab": {
          "base_uri": "https://localhost:8080/"
        },
        "id": "2f74b707",
        "outputId": "3089ca9b-67e5-41d0-f1ed-4cf46c17f8da"
      },
      "source": [
        "test_data[:6]"
      ],
      "id": "2f74b707",
      "execution_count": 6,
      "outputs": [
        {
          "output_type": "execute_result",
          "data": {
            "text/plain": [
              "[(['Mary',\n",
              "   'got',\n",
              "   'the',\n",
              "   'milk',\n",
              "   'there',\n",
              "   '.',\n",
              "   'John',\n",
              "   'moved',\n",
              "   'to',\n",
              "   'the',\n",
              "   'bedroom',\n",
              "   '.'],\n",
              "  ['Is', 'John', 'in', 'the', 'kitchen', '?'],\n",
              "  'no'),\n",
              " (['Mary',\n",
              "   'got',\n",
              "   'the',\n",
              "   'milk',\n",
              "   'there',\n",
              "   '.',\n",
              "   'John',\n",
              "   'moved',\n",
              "   'to',\n",
              "   'the',\n",
              "   'bedroom',\n",
              "   '.',\n",
              "   'Mary',\n",
              "   'discarded',\n",
              "   'the',\n",
              "   'milk',\n",
              "   '.',\n",
              "   'John',\n",
              "   'went',\n",
              "   'to',\n",
              "   'the',\n",
              "   'garden',\n",
              "   '.'],\n",
              "  ['Is', 'John', 'in', 'the', 'kitchen', '?'],\n",
              "  'no'),\n",
              " (['Mary',\n",
              "   'got',\n",
              "   'the',\n",
              "   'milk',\n",
              "   'there',\n",
              "   '.',\n",
              "   'John',\n",
              "   'moved',\n",
              "   'to',\n",
              "   'the',\n",
              "   'bedroom',\n",
              "   '.',\n",
              "   'Mary',\n",
              "   'discarded',\n",
              "   'the',\n",
              "   'milk',\n",
              "   '.',\n",
              "   'John',\n",
              "   'went',\n",
              "   'to',\n",
              "   'the',\n",
              "   'garden',\n",
              "   '.',\n",
              "   'Daniel',\n",
              "   'moved',\n",
              "   'to',\n",
              "   'the',\n",
              "   'bedroom',\n",
              "   '.',\n",
              "   'Daniel',\n",
              "   'went',\n",
              "   'to',\n",
              "   'the',\n",
              "   'garden',\n",
              "   '.'],\n",
              "  ['Is', 'John', 'in', 'the', 'garden', '?'],\n",
              "  'yes'),\n",
              " (['Mary',\n",
              "   'got',\n",
              "   'the',\n",
              "   'milk',\n",
              "   'there',\n",
              "   '.',\n",
              "   'John',\n",
              "   'moved',\n",
              "   'to',\n",
              "   'the',\n",
              "   'bedroom',\n",
              "   '.',\n",
              "   'Mary',\n",
              "   'discarded',\n",
              "   'the',\n",
              "   'milk',\n",
              "   '.',\n",
              "   'John',\n",
              "   'went',\n",
              "   'to',\n",
              "   'the',\n",
              "   'garden',\n",
              "   '.',\n",
              "   'Daniel',\n",
              "   'moved',\n",
              "   'to',\n",
              "   'the',\n",
              "   'bedroom',\n",
              "   '.',\n",
              "   'Daniel',\n",
              "   'went',\n",
              "   'to',\n",
              "   'the',\n",
              "   'garden',\n",
              "   '.',\n",
              "   'Daniel',\n",
              "   'travelled',\n",
              "   'to',\n",
              "   'the',\n",
              "   'bathroom',\n",
              "   '.',\n",
              "   'Sandra',\n",
              "   'travelled',\n",
              "   'to',\n",
              "   'the',\n",
              "   'bedroom',\n",
              "   '.'],\n",
              "  ['Is', 'Daniel', 'in', 'the', 'bathroom', '?'],\n",
              "  'yes'),\n",
              " (['Mary',\n",
              "   'got',\n",
              "   'the',\n",
              "   'milk',\n",
              "   'there',\n",
              "   '.',\n",
              "   'John',\n",
              "   'moved',\n",
              "   'to',\n",
              "   'the',\n",
              "   'bedroom',\n",
              "   '.',\n",
              "   'Mary',\n",
              "   'discarded',\n",
              "   'the',\n",
              "   'milk',\n",
              "   '.',\n",
              "   'John',\n",
              "   'went',\n",
              "   'to',\n",
              "   'the',\n",
              "   'garden',\n",
              "   '.',\n",
              "   'Daniel',\n",
              "   'moved',\n",
              "   'to',\n",
              "   'the',\n",
              "   'bedroom',\n",
              "   '.',\n",
              "   'Daniel',\n",
              "   'went',\n",
              "   'to',\n",
              "   'the',\n",
              "   'garden',\n",
              "   '.',\n",
              "   'Daniel',\n",
              "   'travelled',\n",
              "   'to',\n",
              "   'the',\n",
              "   'bathroom',\n",
              "   '.',\n",
              "   'Sandra',\n",
              "   'travelled',\n",
              "   'to',\n",
              "   'the',\n",
              "   'bedroom',\n",
              "   '.',\n",
              "   'Mary',\n",
              "   'took',\n",
              "   'the',\n",
              "   'football',\n",
              "   'there',\n",
              "   '.',\n",
              "   'Sandra',\n",
              "   'grabbed',\n",
              "   'the',\n",
              "   'milk',\n",
              "   'there',\n",
              "   '.'],\n",
              "  ['Is', 'Daniel', 'in', 'the', 'bedroom', '?'],\n",
              "  'no'),\n",
              " (['Daniel',\n",
              "   'went',\n",
              "   'back',\n",
              "   'to',\n",
              "   'the',\n",
              "   'kitchen',\n",
              "   '.',\n",
              "   'Mary',\n",
              "   'grabbed',\n",
              "   'the',\n",
              "   'apple',\n",
              "   'there',\n",
              "   '.'],\n",
              "  ['Is', 'Daniel', 'in', 'the', 'office', '?'],\n",
              "  'no')]"
            ]
          },
          "metadata": {},
          "execution_count": 6
        }
      ]
    },
    {
      "cell_type": "code",
      "metadata": {
        "colab": {
          "base_uri": "https://localhost:8080/"
        },
        "id": "e73f2079",
        "outputId": "b20f048a-b2b4-470d-f990-ec4b3db63704"
      },
      "source": [
        "len(train_data)"
      ],
      "id": "e73f2079",
      "execution_count": 7,
      "outputs": [
        {
          "output_type": "execute_result",
          "data": {
            "text/plain": [
              "10000"
            ]
          },
          "metadata": {},
          "execution_count": 7
        }
      ]
    },
    {
      "cell_type": "code",
      "metadata": {
        "colab": {
          "base_uri": "https://localhost:8080/"
        },
        "id": "e272f045",
        "outputId": "7c42d6d4-8e08-45d8-c356-56b350152cc2"
      },
      "source": [
        "len(test_data)"
      ],
      "id": "e272f045",
      "execution_count": 8,
      "outputs": [
        {
          "output_type": "execute_result",
          "data": {
            "text/plain": [
              "1000"
            ]
          },
          "metadata": {},
          "execution_count": 8
        }
      ]
    },
    {
      "cell_type": "markdown",
      "metadata": {
        "id": "515958bf"
      },
      "source": [
        "## Now let's try to grab the story part, question part and answer part from the data"
      ],
      "id": "515958bf"
    },
    {
      "cell_type": "code",
      "metadata": {
        "colab": {
          "base_uri": "https://localhost:8080/"
        },
        "id": "cfcbcba5",
        "outputId": "d4ff2970-222e-42a5-e614-4ec10de46509"
      },
      "source": [
        "train_data[0]  # This is the first item of the list"
      ],
      "id": "cfcbcba5",
      "execution_count": 9,
      "outputs": [
        {
          "output_type": "execute_result",
          "data": {
            "text/plain": [
              "(['Mary',\n",
              "  'moved',\n",
              "  'to',\n",
              "  'the',\n",
              "  'bathroom',\n",
              "  '.',\n",
              "  'Sandra',\n",
              "  'journeyed',\n",
              "  'to',\n",
              "  'the',\n",
              "  'bedroom',\n",
              "  '.'],\n",
              " ['Is', 'Sandra', 'in', 'the', 'hallway', '?'],\n",
              " 'no')"
            ]
          },
          "metadata": {},
          "execution_count": 9
        }
      ]
    },
    {
      "cell_type": "code",
      "metadata": {
        "colab": {
          "base_uri": "https://localhost:8080/"
        },
        "id": "4e219abc",
        "outputId": "b087157f-a181-490a-8bd8-fd78ea9b388d"
      },
      "source": [
        "train_data[0][0]   # This the story part of the first item"
      ],
      "id": "4e219abc",
      "execution_count": 10,
      "outputs": [
        {
          "output_type": "execute_result",
          "data": {
            "text/plain": [
              "['Mary',\n",
              " 'moved',\n",
              " 'to',\n",
              " 'the',\n",
              " 'bathroom',\n",
              " '.',\n",
              " 'Sandra',\n",
              " 'journeyed',\n",
              " 'to',\n",
              " 'the',\n",
              " 'bedroom',\n",
              " '.']"
            ]
          },
          "metadata": {},
          "execution_count": 10
        }
      ]
    },
    {
      "cell_type": "code",
      "metadata": {
        "colab": {
          "base_uri": "https://localhost:8080/",
          "height": 35
        },
        "id": "6a0a1465",
        "outputId": "7656be79-9de4-450c-fcb1-57efd7708de8"
      },
      "source": [
        "\" \".join(train_data[0][0])"
      ],
      "id": "6a0a1465",
      "execution_count": 11,
      "outputs": [
        {
          "output_type": "execute_result",
          "data": {
            "application/vnd.google.colaboratory.intrinsic+json": {
              "type": "string"
            },
            "text/plain": [
              "'Mary moved to the bathroom . Sandra journeyed to the bedroom .'"
            ]
          },
          "metadata": {},
          "execution_count": 11
        }
      ]
    },
    {
      "cell_type": "code",
      "metadata": {
        "colab": {
          "base_uri": "https://localhost:8080/"
        },
        "id": "271cbf36",
        "outputId": "f1859948-cf13-4bd8-a3e1-aad5e96182d1"
      },
      "source": [
        "train_data[0][1]   # This is the question part of the first item"
      ],
      "id": "271cbf36",
      "execution_count": 12,
      "outputs": [
        {
          "output_type": "execute_result",
          "data": {
            "text/plain": [
              "['Is', 'Sandra', 'in', 'the', 'hallway', '?']"
            ]
          },
          "metadata": {},
          "execution_count": 12
        }
      ]
    },
    {
      "cell_type": "code",
      "metadata": {
        "colab": {
          "base_uri": "https://localhost:8080/",
          "height": 35
        },
        "id": "bb009fa7",
        "outputId": "daf9440f-5b8a-43d3-f8a3-058578ba34b7"
      },
      "source": [
        "\" \".join(train_data[0][1])"
      ],
      "id": "bb009fa7",
      "execution_count": 13,
      "outputs": [
        {
          "output_type": "execute_result",
          "data": {
            "application/vnd.google.colaboratory.intrinsic+json": {
              "type": "string"
            },
            "text/plain": [
              "'Is Sandra in the hallway ?'"
            ]
          },
          "metadata": {},
          "execution_count": 13
        }
      ]
    },
    {
      "cell_type": "code",
      "metadata": {
        "colab": {
          "base_uri": "https://localhost:8080/",
          "height": 35
        },
        "id": "f9d7d290",
        "outputId": "4d084ecb-43fa-47b6-a352-0839dfefc00d"
      },
      "source": [
        "train_data[0][2]  # This the answer part of the first item"
      ],
      "id": "f9d7d290",
      "execution_count": 14,
      "outputs": [
        {
          "output_type": "execute_result",
          "data": {
            "application/vnd.google.colaboratory.intrinsic+json": {
              "type": "string"
            },
            "text/plain": [
              "'no'"
            ]
          },
          "metadata": {},
          "execution_count": 14
        }
      ]
    },
    {
      "cell_type": "markdown",
      "metadata": {
        "id": "0bd649b8"
      },
      "source": [
        "**Note-** We have only to outcomes as an answer it's either yes or no"
      ],
      "id": "0bd649b8"
    },
    {
      "cell_type": "markdown",
      "metadata": {
        "id": "3fe70192"
      },
      "source": [
        "### Setting Up Vocabulary of All words"
      ],
      "id": "3fe70192"
    },
    {
      "cell_type": "code",
      "metadata": {
        "colab": {
          "base_uri": "https://localhost:8080/"
        },
        "id": "c096daae",
        "outputId": "fa7afa58-59a5-468b-d148-7dcb20accef9"
      },
      "source": [
        "vocab=set()\n",
        "all_data=train_data + test_data\n",
        "len(all_data)"
      ],
      "id": "c096daae",
      "execution_count": 15,
      "outputs": [
        {
          "output_type": "execute_result",
          "data": {
            "text/plain": [
              "11000"
            ]
          },
          "metadata": {},
          "execution_count": 15
        }
      ]
    },
    {
      "cell_type": "code",
      "metadata": {
        "colab": {
          "base_uri": "https://localhost:8080/"
        },
        "id": "d67bb36d",
        "outputId": "bfcb03a6-b148-452f-cc8e-08d5fe03817e"
      },
      "source": [
        "for story,ques,ans in all_data: # As each element is sub divided into three section story,question and answer\n",
        "    vocab=vocab.union(set(story))\n",
        "    vocab=vocab.union(set(ques))\n",
        "vocab.add('no')\n",
        "vocab.add(\"yes\")\n",
        "len(vocab)"
      ],
      "id": "d67bb36d",
      "execution_count": 16,
      "outputs": [
        {
          "output_type": "execute_result",
          "data": {
            "text/plain": [
              "37"
            ]
          },
          "metadata": {},
          "execution_count": 16
        }
      ]
    },
    {
      "cell_type": "code",
      "metadata": {
        "colab": {
          "base_uri": "https://localhost:8080/"
        },
        "id": "33dd5c4a",
        "outputId": "4e1cc527-9cb4-4a39-9398-d35a34bf425f"
      },
      "source": [
        "vocab"
      ],
      "id": "33dd5c4a",
      "execution_count": 17,
      "outputs": [
        {
          "output_type": "execute_result",
          "data": {
            "text/plain": [
              "{'.',\n",
              " '?',\n",
              " 'Daniel',\n",
              " 'Is',\n",
              " 'John',\n",
              " 'Mary',\n",
              " 'Sandra',\n",
              " 'apple',\n",
              " 'back',\n",
              " 'bathroom',\n",
              " 'bedroom',\n",
              " 'discarded',\n",
              " 'down',\n",
              " 'dropped',\n",
              " 'football',\n",
              " 'garden',\n",
              " 'got',\n",
              " 'grabbed',\n",
              " 'hallway',\n",
              " 'in',\n",
              " 'journeyed',\n",
              " 'kitchen',\n",
              " 'left',\n",
              " 'milk',\n",
              " 'moved',\n",
              " 'no',\n",
              " 'office',\n",
              " 'picked',\n",
              " 'put',\n",
              " 'the',\n",
              " 'there',\n",
              " 'to',\n",
              " 'took',\n",
              " 'travelled',\n",
              " 'up',\n",
              " 'went',\n",
              " 'yes'}"
            ]
          },
          "metadata": {},
          "execution_count": 17
        }
      ]
    },
    {
      "cell_type": "markdown",
      "metadata": {
        "id": "e326b057"
      },
      "source": [
        "### So we have found an vocabulary of 37 words "
      ],
      "id": "e326b057"
    },
    {
      "cell_type": "code",
      "metadata": {
        "id": "0eb0f7de"
      },
      "source": [
        "vocab_len=len(vocab) +1  # we add 1 to provide an extra space to hold a 0 for keras pad_sequences"
      ],
      "id": "0eb0f7de",
      "execution_count": 18,
      "outputs": []
    },
    {
      "cell_type": "code",
      "metadata": {
        "id": "d5cfb583"
      },
      "source": [
        "max_story_len=max([len(data[0]) for data in all_data])"
      ],
      "id": "d5cfb583",
      "execution_count": 19,
      "outputs": []
    },
    {
      "cell_type": "code",
      "metadata": {
        "colab": {
          "base_uri": "https://localhost:8080/"
        },
        "id": "ddf0fa1f",
        "outputId": "1890467c-d316-423e-f66a-fe5ac324e5a5"
      },
      "source": [
        "max_story_len  # So maximum length of a story is 156"
      ],
      "id": "ddf0fa1f",
      "execution_count": 20,
      "outputs": [
        {
          "output_type": "execute_result",
          "data": {
            "text/plain": [
              "156"
            ]
          },
          "metadata": {},
          "execution_count": 20
        }
      ]
    },
    {
      "cell_type": "code",
      "metadata": {
        "colab": {
          "base_uri": "https://localhost:8080/"
        },
        "id": "2fdacca9",
        "outputId": "8dda7858-5a9a-4990-ad00-d370499c44b2"
      },
      "source": [
        "max_question_len=max([len(data[1]) for data in all_data])\n",
        "max_question_len    # So maximum length of a question can be 6"
      ],
      "id": "2fdacca9",
      "execution_count": 21,
      "outputs": [
        {
          "output_type": "execute_result",
          "data": {
            "text/plain": [
              "6"
            ]
          },
          "metadata": {},
          "execution_count": 21
        }
      ]
    },
    {
      "cell_type": "markdown",
      "metadata": {
        "id": "3b0ac22e"
      },
      "source": [
        "### Vectorizing the data"
      ],
      "id": "3b0ac22e"
    },
    {
      "cell_type": "code",
      "metadata": {
        "id": "29ad44bc"
      },
      "source": [
        "from keras.preprocessing.sequence import pad_sequences\n",
        "from keras.preprocessing.text import Tokenizer"
      ],
      "id": "29ad44bc",
      "execution_count": 22,
      "outputs": []
    },
    {
      "cell_type": "code",
      "metadata": {
        "colab": {
          "base_uri": "https://localhost:8080/"
        },
        "id": "13a78141",
        "outputId": "3bd52454-2c1e-4d54-a809-2000b735b1f0"
      },
      "source": [
        "# Create a tokenizer object\n",
        "tokenizer=Tokenizer(filters=[])\n",
        "tokenizer.fit_on_texts(vocab)\n",
        "tokenizer.word_index"
      ],
      "id": "13a78141",
      "execution_count": 23,
      "outputs": [
        {
          "output_type": "execute_result",
          "data": {
            "text/plain": [
              "{'.': 8,\n",
              " '?': 18,\n",
              " 'apple': 25,\n",
              " 'back': 30,\n",
              " 'bathroom': 33,\n",
              " 'bedroom': 4,\n",
              " 'daniel': 21,\n",
              " 'discarded': 37,\n",
              " 'down': 34,\n",
              " 'dropped': 26,\n",
              " 'football': 12,\n",
              " 'garden': 19,\n",
              " 'got': 22,\n",
              " 'grabbed': 1,\n",
              " 'hallway': 13,\n",
              " 'in': 17,\n",
              " 'is': 20,\n",
              " 'john': 10,\n",
              " 'journeyed': 29,\n",
              " 'kitchen': 31,\n",
              " 'left': 3,\n",
              " 'mary': 23,\n",
              " 'milk': 32,\n",
              " 'moved': 2,\n",
              " 'no': 9,\n",
              " 'office': 28,\n",
              " 'picked': 7,\n",
              " 'put': 15,\n",
              " 'sandra': 14,\n",
              " 'the': 24,\n",
              " 'there': 6,\n",
              " 'to': 35,\n",
              " 'took': 5,\n",
              " 'travelled': 36,\n",
              " 'up': 27,\n",
              " 'went': 16,\n",
              " 'yes': 11}"
            ]
          },
          "metadata": {},
          "execution_count": 23
        }
      ]
    },
    {
      "cell_type": "code",
      "metadata": {
        "id": "b89c5236"
      },
      "source": [
        "train_story_text=[]\n",
        "train_ques_text=[]\n",
        "train_ans_text=[]\n",
        "\n",
        "for story,ques,ans in test_data:\n",
        "    train_story_text.append(story)\n",
        "    train_ques_text.append(ques)\n",
        "    train_ans_text.append(ans)"
      ],
      "id": "b89c5236",
      "execution_count": 24,
      "outputs": []
    },
    {
      "cell_type": "code",
      "metadata": {
        "scrolled": true,
        "colab": {
          "base_uri": "https://localhost:8080/"
        },
        "id": "952fe5c1",
        "outputId": "7f3d8a24-a0db-4e5c-a06b-5ca8afff7954"
      },
      "source": [
        "train_story_text[:2]"
      ],
      "id": "952fe5c1",
      "execution_count": 25,
      "outputs": [
        {
          "output_type": "execute_result",
          "data": {
            "text/plain": [
              "[['Mary',\n",
              "  'got',\n",
              "  'the',\n",
              "  'milk',\n",
              "  'there',\n",
              "  '.',\n",
              "  'John',\n",
              "  'moved',\n",
              "  'to',\n",
              "  'the',\n",
              "  'bedroom',\n",
              "  '.'],\n",
              " ['Mary',\n",
              "  'got',\n",
              "  'the',\n",
              "  'milk',\n",
              "  'there',\n",
              "  '.',\n",
              "  'John',\n",
              "  'moved',\n",
              "  'to',\n",
              "  'the',\n",
              "  'bedroom',\n",
              "  '.',\n",
              "  'Mary',\n",
              "  'discarded',\n",
              "  'the',\n",
              "  'milk',\n",
              "  '.',\n",
              "  'John',\n",
              "  'went',\n",
              "  'to',\n",
              "  'the',\n",
              "  'garden',\n",
              "  '.']]"
            ]
          },
          "metadata": {},
          "execution_count": 25
        }
      ]
    },
    {
      "cell_type": "code",
      "metadata": {
        "id": "1a8c2803"
      },
      "source": [
        "## Let's create a function now for the above functionality\n",
        "def vectorize_stories(data,word_index=tokenizer.word_index,max_story_len=max_story_len,max_question_len=max_question_len):\n",
        "    # X=stories\n",
        "    X=[]\n",
        "    \n",
        "    # Xq=Question/Query\n",
        "    Xq=[]\n",
        "    \n",
        "    # Y=Correct Answers\n",
        "    Y=[]\n",
        "    \n",
        "    for story,ques,ans in data:\n",
        "        x=[word_index[word.lower()] for word in story]\n",
        "        xq=[word_index[word.lower()] for word in ques]\n",
        "        y=np.zeros(len(word_index) +1)\n",
        "        y[word_index[ans]]=1\n",
        "        \n",
        "        X.append(x)\n",
        "        Xq.append(xq)\n",
        "        Y.append(y)\n",
        "        \n",
        "    return (pad_sequences(X,maxlen=max_story_len),pad_sequences(Xq,maxlen=max_question_len),np.array(Y))"
      ],
      "id": "1a8c2803",
      "execution_count": 26,
      "outputs": []
    },
    {
      "cell_type": "code",
      "metadata": {
        "id": "bfd5aac5"
      },
      "source": [
        "input_train,ques_train,ans_train=vectorize_stories(train_data)"
      ],
      "id": "bfd5aac5",
      "execution_count": 27,
      "outputs": []
    },
    {
      "cell_type": "code",
      "metadata": {
        "colab": {
          "base_uri": "https://localhost:8080/"
        },
        "id": "8ea67106",
        "outputId": "467ccb4a-c24b-4ecd-8146-d862c91e0ce4"
      },
      "source": [
        "input_train[:3]"
      ],
      "id": "8ea67106",
      "execution_count": 28,
      "outputs": [
        {
          "output_type": "execute_result",
          "data": {
            "text/plain": [
              "array([[ 0,  0,  0,  0,  0,  0,  0,  0,  0,  0,  0,  0,  0,  0,  0,  0,\n",
              "         0,  0,  0,  0,  0,  0,  0,  0,  0,  0,  0,  0,  0,  0,  0,  0,\n",
              "         0,  0,  0,  0,  0,  0,  0,  0,  0,  0,  0,  0,  0,  0,  0,  0,\n",
              "         0,  0,  0,  0,  0,  0,  0,  0,  0,  0,  0,  0,  0,  0,  0,  0,\n",
              "         0,  0,  0,  0,  0,  0,  0,  0,  0,  0,  0,  0,  0,  0,  0,  0,\n",
              "         0,  0,  0,  0,  0,  0,  0,  0,  0,  0,  0,  0,  0,  0,  0,  0,\n",
              "         0,  0,  0,  0,  0,  0,  0,  0,  0,  0,  0,  0,  0,  0,  0,  0,\n",
              "         0,  0,  0,  0,  0,  0,  0,  0,  0,  0,  0,  0,  0,  0,  0,  0,\n",
              "         0,  0,  0,  0,  0,  0,  0,  0,  0,  0,  0,  0,  0,  0,  0,  0,\n",
              "        23,  2, 35, 24, 33,  8, 14, 29, 35, 24,  4,  8],\n",
              "       [ 0,  0,  0,  0,  0,  0,  0,  0,  0,  0,  0,  0,  0,  0,  0,  0,\n",
              "         0,  0,  0,  0,  0,  0,  0,  0,  0,  0,  0,  0,  0,  0,  0,  0,\n",
              "         0,  0,  0,  0,  0,  0,  0,  0,  0,  0,  0,  0,  0,  0,  0,  0,\n",
              "         0,  0,  0,  0,  0,  0,  0,  0,  0,  0,  0,  0,  0,  0,  0,  0,\n",
              "         0,  0,  0,  0,  0,  0,  0,  0,  0,  0,  0,  0,  0,  0,  0,  0,\n",
              "         0,  0,  0,  0,  0,  0,  0,  0,  0,  0,  0,  0,  0,  0,  0,  0,\n",
              "         0,  0,  0,  0,  0,  0,  0,  0,  0,  0,  0,  0,  0,  0,  0,  0,\n",
              "         0,  0,  0,  0,  0,  0,  0,  0,  0,  0,  0,  0,  0,  0,  0,  0,\n",
              "         0,  0, 23,  2, 35, 24, 33,  8, 14, 29, 35, 24,  4,  8, 23, 16,\n",
              "        30, 35, 24,  4,  8, 21, 16, 30, 35, 24, 13,  8],\n",
              "       [ 0,  0,  0,  0,  0,  0,  0,  0,  0,  0,  0,  0,  0,  0,  0,  0,\n",
              "         0,  0,  0,  0,  0,  0,  0,  0,  0,  0,  0,  0,  0,  0,  0,  0,\n",
              "         0,  0,  0,  0,  0,  0,  0,  0,  0,  0,  0,  0,  0,  0,  0,  0,\n",
              "         0,  0,  0,  0,  0,  0,  0,  0,  0,  0,  0,  0,  0,  0,  0,  0,\n",
              "         0,  0,  0,  0,  0,  0,  0,  0,  0,  0,  0,  0,  0,  0,  0,  0,\n",
              "         0,  0,  0,  0,  0,  0,  0,  0,  0,  0,  0,  0,  0,  0,  0,  0,\n",
              "         0,  0,  0,  0,  0,  0,  0,  0,  0,  0,  0,  0,  0,  0,  0,  0,\n",
              "         0,  0,  0,  0,  0, 23,  2, 35, 24, 33,  8, 14, 29, 35, 24,  4,\n",
              "         8, 23, 16, 30, 35, 24,  4,  8, 21, 16, 30, 35, 24, 13,  8, 14,\n",
              "        16, 35, 24, 31,  8, 21, 16, 30, 35, 24, 33,  8]], dtype=int32)"
            ]
          },
          "metadata": {},
          "execution_count": 28
        }
      ]
    },
    {
      "cell_type": "code",
      "metadata": {
        "colab": {
          "base_uri": "https://localhost:8080/"
        },
        "id": "6bc6947e",
        "outputId": "c3e2e160-8ad0-428c-c024-655a44b2f3ec"
      },
      "source": [
        "ques_train[:3]"
      ],
      "id": "6bc6947e",
      "execution_count": 29,
      "outputs": [
        {
          "output_type": "execute_result",
          "data": {
            "text/plain": [
              "array([[20, 14, 17, 24, 13, 18],\n",
              "       [20, 21, 17, 24, 33, 18],\n",
              "       [20, 21, 17, 24, 28, 18]], dtype=int32)"
            ]
          },
          "metadata": {},
          "execution_count": 29
        }
      ]
    },
    {
      "cell_type": "code",
      "metadata": {
        "colab": {
          "base_uri": "https://localhost:8080/"
        },
        "id": "00337a8b",
        "outputId": "d123e4a5-2efd-4deb-8417-cc83cac17bd3"
      },
      "source": [
        "ans_train[:3]"
      ],
      "id": "00337a8b",
      "execution_count": 30,
      "outputs": [
        {
          "output_type": "execute_result",
          "data": {
            "text/plain": [
              "array([[0., 0., 0., 0., 0., 0., 0., 0., 0., 1., 0., 0., 0., 0., 0., 0.,\n",
              "        0., 0., 0., 0., 0., 0., 0., 0., 0., 0., 0., 0., 0., 0., 0., 0.,\n",
              "        0., 0., 0., 0., 0., 0.],\n",
              "       [0., 0., 0., 0., 0., 0., 0., 0., 0., 1., 0., 0., 0., 0., 0., 0.,\n",
              "        0., 0., 0., 0., 0., 0., 0., 0., 0., 0., 0., 0., 0., 0., 0., 0.,\n",
              "        0., 0., 0., 0., 0., 0.],\n",
              "       [0., 0., 0., 0., 0., 0., 0., 0., 0., 1., 0., 0., 0., 0., 0., 0.,\n",
              "        0., 0., 0., 0., 0., 0., 0., 0., 0., 0., 0., 0., 0., 0., 0., 0.,\n",
              "        0., 0., 0., 0., 0., 0.]])"
            ]
          },
          "metadata": {},
          "execution_count": 30
        }
      ]
    },
    {
      "cell_type": "code",
      "metadata": {
        "colab": {
          "base_uri": "https://localhost:8080/"
        },
        "id": "71b448e2",
        "outputId": "0638fc68-19ee-4ea5-d07f-04fa3c64e975"
      },
      "source": [
        "tokenizer.word_index[\"no\"]"
      ],
      "id": "71b448e2",
      "execution_count": 31,
      "outputs": [
        {
          "output_type": "execute_result",
          "data": {
            "text/plain": [
              "9"
            ]
          },
          "metadata": {},
          "execution_count": 31
        }
      ]
    },
    {
      "cell_type": "code",
      "metadata": {
        "colab": {
          "base_uri": "https://localhost:8080/"
        },
        "id": "ec6c3b22",
        "outputId": "3ab558ee-290c-4b34-ed46-78fc45cabe7e"
      },
      "source": [
        "sum(ans_train)"
      ],
      "id": "ec6c3b22",
      "execution_count": 32,
      "outputs": [
        {
          "output_type": "execute_result",
          "data": {
            "text/plain": [
              "array([   0.,    0.,    0.,    0.,    0.,    0.,    0.,    0.,    0.,\n",
              "       4988.,    0., 5012.,    0.,    0.,    0.,    0.,    0.,    0.,\n",
              "          0.,    0.,    0.,    0.,    0.,    0.,    0.,    0.,    0.,\n",
              "          0.,    0.,    0.,    0.,    0.,    0.,    0.,    0.,    0.,\n",
              "          0.,    0.])"
            ]
          },
          "metadata": {},
          "execution_count": 32
        }
      ]
    },
    {
      "cell_type": "code",
      "metadata": {
        "id": "36faf88d"
      },
      "source": [
        "input_test,ques_test,ans_test=vectorize_stories(test_data)"
      ],
      "id": "36faf88d",
      "execution_count": 33,
      "outputs": []
    },
    {
      "cell_type": "code",
      "metadata": {
        "colab": {
          "base_uri": "https://localhost:8080/"
        },
        "id": "3dee1454",
        "outputId": "9a402023-9ab6-4209-e6ee-77d61cbb800a"
      },
      "source": [
        "input_test.shape"
      ],
      "id": "3dee1454",
      "execution_count": 34,
      "outputs": [
        {
          "output_type": "execute_result",
          "data": {
            "text/plain": [
              "(1000, 156)"
            ]
          },
          "metadata": {},
          "execution_count": 34
        }
      ]
    },
    {
      "cell_type": "code",
      "metadata": {
        "colab": {
          "base_uri": "https://localhost:8080/"
        },
        "id": "b3d708e6",
        "outputId": "837d8c40-6dec-4294-d8bc-9c10cdcfc2ff"
      },
      "source": [
        "input_train.shape"
      ],
      "id": "b3d708e6",
      "execution_count": 35,
      "outputs": [
        {
          "output_type": "execute_result",
          "data": {
            "text/plain": [
              "(10000, 156)"
            ]
          },
          "metadata": {},
          "execution_count": 35
        }
      ]
    },
    {
      "cell_type": "markdown",
      "metadata": {
        "id": "71469a7b"
      },
      "source": [
        "## Creating the Model"
      ],
      "id": "71469a7b"
    },
    {
      "cell_type": "code",
      "metadata": {
        "id": "6fad77c9"
      },
      "source": [
        "#import all the tools \n",
        "import tensorflow as tf\n",
        "from keras.models import Sequential,Model\n",
        "from keras.layers.embeddings import Embedding\n",
        "from keras.layers import add,dot,concatenate\n",
        "from keras.layers import Activation,Permute,Dense,Dropout,Input\n",
        "from keras.layers import LSTM\n"
      ],
      "id": "6fad77c9",
      "execution_count": 84,
      "outputs": []
    },
    {
      "cell_type": "markdown",
      "metadata": {
        "id": "e4e6675c"
      },
      "source": [
        "**Placeholders for inputs**"
      ],
      "id": "e4e6675c"
    },
    {
      "cell_type": "code",
      "metadata": {
        "id": "a32251c9"
      },
      "source": [
        "input_sequence=Input((max_story_len,))\n",
        "question=Input((max_question_len,))"
      ],
      "id": "a32251c9",
      "execution_count": 85,
      "outputs": []
    },
    {
      "cell_type": "markdown",
      "metadata": {
        "id": "e1169942"
      },
      "source": [
        "### Building the Networks"
      ],
      "id": "e1169942"
    },
    {
      "cell_type": "markdown",
      "metadata": {
        "id": "d3dcdcd7"
      },
      "source": [
        "### Encoders\n",
        "Input get embedded to a sequence of vectors"
      ],
      "id": "d3dcdcd7"
    },
    {
      "cell_type": "markdown",
      "metadata": {
        "id": "1f7733a9"
      },
      "source": [
        "**Input Encoder m**"
      ],
      "id": "1f7733a9"
    },
    {
      "cell_type": "code",
      "metadata": {
        "id": "85cdca89"
      },
      "source": [
        "input_encoder_m=Sequential()\n",
        "input_encoder_m.add(Embedding(input_dim=vocab_len,output_dim=64))\n",
        "input_encoder_m.add(Dropout(0.35))\n",
        "# (samples,max_story_len,embedding_dim)"
      ],
      "id": "85cdca89",
      "execution_count": 86,
      "outputs": []
    },
    {
      "cell_type": "markdown",
      "metadata": {
        "id": "bf9c60b0"
      },
      "source": [
        "### Input Encoder c"
      ],
      "id": "bf9c60b0"
    },
    {
      "cell_type": "code",
      "metadata": {
        "id": "f22c8311"
      },
      "source": [
        "# Embed the input into a sequence of vectors of sixe_query_maxlen\n",
        "input_encoder_c=Sequential()\n",
        "input_encoder_c.add(Embedding(input_dim=vocab_len,output_dim=max_question_len))\n",
        "input_encoder_c.add(Dropout(0.35))\n",
        "# (samples,story_max_len,question_maxLen)"
      ],
      "id": "f22c8311",
      "execution_count": 87,
      "outputs": []
    },
    {
      "cell_type": "markdown",
      "metadata": {
        "id": "8463f4f3"
      },
      "source": [
        "### Question Encoder"
      ],
      "id": "8463f4f3"
    },
    {
      "cell_type": "code",
      "metadata": {
        "id": "6b5cf41e"
      },
      "source": [
        "question_encoder=Sequential()\n",
        "question_encoder.add(Embedding(input_dim=vocab_len,output_dim=64,input_length=max_question_len))\n",
        "question_encoder.add(Dropout(0.35))\n",
        "# (samples,question_len,embedding_dim)"
      ],
      "id": "6b5cf41e",
      "execution_count": 88,
      "outputs": []
    },
    {
      "cell_type": "markdown",
      "metadata": {
        "id": "364194a7"
      },
      "source": [
        "### Encode Sequences"
      ],
      "id": "364194a7"
    },
    {
      "cell_type": "code",
      "metadata": {
        "id": "95924483"
      },
      "source": [
        "# Encode input sequences and questions\n",
        "input_encoded_m=input_encoder_m(input_sequence)\n",
        "input_encoded_c=input_encoder_c(input_sequence)\n",
        "question_encoded=question_encoder(question)"
      ],
      "id": "95924483",
      "execution_count": 89,
      "outputs": []
    },
    {
      "cell_type": "code",
      "metadata": {
        "id": "b391c844"
      },
      "source": [
        "# Shape: (samples,story_max_len,question_max_len)\n",
        "match=dot([input_encoded_m,question_encoded],axes=(2,2))"
      ],
      "id": "b391c844",
      "execution_count": 90,
      "outputs": []
    },
    {
      "cell_type": "code",
      "metadata": {
        "colab": {
          "base_uri": "https://localhost:8080/"
        },
        "id": "b8e02567",
        "outputId": "7d79d5c3-505c-4c65-aa2b-276ed50f14f9"
      },
      "source": [
        "input_encoded_m.shape"
      ],
      "id": "b8e02567",
      "execution_count": 91,
      "outputs": [
        {
          "output_type": "execute_result",
          "data": {
            "text/plain": [
              "TensorShape([None, 156, 64])"
            ]
          },
          "metadata": {},
          "execution_count": 91
        }
      ]
    },
    {
      "cell_type": "code",
      "metadata": {
        "colab": {
          "base_uri": "https://localhost:8080/"
        },
        "id": "03c4aeb4",
        "outputId": "39c93437-6806-4e4d-d0e2-e7691b2d6152"
      },
      "source": [
        "question_encoded.shape"
      ],
      "id": "03c4aeb4",
      "execution_count": 92,
      "outputs": [
        {
          "output_type": "execute_result",
          "data": {
            "text/plain": [
              "TensorShape([None, 6, 64])"
            ]
          },
          "metadata": {},
          "execution_count": 92
        }
      ]
    },
    {
      "cell_type": "code",
      "metadata": {
        "colab": {
          "base_uri": "https://localhost:8080/"
        },
        "id": "feef164f",
        "outputId": "3c75129b-ec59-4d8b-bb98-bb6e572625ae"
      },
      "source": [
        "match.shape"
      ],
      "id": "feef164f",
      "execution_count": 93,
      "outputs": [
        {
          "output_type": "execute_result",
          "data": {
            "text/plain": [
              "TensorShape([None, 156, 6])"
            ]
          },
          "metadata": {},
          "execution_count": 93
        }
      ]
    },
    {
      "cell_type": "code",
      "metadata": {
        "id": "3c8bd9c0"
      },
      "source": [
        "match=Activation(\"softmax\")(match)"
      ],
      "id": "3c8bd9c0",
      "execution_count": 94,
      "outputs": []
    },
    {
      "cell_type": "code",
      "metadata": {
        "id": "7c4ca921"
      },
      "source": [
        "# add the matrix with second input vector sequence\n",
        "response=add([match,input_encoded_c])"
      ],
      "id": "7c4ca921",
      "execution_count": 95,
      "outputs": []
    },
    {
      "cell_type": "code",
      "metadata": {
        "id": "a74648c9"
      },
      "source": [
        "#We will permute to alter response dimensions\n",
        "response=Permute((2,1))(response)"
      ],
      "id": "a74648c9",
      "execution_count": 96,
      "outputs": []
    },
    {
      "cell_type": "code",
      "metadata": {
        "colab": {
          "base_uri": "https://localhost:8080/"
        },
        "id": "b4694e1b",
        "outputId": "de579bf8-1872-4e63-f2cc-46c8c2707169"
      },
      "source": [
        "response.shape"
      ],
      "id": "b4694e1b",
      "execution_count": 97,
      "outputs": [
        {
          "output_type": "execute_result",
          "data": {
            "text/plain": [
              "TensorShape([None, 6, 156])"
            ]
          },
          "metadata": {},
          "execution_count": 97
        }
      ]
    },
    {
      "cell_type": "markdown",
      "metadata": {
        "id": "2e333f79"
      },
      "source": [
        "### Concatenate"
      ],
      "id": "2e333f79"
    },
    {
      "cell_type": "code",
      "metadata": {
        "id": "a5baae1b"
      },
      "source": [
        "# Concatenate the match matrix with question vector sequence\n",
        "answer=concatenate([response,question_encoded])"
      ],
      "id": "a5baae1b",
      "execution_count": 98,
      "outputs": []
    },
    {
      "cell_type": "code",
      "metadata": {
        "colab": {
          "base_uri": "https://localhost:8080/"
        },
        "id": "f3b24ee9",
        "outputId": "545d7d47-8085-4241-8a63-7e3b5fcacfd2"
      },
      "source": [
        "answer.shape"
      ],
      "id": "f3b24ee9",
      "execution_count": 100,
      "outputs": [
        {
          "output_type": "execute_result",
          "data": {
            "text/plain": [
              "TensorShape([None, 6, 220])"
            ]
          },
          "metadata": {},
          "execution_count": 100
        }
      ]
    },
    {
      "cell_type": "markdown",
      "metadata": {
        "id": "7db8b5b4"
      },
      "source": [
        "### Reduce with RNN(LSTM)"
      ],
      "id": "7db8b5b4"
    },
    {
      "cell_type": "code",
      "metadata": {
        "id": "9bfed0fa"
      },
      "source": [
        "answer=LSTM(32)(answer)"
      ],
      "id": "9bfed0fa",
      "execution_count": 101,
      "outputs": []
    },
    {
      "cell_type": "code",
      "metadata": {
        "colab": {
          "base_uri": "https://localhost:8080/"
        },
        "id": "28142435",
        "outputId": "0ab962b9-0556-4882-cc27-a3955ad8cbde"
      },
      "source": [
        "answer.shape"
      ],
      "id": "28142435",
      "execution_count": 102,
      "outputs": [
        {
          "output_type": "execute_result",
          "data": {
            "text/plain": [
              "TensorShape([None, 32])"
            ]
          },
          "metadata": {},
          "execution_count": 102
        }
      ]
    },
    {
      "cell_type": "code",
      "metadata": {
        "id": "134fa4ae"
      },
      "source": [
        "#Regularization with dropout\n",
        "answer=Dropout(0.35)(answer)\n",
        "\n",
        "answer=Dense(vocab_len)(answer)"
      ],
      "id": "134fa4ae",
      "execution_count": 103,
      "outputs": []
    },
    {
      "cell_type": "code",
      "metadata": {
        "id": "bc544c18"
      },
      "source": [
        "answer=Activation(\"softmax\")(answer)"
      ],
      "id": "bc544c18",
      "execution_count": 104,
      "outputs": []
    },
    {
      "cell_type": "code",
      "metadata": {
        "colab": {
          "base_uri": "https://localhost:8080/"
        },
        "id": "dceda7fe",
        "outputId": "76e5e2f2-7b02-4756-af8a-d911ce02154b"
      },
      "source": [
        "answer.shape"
      ],
      "id": "dceda7fe",
      "execution_count": 105,
      "outputs": [
        {
          "output_type": "execute_result",
          "data": {
            "text/plain": [
              "TensorShape([None, 38])"
            ]
          },
          "metadata": {},
          "execution_count": 105
        }
      ]
    },
    {
      "cell_type": "markdown",
      "metadata": {
        "id": "35b1e2b3"
      },
      "source": [
        "### Build the final model"
      ],
      "id": "35b1e2b3"
    },
    {
      "cell_type": "code",
      "metadata": {
        "colab": {
          "base_uri": "https://localhost:8080/"
        },
        "id": "055759af",
        "outputId": "793a794b-8403-4b05-81f7-b06c61c47569"
      },
      "source": [
        "model=Model([input_sequence,question],answer)\n",
        "model.compile(optimizer='adam',loss='categorical_crossentropy',metrics=['accuracy'])\n",
        "model.summary()"
      ],
      "id": "055759af",
      "execution_count": 106,
      "outputs": [
        {
          "output_type": "stream",
          "text": [
            "Model: \"model_2\"\n",
            "__________________________________________________________________________________________________\n",
            "Layer (type)                    Output Shape         Param #     Connected to                     \n",
            "==================================================================================================\n",
            "input_7 (InputLayer)            [(None, 156)]        0                                            \n",
            "__________________________________________________________________________________________________\n",
            "input_8 (InputLayer)            [(None, 6)]          0                                            \n",
            "__________________________________________________________________________________________________\n",
            "sequential_6 (Sequential)       (None, None, 64)     2432        input_7[0][0]                    \n",
            "__________________________________________________________________________________________________\n",
            "sequential_8 (Sequential)       (None, 6, 64)        2432        input_8[0][0]                    \n",
            "__________________________________________________________________________________________________\n",
            "dot_2 (Dot)                     (None, 156, 6)       0           sequential_6[0][0]               \n",
            "                                                                 sequential_8[0][0]               \n",
            "__________________________________________________________________________________________________\n",
            "activation_4 (Activation)       (None, 156, 6)       0           dot_2[0][0]                      \n",
            "__________________________________________________________________________________________________\n",
            "sequential_7 (Sequential)       (None, None, 6)      228         input_7[0][0]                    \n",
            "__________________________________________________________________________________________________\n",
            "add_2 (Add)                     (None, 156, 6)       0           activation_4[0][0]               \n",
            "                                                                 sequential_7[0][0]               \n",
            "__________________________________________________________________________________________________\n",
            "permute_2 (Permute)             (None, 6, 156)       0           add_2[0][0]                      \n",
            "__________________________________________________________________________________________________\n",
            "concatenate_2 (Concatenate)     (None, 6, 220)       0           permute_2[0][0]                  \n",
            "                                                                 sequential_8[0][0]               \n",
            "__________________________________________________________________________________________________\n",
            "lstm_2 (LSTM)                   (None, 32)           32384       concatenate_2[0][0]              \n",
            "__________________________________________________________________________________________________\n",
            "dropout_11 (Dropout)            (None, 32)           0           lstm_2[0][0]                     \n",
            "__________________________________________________________________________________________________\n",
            "dense_2 (Dense)                 (None, 38)           1254        dropout_11[0][0]                 \n",
            "__________________________________________________________________________________________________\n",
            "activation_5 (Activation)       (None, 38)           0           dense_2[0][0]                    \n",
            "==================================================================================================\n",
            "Total params: 38,730\n",
            "Trainable params: 38,730\n",
            "Non-trainable params: 0\n",
            "__________________________________________________________________________________________________\n"
          ],
          "name": "stdout"
        }
      ]
    },
    {
      "cell_type": "markdown",
      "metadata": {
        "id": "ab12b73d"
      },
      "source": [
        "## Train the Model"
      ],
      "id": "ab12b73d"
    },
    {
      "cell_type": "code",
      "metadata": {
        "colab": {
          "base_uri": "https://localhost:8080/"
        },
        "id": "934bfcc8",
        "outputId": "e80bc76d-2515-4b3e-8104-f8a485d19674"
      },
      "source": [
        "history=model.fit([input_train,ques_train],ans_train,batch_size=32,epochs=100,validation_data=([input_test,ques_test],ans_test))"
      ],
      "id": "934bfcc8",
      "execution_count": 107,
      "outputs": [
        {
          "output_type": "stream",
          "text": [
            "Epoch 1/100\n",
            "313/313 [==============================] - 6s 11ms/step - loss: 0.9786 - accuracy: 0.4941 - val_loss: 0.7045 - val_accuracy: 0.4970\n",
            "Epoch 2/100\n",
            "313/313 [==============================] - 3s 10ms/step - loss: 0.7234 - accuracy: 0.5000 - val_loss: 0.6992 - val_accuracy: 0.4970\n",
            "Epoch 3/100\n",
            "313/313 [==============================] - 3s 10ms/step - loss: 0.7059 - accuracy: 0.5027 - val_loss: 0.6961 - val_accuracy: 0.4970\n",
            "Epoch 4/100\n",
            "313/313 [==============================] - 3s 10ms/step - loss: 0.7009 - accuracy: 0.5066 - val_loss: 0.6968 - val_accuracy: 0.4970\n",
            "Epoch 5/100\n",
            "313/313 [==============================] - 3s 10ms/step - loss: 0.6983 - accuracy: 0.5000 - val_loss: 0.6953 - val_accuracy: 0.5030\n",
            "Epoch 6/100\n",
            "313/313 [==============================] - 3s 10ms/step - loss: 0.6966 - accuracy: 0.5053 - val_loss: 0.6969 - val_accuracy: 0.4970\n",
            "Epoch 7/100\n",
            "313/313 [==============================] - 3s 10ms/step - loss: 0.6966 - accuracy: 0.4981 - val_loss: 0.6937 - val_accuracy: 0.4970\n",
            "Epoch 8/100\n",
            "313/313 [==============================] - 3s 10ms/step - loss: 0.6957 - accuracy: 0.5012 - val_loss: 0.6935 - val_accuracy: 0.5030\n",
            "Epoch 9/100\n",
            "313/313 [==============================] - 3s 10ms/step - loss: 0.6956 - accuracy: 0.5047 - val_loss: 0.6945 - val_accuracy: 0.5030\n",
            "Epoch 10/100\n",
            "313/313 [==============================] - 3s 10ms/step - loss: 0.6950 - accuracy: 0.5024 - val_loss: 0.6952 - val_accuracy: 0.4970\n",
            "Epoch 11/100\n",
            "313/313 [==============================] - 3s 10ms/step - loss: 0.6965 - accuracy: 0.4911 - val_loss: 0.6962 - val_accuracy: 0.4970\n",
            "Epoch 12/100\n",
            "313/313 [==============================] - 3s 10ms/step - loss: 0.6952 - accuracy: 0.4929 - val_loss: 0.6934 - val_accuracy: 0.5030\n",
            "Epoch 13/100\n",
            "313/313 [==============================] - 3s 10ms/step - loss: 0.6949 - accuracy: 0.4964 - val_loss: 0.6937 - val_accuracy: 0.4970\n",
            "Epoch 14/100\n",
            "313/313 [==============================] - 3s 10ms/step - loss: 0.6961 - accuracy: 0.4946 - val_loss: 0.6939 - val_accuracy: 0.4970\n",
            "Epoch 15/100\n",
            "313/313 [==============================] - 3s 10ms/step - loss: 0.6954 - accuracy: 0.4979 - val_loss: 0.6939 - val_accuracy: 0.5030\n",
            "Epoch 16/100\n",
            "313/313 [==============================] - 3s 10ms/step - loss: 0.6946 - accuracy: 0.4998 - val_loss: 0.6947 - val_accuracy: 0.4970\n",
            "Epoch 17/100\n",
            "313/313 [==============================] - 3s 10ms/step - loss: 0.6946 - accuracy: 0.4973 - val_loss: 0.6943 - val_accuracy: 0.4970\n",
            "Epoch 18/100\n",
            "313/313 [==============================] - 3s 10ms/step - loss: 0.6947 - accuracy: 0.5016 - val_loss: 0.6933 - val_accuracy: 0.4820\n",
            "Epoch 19/100\n",
            "313/313 [==============================] - 3s 10ms/step - loss: 0.6947 - accuracy: 0.4971 - val_loss: 0.6937 - val_accuracy: 0.5030\n",
            "Epoch 20/100\n",
            "313/313 [==============================] - 3s 10ms/step - loss: 0.6945 - accuracy: 0.5005 - val_loss: 0.6936 - val_accuracy: 0.4830\n",
            "Epoch 21/100\n",
            "313/313 [==============================] - 3s 10ms/step - loss: 0.6942 - accuracy: 0.5071 - val_loss: 0.6946 - val_accuracy: 0.4990\n",
            "Epoch 22/100\n",
            "313/313 [==============================] - 3s 10ms/step - loss: 0.6875 - accuracy: 0.5282 - val_loss: 0.6825 - val_accuracy: 0.5400\n",
            "Epoch 23/100\n",
            "313/313 [==============================] - 3s 10ms/step - loss: 0.6663 - accuracy: 0.5776 - val_loss: 0.6554 - val_accuracy: 0.6180\n",
            "Epoch 24/100\n",
            "313/313 [==============================] - 3s 10ms/step - loss: 0.6484 - accuracy: 0.6150 - val_loss: 0.6374 - val_accuracy: 0.6670\n",
            "Epoch 25/100\n",
            "313/313 [==============================] - 3s 10ms/step - loss: 0.6113 - accuracy: 0.6703 - val_loss: 0.5750 - val_accuracy: 0.7230\n",
            "Epoch 26/100\n",
            "313/313 [==============================] - 3s 10ms/step - loss: 0.5771 - accuracy: 0.7170 - val_loss: 0.5405 - val_accuracy: 0.7300\n",
            "Epoch 27/100\n",
            "313/313 [==============================] - 3s 10ms/step - loss: 0.5513 - accuracy: 0.7373 - val_loss: 0.5239 - val_accuracy: 0.7490\n",
            "Epoch 28/100\n",
            "313/313 [==============================] - 3s 10ms/step - loss: 0.5236 - accuracy: 0.7615 - val_loss: 0.5087 - val_accuracy: 0.7680\n",
            "Epoch 29/100\n",
            "313/313 [==============================] - 3s 10ms/step - loss: 0.5050 - accuracy: 0.7701 - val_loss: 0.4733 - val_accuracy: 0.7870\n",
            "Epoch 30/100\n",
            "313/313 [==============================] - 3s 10ms/step - loss: 0.4847 - accuracy: 0.7808 - val_loss: 0.4648 - val_accuracy: 0.8000\n",
            "Epoch 31/100\n",
            "313/313 [==============================] - 3s 10ms/step - loss: 0.4643 - accuracy: 0.7920 - val_loss: 0.4486 - val_accuracy: 0.7940\n",
            "Epoch 32/100\n",
            "313/313 [==============================] - 3s 10ms/step - loss: 0.4454 - accuracy: 0.8052 - val_loss: 0.4401 - val_accuracy: 0.8070\n",
            "Epoch 33/100\n",
            "313/313 [==============================] - 3s 10ms/step - loss: 0.4376 - accuracy: 0.8115 - val_loss: 0.4202 - val_accuracy: 0.8150\n",
            "Epoch 34/100\n",
            "313/313 [==============================] - 3s 10ms/step - loss: 0.4231 - accuracy: 0.8206 - val_loss: 0.4275 - val_accuracy: 0.8220\n",
            "Epoch 35/100\n",
            "313/313 [==============================] - 3s 10ms/step - loss: 0.4167 - accuracy: 0.8237 - val_loss: 0.3987 - val_accuracy: 0.8220\n",
            "Epoch 36/100\n",
            "313/313 [==============================] - 3s 10ms/step - loss: 0.4007 - accuracy: 0.8333 - val_loss: 0.4072 - val_accuracy: 0.8220\n",
            "Epoch 37/100\n",
            "313/313 [==============================] - 3s 10ms/step - loss: 0.4002 - accuracy: 0.8331 - val_loss: 0.4095 - val_accuracy: 0.8240\n",
            "Epoch 38/100\n",
            "313/313 [==============================] - 3s 10ms/step - loss: 0.3924 - accuracy: 0.8367 - val_loss: 0.4119 - val_accuracy: 0.8110\n",
            "Epoch 39/100\n",
            "313/313 [==============================] - 3s 10ms/step - loss: 0.3847 - accuracy: 0.8395 - val_loss: 0.3919 - val_accuracy: 0.8260\n",
            "Epoch 40/100\n",
            "313/313 [==============================] - 3s 10ms/step - loss: 0.3777 - accuracy: 0.8476 - val_loss: 0.3888 - val_accuracy: 0.8320\n",
            "Epoch 41/100\n",
            "313/313 [==============================] - 3s 10ms/step - loss: 0.3712 - accuracy: 0.8450 - val_loss: 0.3910 - val_accuracy: 0.8290\n",
            "Epoch 42/100\n",
            "313/313 [==============================] - 3s 10ms/step - loss: 0.3677 - accuracy: 0.8477 - val_loss: 0.3836 - val_accuracy: 0.8330\n",
            "Epoch 43/100\n",
            "313/313 [==============================] - 3s 10ms/step - loss: 0.3654 - accuracy: 0.8489 - val_loss: 0.3854 - val_accuracy: 0.8290\n",
            "Epoch 44/100\n",
            "313/313 [==============================] - 3s 10ms/step - loss: 0.3633 - accuracy: 0.8512 - val_loss: 0.3779 - val_accuracy: 0.8350\n",
            "Epoch 45/100\n",
            "313/313 [==============================] - 3s 10ms/step - loss: 0.3594 - accuracy: 0.8498 - val_loss: 0.3836 - val_accuracy: 0.8270\n",
            "Epoch 46/100\n",
            "313/313 [==============================] - 3s 10ms/step - loss: 0.3469 - accuracy: 0.8540 - val_loss: 0.3856 - val_accuracy: 0.8270\n",
            "Epoch 47/100\n",
            "313/313 [==============================] - 3s 10ms/step - loss: 0.3480 - accuracy: 0.8535 - val_loss: 0.3837 - val_accuracy: 0.8270\n",
            "Epoch 48/100\n",
            "313/313 [==============================] - 3s 10ms/step - loss: 0.3455 - accuracy: 0.8562 - val_loss: 0.3897 - val_accuracy: 0.8290\n",
            "Epoch 49/100\n",
            "313/313 [==============================] - 3s 10ms/step - loss: 0.3460 - accuracy: 0.8578 - val_loss: 0.3743 - val_accuracy: 0.8330\n",
            "Epoch 50/100\n",
            "313/313 [==============================] - 3s 10ms/step - loss: 0.3347 - accuracy: 0.8613 - val_loss: 0.3854 - val_accuracy: 0.8340\n",
            "Epoch 51/100\n",
            "313/313 [==============================] - 3s 10ms/step - loss: 0.3310 - accuracy: 0.8617 - val_loss: 0.3818 - val_accuracy: 0.8290\n",
            "Epoch 52/100\n",
            "313/313 [==============================] - 3s 10ms/step - loss: 0.3261 - accuracy: 0.8646 - val_loss: 0.3760 - val_accuracy: 0.8340\n",
            "Epoch 53/100\n",
            "313/313 [==============================] - 3s 10ms/step - loss: 0.3248 - accuracy: 0.8607 - val_loss: 0.3834 - val_accuracy: 0.8250\n",
            "Epoch 54/100\n",
            "313/313 [==============================] - 3s 10ms/step - loss: 0.3200 - accuracy: 0.8641 - val_loss: 0.3792 - val_accuracy: 0.8240\n",
            "Epoch 55/100\n",
            "313/313 [==============================] - 3s 10ms/step - loss: 0.3278 - accuracy: 0.8629 - val_loss: 0.3843 - val_accuracy: 0.8240\n",
            "Epoch 56/100\n",
            "313/313 [==============================] - 3s 10ms/step - loss: 0.3232 - accuracy: 0.8627 - val_loss: 0.3883 - val_accuracy: 0.8220\n",
            "Epoch 57/100\n",
            "313/313 [==============================] - 3s 10ms/step - loss: 0.3140 - accuracy: 0.8685 - val_loss: 0.3778 - val_accuracy: 0.8280\n",
            "Epoch 58/100\n",
            "313/313 [==============================] - 3s 10ms/step - loss: 0.3109 - accuracy: 0.8699 - val_loss: 0.3819 - val_accuracy: 0.8350\n",
            "Epoch 59/100\n",
            "313/313 [==============================] - 3s 10ms/step - loss: 0.3143 - accuracy: 0.8684 - val_loss: 0.3741 - val_accuracy: 0.8360\n",
            "Epoch 60/100\n",
            "313/313 [==============================] - 3s 10ms/step - loss: 0.3153 - accuracy: 0.8633 - val_loss: 0.3678 - val_accuracy: 0.8290\n",
            "Epoch 61/100\n",
            "313/313 [==============================] - 3s 10ms/step - loss: 0.3051 - accuracy: 0.8712 - val_loss: 0.3855 - val_accuracy: 0.8270\n",
            "Epoch 62/100\n",
            "313/313 [==============================] - 3s 10ms/step - loss: 0.3068 - accuracy: 0.8723 - val_loss: 0.3758 - val_accuracy: 0.8300\n",
            "Epoch 63/100\n",
            "313/313 [==============================] - 3s 10ms/step - loss: 0.3035 - accuracy: 0.8675 - val_loss: 0.3834 - val_accuracy: 0.8260\n",
            "Epoch 64/100\n",
            "313/313 [==============================] - 3s 10ms/step - loss: 0.3015 - accuracy: 0.8682 - val_loss: 0.3836 - val_accuracy: 0.8250\n",
            "Epoch 65/100\n",
            "313/313 [==============================] - 3s 10ms/step - loss: 0.2973 - accuracy: 0.8722 - val_loss: 0.3965 - val_accuracy: 0.8250\n",
            "Epoch 66/100\n",
            "313/313 [==============================] - 3s 10ms/step - loss: 0.3006 - accuracy: 0.8718 - val_loss: 0.4008 - val_accuracy: 0.8200\n",
            "Epoch 67/100\n",
            "313/313 [==============================] - 3s 10ms/step - loss: 0.2998 - accuracy: 0.8759 - val_loss: 0.3984 - val_accuracy: 0.8300\n",
            "Epoch 68/100\n",
            "313/313 [==============================] - 3s 10ms/step - loss: 0.2954 - accuracy: 0.8745 - val_loss: 0.3889 - val_accuracy: 0.8350\n",
            "Epoch 69/100\n",
            "313/313 [==============================] - 3s 10ms/step - loss: 0.2938 - accuracy: 0.8779 - val_loss: 0.3907 - val_accuracy: 0.8310\n",
            "Epoch 70/100\n",
            "313/313 [==============================] - 3s 10ms/step - loss: 0.2952 - accuracy: 0.8752 - val_loss: 0.3948 - val_accuracy: 0.8300\n",
            "Epoch 71/100\n",
            "313/313 [==============================] - 3s 10ms/step - loss: 0.2904 - accuracy: 0.8747 - val_loss: 0.3911 - val_accuracy: 0.8270\n",
            "Epoch 72/100\n",
            "313/313 [==============================] - 3s 10ms/step - loss: 0.2921 - accuracy: 0.8743 - val_loss: 0.3908 - val_accuracy: 0.8200\n",
            "Epoch 73/100\n",
            "313/313 [==============================] - 3s 10ms/step - loss: 0.2888 - accuracy: 0.8781 - val_loss: 0.3874 - val_accuracy: 0.8250\n",
            "Epoch 74/100\n",
            "313/313 [==============================] - 3s 10ms/step - loss: 0.2854 - accuracy: 0.8801 - val_loss: 0.3995 - val_accuracy: 0.8320\n",
            "Epoch 75/100\n",
            "313/313 [==============================] - 3s 10ms/step - loss: 0.2884 - accuracy: 0.8769 - val_loss: 0.3878 - val_accuracy: 0.8280\n",
            "Epoch 76/100\n",
            "313/313 [==============================] - 3s 10ms/step - loss: 0.2834 - accuracy: 0.8779 - val_loss: 0.3966 - val_accuracy: 0.8260\n",
            "Epoch 77/100\n",
            "313/313 [==============================] - 3s 10ms/step - loss: 0.2786 - accuracy: 0.8808 - val_loss: 0.3987 - val_accuracy: 0.8250\n",
            "Epoch 78/100\n",
            "313/313 [==============================] - 3s 10ms/step - loss: 0.2762 - accuracy: 0.8821 - val_loss: 0.3959 - val_accuracy: 0.8270\n",
            "Epoch 79/100\n",
            "313/313 [==============================] - 3s 10ms/step - loss: 0.2831 - accuracy: 0.8786 - val_loss: 0.3907 - val_accuracy: 0.8280\n",
            "Epoch 80/100\n",
            "313/313 [==============================] - 3s 10ms/step - loss: 0.2772 - accuracy: 0.8852 - val_loss: 0.4035 - val_accuracy: 0.8230\n",
            "Epoch 81/100\n",
            "313/313 [==============================] - 3s 10ms/step - loss: 0.2774 - accuracy: 0.8831 - val_loss: 0.4016 - val_accuracy: 0.8230\n",
            "Epoch 82/100\n",
            "313/313 [==============================] - 3s 10ms/step - loss: 0.2782 - accuracy: 0.8835 - val_loss: 0.4017 - val_accuracy: 0.8250\n",
            "Epoch 83/100\n",
            "313/313 [==============================] - 3s 10ms/step - loss: 0.2762 - accuracy: 0.8844 - val_loss: 0.3983 - val_accuracy: 0.8320\n",
            "Epoch 84/100\n",
            "313/313 [==============================] - 3s 10ms/step - loss: 0.2673 - accuracy: 0.8862 - val_loss: 0.4187 - val_accuracy: 0.8270\n",
            "Epoch 85/100\n",
            "313/313 [==============================] - 3s 10ms/step - loss: 0.2711 - accuracy: 0.8861 - val_loss: 0.4101 - val_accuracy: 0.8220\n",
            "Epoch 86/100\n",
            "313/313 [==============================] - 3s 10ms/step - loss: 0.2710 - accuracy: 0.8852 - val_loss: 0.4131 - val_accuracy: 0.8250\n",
            "Epoch 87/100\n",
            "313/313 [==============================] - 3s 10ms/step - loss: 0.2738 - accuracy: 0.8831 - val_loss: 0.4031 - val_accuracy: 0.8290\n",
            "Epoch 88/100\n",
            "313/313 [==============================] - 3s 10ms/step - loss: 0.2697 - accuracy: 0.8864 - val_loss: 0.4147 - val_accuracy: 0.8330\n",
            "Epoch 89/100\n",
            "313/313 [==============================] - 3s 10ms/step - loss: 0.2665 - accuracy: 0.8868 - val_loss: 0.4173 - val_accuracy: 0.8320\n",
            "Epoch 90/100\n",
            "313/313 [==============================] - 3s 10ms/step - loss: 0.2649 - accuracy: 0.8892 - val_loss: 0.4131 - val_accuracy: 0.8350\n",
            "Epoch 91/100\n",
            "313/313 [==============================] - 3s 10ms/step - loss: 0.2635 - accuracy: 0.8895 - val_loss: 0.4041 - val_accuracy: 0.8260\n",
            "Epoch 92/100\n",
            "313/313 [==============================] - 3s 10ms/step - loss: 0.2616 - accuracy: 0.8874 - val_loss: 0.4048 - val_accuracy: 0.8270\n",
            "Epoch 93/100\n",
            "313/313 [==============================] - 3s 10ms/step - loss: 0.2601 - accuracy: 0.8884 - val_loss: 0.4134 - val_accuracy: 0.8260\n",
            "Epoch 94/100\n",
            "313/313 [==============================] - 3s 10ms/step - loss: 0.2559 - accuracy: 0.8939 - val_loss: 0.4204 - val_accuracy: 0.8200\n",
            "Epoch 95/100\n",
            "313/313 [==============================] - 3s 10ms/step - loss: 0.2627 - accuracy: 0.8861 - val_loss: 0.4241 - val_accuracy: 0.8210\n",
            "Epoch 96/100\n",
            "313/313 [==============================] - 3s 10ms/step - loss: 0.2571 - accuracy: 0.8915 - val_loss: 0.4351 - val_accuracy: 0.8250\n",
            "Epoch 97/100\n",
            "313/313 [==============================] - 3s 10ms/step - loss: 0.2549 - accuracy: 0.8924 - val_loss: 0.4205 - val_accuracy: 0.8340\n",
            "Epoch 98/100\n",
            "313/313 [==============================] - 3s 10ms/step - loss: 0.2587 - accuracy: 0.8897 - val_loss: 0.4063 - val_accuracy: 0.8230\n",
            "Epoch 99/100\n",
            "313/313 [==============================] - 3s 10ms/step - loss: 0.2528 - accuracy: 0.8936 - val_loss: 0.4327 - val_accuracy: 0.8340\n",
            "Epoch 100/100\n",
            "313/313 [==============================] - 3s 10ms/step - loss: 0.2546 - accuracy: 0.8911 - val_loss: 0.4225 - val_accuracy: 0.8240\n"
          ],
          "name": "stdout"
        }
      ]
    },
    {
      "cell_type": "markdown",
      "metadata": {
        "id": "PZbMwW-pP9CL"
      },
      "source": [
        "### Saving The Model"
      ],
      "id": "PZbMwW-pP9CL"
    },
    {
      "cell_type": "code",
      "metadata": {
        "colab": {
          "base_uri": "https://localhost:8080/"
        },
        "id": "7Se8z_oYQOFi",
        "outputId": "00ccb902-fbbc-4b8f-ff6f-765a1b48af6d"
      },
      "source": [
        "filename=(\"drive/MyDrive/Model/chotbots_model_100_adam.h5\")\n",
        "model.save(filename)"
      ],
      "id": "7Se8z_oYQOFi",
      "execution_count": 108,
      "outputs": [
        {
          "output_type": "stream",
          "text": [
            "/usr/local/lib/python3.7/dist-packages/keras/utils/generic_utils.py:497: CustomMaskWarning: Custom mask layers require a config and must override get_config. When loading, the custom mask layer must be passed to the custom_objects argument.\n",
            "  category=CustomMaskWarning)\n"
          ],
          "name": "stderr"
        }
      ]
    },
    {
      "cell_type": "markdown",
      "metadata": {
        "id": "22DEs3pSQlTG"
      },
      "source": [
        "## Evaluating the model"
      ],
      "id": "22DEs3pSQlTG"
    },
    {
      "cell_type": "markdown",
      "metadata": {
        "id": "Wv91FBncf2Xf"
      },
      "source": [
        "### Plotting out training history"
      ],
      "id": "Wv91FBncf2Xf"
    },
    {
      "cell_type": "code",
      "metadata": {
        "colab": {
          "base_uri": "https://localhost:8080/",
          "height": 312
        },
        "id": "F3TpFKHigHPI",
        "outputId": "f86bcd33-f118-4f5e-996b-64cfd3e51918"
      },
      "source": [
        "import matplotlib.pyplot as plt\n",
        "%matplotlib inline\n",
        "print(history.history.keys())\n",
        "plt.plot(history.history['accuracy'])\n",
        "plt.plot(history.history['val_accuracy'])\n",
        "plt.xlabel(\"epoch\")\n",
        "plt.ylabel('accuracy')\n",
        "plt.title(\"Model Accuracy\")\n",
        "plt.legend([\"train\",\"test\"],loc='upper left')\n",
        "plt.show()"
      ],
      "id": "F3TpFKHigHPI",
      "execution_count": 109,
      "outputs": [
        {
          "output_type": "stream",
          "text": [
            "dict_keys(['loss', 'accuracy', 'val_loss', 'val_accuracy'])\n"
          ],
          "name": "stdout"
        },
        {
          "output_type": "display_data",
          "data": {
            "image/png": "[encoded data removed]",
            "text/plain": [
              "<Figure size 432x288 with 1 Axes>"
            ]
          },
          "metadata": {
            "needs_background": "light"
          }
        }
      ]
    },
    {
      "cell_type": "code",
      "metadata": {
        "id": "iF5EUJHDho9I"
      },
      "source": [
        ""
      ],
      "id": "iF5EUJHDho9I",
      "execution_count": null,
      "outputs": []
    }
  ]
}