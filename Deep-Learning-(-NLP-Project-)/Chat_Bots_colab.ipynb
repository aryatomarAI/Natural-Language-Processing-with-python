{
  "nbformat": 4,
  "nbformat_minor": 5,
  "metadata": {
    "kernelspec": {
      "display_name": "Python 3",
      "language": "python",
      "name": "python3"
    },
    "language_info": {
      "codemirror_mode": {
        "name": "ipython",
        "version": 3
      },
      "file_extension": ".py",
      "mimetype": "text/x-python",
      "name": "python",
      "nbconvert_exporter": "python",
      "pygments_lexer": "ipython3",
      "version": "3.7.10"
    },
    "colab": {
      "name": "Chat-Bots_colab.ipynb",
      "provenance": [],
      "collapsed_sections": [
        "e1169942"
      ],
      "include_colab_link": true
    },
    "accelerator": "GPU"
  },
  "cells": [
    {
      "cell_type": "markdown",
      "metadata": {
        "id": "view-in-github",
        "colab_type": "text"
      },
      "source": [
        "<a href=\"https://colab.research.google.com/github/aryatomarAI/Natural-Language-Processing-with-python/blob/main/Deep-Learning-(-NLP-Project-)/Chat_Bots_colab.ipynb\" target=\"_parent\"><img src=\"https://colab.research.google.com/assets/colab-badge.svg\" alt=\"Open In Colab\"/></a>"
      ]
    },
    {
      "cell_type": "markdown",
      "metadata": {
        "id": "e071cc2d"
      },
      "source": [
        "# Question and Answer Chat Bots\n",
        "In this Project we will Build Q&A Chat bots which will study a story and when asked a question will reply in Yes or No according to the situation in the story."
      ],
      "id": "e071cc2d"
    },
    {
      "cell_type": "markdown",
      "metadata": {
        "id": "3c439563"
      },
      "source": [
        "## Data\n",
        "We will use BaBi dataset of facebook for this project\n",
        "\n",
        "Full Details: https://research.fb.com/downloads/babi/\n",
        "\n",
        "## Algorithm \n",
        "We will use End-to-End Memory Networks for this project\n",
        "\n",
        "Full Details: https://arxiv.org/abs/1503.08895"
      ],
      "id": "3c439563"
    },
    {
      "cell_type": "markdown",
      "metadata": {
        "id": "3cb67f07"
      },
      "source": [
        "## Now let's load the data and import all the tools needed"
      ],
      "id": "3cb67f07"
    },
    {
      "cell_type": "code",
      "metadata": {
        "colab": {
          "base_uri": "https://localhost:8080/"
        },
        "id": "EFwn9mlbMmSy",
        "outputId": "c62a457f-dc24-4e08-b040-9044d12d4e5b"
      },
      "source": [
        "from google.colab import drive\n",
        "drive.mount(\"/content/drive\")"
      ],
      "id": "EFwn9mlbMmSy",
      "execution_count": 1,
      "outputs": [
        {
          "output_type": "stream",
          "text": [
            "Mounted at /content/drive\n"
          ],
          "name": "stdout"
        }
      ]
    },
    {
      "cell_type": "code",
      "metadata": {
        "id": "b73a728b"
      },
      "source": [
        "import numpy as np\n",
        "import pickle"
      ],
      "id": "b73a728b",
      "execution_count": 2,
      "outputs": []
    },
    {
      "cell_type": "markdown",
      "metadata": {
        "id": "caf59530"
      },
      "source": [
        "### load the training data "
      ],
      "id": "caf59530"
    },
    {
      "cell_type": "code",
      "metadata": {
        "id": "c6ce29d4"
      },
      "source": [
        "with open(\"drive/MyDrive/train_qa.txt\",\"rb\") as f:\n",
        "    train_data=pickle.load(f)"
      ],
      "id": "c6ce29d4",
      "execution_count": 3,
      "outputs": []
    },
    {
      "cell_type": "code",
      "metadata": {
        "colab": {
          "base_uri": "https://localhost:8080/"
        },
        "id": "ed8ca4ae",
        "outputId": "12086473-7b43-4166-8e2a-a1054adc0e78"
      },
      "source": [
        "train_data[:6]"
      ],
      "id": "ed8ca4ae",
      "execution_count": 4,
      "outputs": [
        {
          "output_type": "execute_result",
          "data": {
            "text/plain": [
              "[(['Mary',\n",
              "   'moved',\n",
              "   'to',\n",
              "   'the',\n",
              "   'bathroom',\n",
              "   '.',\n",
              "   'Sandra',\n",
              "   'journeyed',\n",
              "   'to',\n",
              "   'the',\n",
              "   'bedroom',\n",
              "   '.'],\n",
              "  ['Is', 'Sandra', 'in', 'the', 'hallway', '?'],\n",
              "  'no'),\n",
              " (['Mary',\n",
              "   'moved',\n",
              "   'to',\n",
              "   'the',\n",
              "   'bathroom',\n",
              "   '.',\n",
              "   'Sandra',\n",
              "   'journeyed',\n",
              "   'to',\n",
              "   'the',\n",
              "   'bedroom',\n",
              "   '.',\n",
              "   'Mary',\n",
              "   'went',\n",
              "   'back',\n",
              "   'to',\n",
              "   'the',\n",
              "   'bedroom',\n",
              "   '.',\n",
              "   'Daniel',\n",
              "   'went',\n",
              "   'back',\n",
              "   'to',\n",
              "   'the',\n",
              "   'hallway',\n",
              "   '.'],\n",
              "  ['Is', 'Daniel', 'in', 'the', 'bathroom', '?'],\n",
              "  'no'),\n",
              " (['Mary',\n",
              "   'moved',\n",
              "   'to',\n",
              "   'the',\n",
              "   'bathroom',\n",
              "   '.',\n",
              "   'Sandra',\n",
              "   'journeyed',\n",
              "   'to',\n",
              "   'the',\n",
              "   'bedroom',\n",
              "   '.',\n",
              "   'Mary',\n",
              "   'went',\n",
              "   'back',\n",
              "   'to',\n",
              "   'the',\n",
              "   'bedroom',\n",
              "   '.',\n",
              "   'Daniel',\n",
              "   'went',\n",
              "   'back',\n",
              "   'to',\n",
              "   'the',\n",
              "   'hallway',\n",
              "   '.',\n",
              "   'Sandra',\n",
              "   'went',\n",
              "   'to',\n",
              "   'the',\n",
              "   'kitchen',\n",
              "   '.',\n",
              "   'Daniel',\n",
              "   'went',\n",
              "   'back',\n",
              "   'to',\n",
              "   'the',\n",
              "   'bathroom',\n",
              "   '.'],\n",
              "  ['Is', 'Daniel', 'in', 'the', 'office', '?'],\n",
              "  'no'),\n",
              " (['Mary',\n",
              "   'moved',\n",
              "   'to',\n",
              "   'the',\n",
              "   'bathroom',\n",
              "   '.',\n",
              "   'Sandra',\n",
              "   'journeyed',\n",
              "   'to',\n",
              "   'the',\n",
              "   'bedroom',\n",
              "   '.',\n",
              "   'Mary',\n",
              "   'went',\n",
              "   'back',\n",
              "   'to',\n",
              "   'the',\n",
              "   'bedroom',\n",
              "   '.',\n",
              "   'Daniel',\n",
              "   'went',\n",
              "   'back',\n",
              "   'to',\n",
              "   'the',\n",
              "   'hallway',\n",
              "   '.',\n",
              "   'Sandra',\n",
              "   'went',\n",
              "   'to',\n",
              "   'the',\n",
              "   'kitchen',\n",
              "   '.',\n",
              "   'Daniel',\n",
              "   'went',\n",
              "   'back',\n",
              "   'to',\n",
              "   'the',\n",
              "   'bathroom',\n",
              "   '.',\n",
              "   'Daniel',\n",
              "   'picked',\n",
              "   'up',\n",
              "   'the',\n",
              "   'football',\n",
              "   'there',\n",
              "   '.',\n",
              "   'Daniel',\n",
              "   'went',\n",
              "   'to',\n",
              "   'the',\n",
              "   'bedroom',\n",
              "   '.'],\n",
              "  ['Is', 'Daniel', 'in', 'the', 'bedroom', '?'],\n",
              "  'yes'),\n",
              " (['Mary',\n",
              "   'moved',\n",
              "   'to',\n",
              "   'the',\n",
              "   'bathroom',\n",
              "   '.',\n",
              "   'Sandra',\n",
              "   'journeyed',\n",
              "   'to',\n",
              "   'the',\n",
              "   'bedroom',\n",
              "   '.',\n",
              "   'Mary',\n",
              "   'went',\n",
              "   'back',\n",
              "   'to',\n",
              "   'the',\n",
              "   'bedroom',\n",
              "   '.',\n",
              "   'Daniel',\n",
              "   'went',\n",
              "   'back',\n",
              "   'to',\n",
              "   'the',\n",
              "   'hallway',\n",
              "   '.',\n",
              "   'Sandra',\n",
              "   'went',\n",
              "   'to',\n",
              "   'the',\n",
              "   'kitchen',\n",
              "   '.',\n",
              "   'Daniel',\n",
              "   'went',\n",
              "   'back',\n",
              "   'to',\n",
              "   'the',\n",
              "   'bathroom',\n",
              "   '.',\n",
              "   'Daniel',\n",
              "   'picked',\n",
              "   'up',\n",
              "   'the',\n",
              "   'football',\n",
              "   'there',\n",
              "   '.',\n",
              "   'Daniel',\n",
              "   'went',\n",
              "   'to',\n",
              "   'the',\n",
              "   'bedroom',\n",
              "   '.',\n",
              "   'John',\n",
              "   'travelled',\n",
              "   'to',\n",
              "   'the',\n",
              "   'office',\n",
              "   '.',\n",
              "   'Sandra',\n",
              "   'went',\n",
              "   'to',\n",
              "   'the',\n",
              "   'garden',\n",
              "   '.'],\n",
              "  ['Is', 'Daniel', 'in', 'the', 'bedroom', '?'],\n",
              "  'yes'),\n",
              " (['Sandra',\n",
              "   'got',\n",
              "   'the',\n",
              "   'football',\n",
              "   'there',\n",
              "   '.',\n",
              "   'Mary',\n",
              "   'went',\n",
              "   'to',\n",
              "   'the',\n",
              "   'bedroom',\n",
              "   '.'],\n",
              "  ['Is', 'Mary', 'in', 'the', 'bedroom', '?'],\n",
              "  'yes')]"
            ]
          },
          "metadata": {},
          "execution_count": 4
        }
      ]
    },
    {
      "cell_type": "markdown",
      "metadata": {
        "id": "8729bbd5"
      },
      "source": [
        "### load the testing data"
      ],
      "id": "8729bbd5"
    },
    {
      "cell_type": "code",
      "metadata": {
        "id": "d369e461"
      },
      "source": [
        "with open(\"drive/MyDrive/test_qa.txt\",\"rb\") as f:\n",
        "    test_data=pickle.load(f)"
      ],
      "id": "d369e461",
      "execution_count": 5,
      "outputs": []
    },
    {
      "cell_type": "code",
      "metadata": {
        "colab": {
          "base_uri": "https://localhost:8080/"
        },
        "id": "2f74b707",
        "outputId": "87f1fbb4-cef9-4968-9353-f05e3e3d5309"
      },
      "source": [
        "test_data[:6]"
      ],
      "id": "2f74b707",
      "execution_count": 6,
      "outputs": [
        {
          "output_type": "execute_result",
          "data": {
            "text/plain": [
              "[(['Mary',\n",
              "   'got',\n",
              "   'the',\n",
              "   'milk',\n",
              "   'there',\n",
              "   '.',\n",
              "   'John',\n",
              "   'moved',\n",
              "   'to',\n",
              "   'the',\n",
              "   'bedroom',\n",
              "   '.'],\n",
              "  ['Is', 'John', 'in', 'the', 'kitchen', '?'],\n",
              "  'no'),\n",
              " (['Mary',\n",
              "   'got',\n",
              "   'the',\n",
              "   'milk',\n",
              "   'there',\n",
              "   '.',\n",
              "   'John',\n",
              "   'moved',\n",
              "   'to',\n",
              "   'the',\n",
              "   'bedroom',\n",
              "   '.',\n",
              "   'Mary',\n",
              "   'discarded',\n",
              "   'the',\n",
              "   'milk',\n",
              "   '.',\n",
              "   'John',\n",
              "   'went',\n",
              "   'to',\n",
              "   'the',\n",
              "   'garden',\n",
              "   '.'],\n",
              "  ['Is', 'John', 'in', 'the', 'kitchen', '?'],\n",
              "  'no'),\n",
              " (['Mary',\n",
              "   'got',\n",
              "   'the',\n",
              "   'milk',\n",
              "   'there',\n",
              "   '.',\n",
              "   'John',\n",
              "   'moved',\n",
              "   'to',\n",
              "   'the',\n",
              "   'bedroom',\n",
              "   '.',\n",
              "   'Mary',\n",
              "   'discarded',\n",
              "   'the',\n",
              "   'milk',\n",
              "   '.',\n",
              "   'John',\n",
              "   'went',\n",
              "   'to',\n",
              "   'the',\n",
              "   'garden',\n",
              "   '.',\n",
              "   'Daniel',\n",
              "   'moved',\n",
              "   'to',\n",
              "   'the',\n",
              "   'bedroom',\n",
              "   '.',\n",
              "   'Daniel',\n",
              "   'went',\n",
              "   'to',\n",
              "   'the',\n",
              "   'garden',\n",
              "   '.'],\n",
              "  ['Is', 'John', 'in', 'the', 'garden', '?'],\n",
              "  'yes'),\n",
              " (['Mary',\n",
              "   'got',\n",
              "   'the',\n",
              "   'milk',\n",
              "   'there',\n",
              "   '.',\n",
              "   'John',\n",
              "   'moved',\n",
              "   'to',\n",
              "   'the',\n",
              "   'bedroom',\n",
              "   '.',\n",
              "   'Mary',\n",
              "   'discarded',\n",
              "   'the',\n",
              "   'milk',\n",
              "   '.',\n",
              "   'John',\n",
              "   'went',\n",
              "   'to',\n",
              "   'the',\n",
              "   'garden',\n",
              "   '.',\n",
              "   'Daniel',\n",
              "   'moved',\n",
              "   'to',\n",
              "   'the',\n",
              "   'bedroom',\n",
              "   '.',\n",
              "   'Daniel',\n",
              "   'went',\n",
              "   'to',\n",
              "   'the',\n",
              "   'garden',\n",
              "   '.',\n",
              "   'Daniel',\n",
              "   'travelled',\n",
              "   'to',\n",
              "   'the',\n",
              "   'bathroom',\n",
              "   '.',\n",
              "   'Sandra',\n",
              "   'travelled',\n",
              "   'to',\n",
              "   'the',\n",
              "   'bedroom',\n",
              "   '.'],\n",
              "  ['Is', 'Daniel', 'in', 'the', 'bathroom', '?'],\n",
              "  'yes'),\n",
              " (['Mary',\n",
              "   'got',\n",
              "   'the',\n",
              "   'milk',\n",
              "   'there',\n",
              "   '.',\n",
              "   'John',\n",
              "   'moved',\n",
              "   'to',\n",
              "   'the',\n",
              "   'bedroom',\n",
              "   '.',\n",
              "   'Mary',\n",
              "   'discarded',\n",
              "   'the',\n",
              "   'milk',\n",
              "   '.',\n",
              "   'John',\n",
              "   'went',\n",
              "   'to',\n",
              "   'the',\n",
              "   'garden',\n",
              "   '.',\n",
              "   'Daniel',\n",
              "   'moved',\n",
              "   'to',\n",
              "   'the',\n",
              "   'bedroom',\n",
              "   '.',\n",
              "   'Daniel',\n",
              "   'went',\n",
              "   'to',\n",
              "   'the',\n",
              "   'garden',\n",
              "   '.',\n",
              "   'Daniel',\n",
              "   'travelled',\n",
              "   'to',\n",
              "   'the',\n",
              "   'bathroom',\n",
              "   '.',\n",
              "   'Sandra',\n",
              "   'travelled',\n",
              "   'to',\n",
              "   'the',\n",
              "   'bedroom',\n",
              "   '.',\n",
              "   'Mary',\n",
              "   'took',\n",
              "   'the',\n",
              "   'football',\n",
              "   'there',\n",
              "   '.',\n",
              "   'Sandra',\n",
              "   'grabbed',\n",
              "   'the',\n",
              "   'milk',\n",
              "   'there',\n",
              "   '.'],\n",
              "  ['Is', 'Daniel', 'in', 'the', 'bedroom', '?'],\n",
              "  'no'),\n",
              " (['Daniel',\n",
              "   'went',\n",
              "   'back',\n",
              "   'to',\n",
              "   'the',\n",
              "   'kitchen',\n",
              "   '.',\n",
              "   'Mary',\n",
              "   'grabbed',\n",
              "   'the',\n",
              "   'apple',\n",
              "   'there',\n",
              "   '.'],\n",
              "  ['Is', 'Daniel', 'in', 'the', 'office', '?'],\n",
              "  'no')]"
            ]
          },
          "metadata": {},
          "execution_count": 6
        }
      ]
    },
    {
      "cell_type": "code",
      "metadata": {
        "colab": {
          "base_uri": "https://localhost:8080/"
        },
        "id": "e73f2079",
        "outputId": "b6bd1643-60b4-4a89-9fed-b451c474fb1e"
      },
      "source": [
        "len(train_data)"
      ],
      "id": "e73f2079",
      "execution_count": 7,
      "outputs": [
        {
          "output_type": "execute_result",
          "data": {
            "text/plain": [
              "10000"
            ]
          },
          "metadata": {},
          "execution_count": 7
        }
      ]
    },
    {
      "cell_type": "code",
      "metadata": {
        "colab": {
          "base_uri": "https://localhost:8080/"
        },
        "id": "e272f045",
        "outputId": "d6578d37-c2e4-4225-d5c0-0c45059fc9f6"
      },
      "source": [
        "len(test_data)"
      ],
      "id": "e272f045",
      "execution_count": 8,
      "outputs": [
        {
          "output_type": "execute_result",
          "data": {
            "text/plain": [
              "1000"
            ]
          },
          "metadata": {},
          "execution_count": 8
        }
      ]
    },
    {
      "cell_type": "markdown",
      "metadata": {
        "id": "515958bf"
      },
      "source": [
        "## Now let's try to grab the story part, question part and answer part from the data"
      ],
      "id": "515958bf"
    },
    {
      "cell_type": "code",
      "metadata": {
        "colab": {
          "base_uri": "https://localhost:8080/"
        },
        "id": "cfcbcba5",
        "outputId": "52df830c-56dc-4f8f-b25c-bc51f83f0f4b"
      },
      "source": [
        "train_data[0]  # This is the first item of the list"
      ],
      "id": "cfcbcba5",
      "execution_count": 9,
      "outputs": [
        {
          "output_type": "execute_result",
          "data": {
            "text/plain": [
              "(['Mary',\n",
              "  'moved',\n",
              "  'to',\n",
              "  'the',\n",
              "  'bathroom',\n",
              "  '.',\n",
              "  'Sandra',\n",
              "  'journeyed',\n",
              "  'to',\n",
              "  'the',\n",
              "  'bedroom',\n",
              "  '.'],\n",
              " ['Is', 'Sandra', 'in', 'the', 'hallway', '?'],\n",
              " 'no')"
            ]
          },
          "metadata": {},
          "execution_count": 9
        }
      ]
    },
    {
      "cell_type": "code",
      "metadata": {
        "colab": {
          "base_uri": "https://localhost:8080/"
        },
        "id": "4e219abc",
        "outputId": "e55cb686-ead4-42be-f7c5-39e1ed69e32a"
      },
      "source": [
        "train_data[0][0]   # This the story part of the first item"
      ],
      "id": "4e219abc",
      "execution_count": 10,
      "outputs": [
        {
          "output_type": "execute_result",
          "data": {
            "text/plain": [
              "['Mary',\n",
              " 'moved',\n",
              " 'to',\n",
              " 'the',\n",
              " 'bathroom',\n",
              " '.',\n",
              " 'Sandra',\n",
              " 'journeyed',\n",
              " 'to',\n",
              " 'the',\n",
              " 'bedroom',\n",
              " '.']"
            ]
          },
          "metadata": {},
          "execution_count": 10
        }
      ]
    },
    {
      "cell_type": "code",
      "metadata": {
        "colab": {
          "base_uri": "https://localhost:8080/",
          "height": 35
        },
        "id": "6a0a1465",
        "outputId": "d320dc98-fdb0-441b-e2d6-daa42885ba9c"
      },
      "source": [
        "\" \".join(train_data[0][0])"
      ],
      "id": "6a0a1465",
      "execution_count": 11,
      "outputs": [
        {
          "output_type": "execute_result",
          "data": {
            "application/vnd.google.colaboratory.intrinsic+json": {
              "type": "string"
            },
            "text/plain": [
              "'Mary moved to the bathroom . Sandra journeyed to the bedroom .'"
            ]
          },
          "metadata": {},
          "execution_count": 11
        }
      ]
    },
    {
      "cell_type": "code",
      "metadata": {
        "colab": {
          "base_uri": "https://localhost:8080/"
        },
        "id": "271cbf36",
        "outputId": "9776dd81-1294-4817-f3dd-16fdedec9dbf"
      },
      "source": [
        "train_data[0][1]   # This is the question part of the first item"
      ],
      "id": "271cbf36",
      "execution_count": 12,
      "outputs": [
        {
          "output_type": "execute_result",
          "data": {
            "text/plain": [
              "['Is', 'Sandra', 'in', 'the', 'hallway', '?']"
            ]
          },
          "metadata": {},
          "execution_count": 12
        }
      ]
    },
    {
      "cell_type": "code",
      "metadata": {
        "colab": {
          "base_uri": "https://localhost:8080/",
          "height": 35
        },
        "id": "bb009fa7",
        "outputId": "bbbd129c-6f55-4300-c523-2b858521fcac"
      },
      "source": [
        "\" \".join(train_data[0][1])"
      ],
      "id": "bb009fa7",
      "execution_count": 13,
      "outputs": [
        {
          "output_type": "execute_result",
          "data": {
            "application/vnd.google.colaboratory.intrinsic+json": {
              "type": "string"
            },
            "text/plain": [
              "'Is Sandra in the hallway ?'"
            ]
          },
          "metadata": {},
          "execution_count": 13
        }
      ]
    },
    {
      "cell_type": "code",
      "metadata": {
        "colab": {
          "base_uri": "https://localhost:8080/",
          "height": 35
        },
        "id": "f9d7d290",
        "outputId": "0dc1457f-8af0-4a85-cf80-bccc39291200"
      },
      "source": [
        "train_data[0][2]  # This the answer part of the first item"
      ],
      "id": "f9d7d290",
      "execution_count": 14,
      "outputs": [
        {
          "output_type": "execute_result",
          "data": {
            "application/vnd.google.colaboratory.intrinsic+json": {
              "type": "string"
            },
            "text/plain": [
              "'no'"
            ]
          },
          "metadata": {},
          "execution_count": 14
        }
      ]
    },
    {
      "cell_type": "markdown",
      "metadata": {
        "id": "0bd649b8"
      },
      "source": [
        "**Note-** We have only to outcomes as an answer it's either yes or no"
      ],
      "id": "0bd649b8"
    },
    {
      "cell_type": "markdown",
      "metadata": {
        "id": "3fe70192"
      },
      "source": [
        "### Setting Up Vocabulary of All words"
      ],
      "id": "3fe70192"
    },
    {
      "cell_type": "code",
      "metadata": {
        "colab": {
          "base_uri": "https://localhost:8080/"
        },
        "id": "c096daae",
        "outputId": "86cd9c49-7f35-4ee2-f3db-0c137f19d498"
      },
      "source": [
        "vocab=set()\n",
        "all_data=train_data + test_data\n",
        "len(all_data)"
      ],
      "id": "c096daae",
      "execution_count": 15,
      "outputs": [
        {
          "output_type": "execute_result",
          "data": {
            "text/plain": [
              "11000"
            ]
          },
          "metadata": {},
          "execution_count": 15
        }
      ]
    },
    {
      "cell_type": "code",
      "metadata": {
        "colab": {
          "base_uri": "https://localhost:8080/"
        },
        "id": "d67bb36d",
        "outputId": "200b4907-1872-40c8-c04a-65585c6e8a64"
      },
      "source": [
        "for story,ques,ans in all_data: # As each element is sub divided into three section story,question and answer\n",
        "    vocab=vocab.union(set(story))\n",
        "    vocab=vocab.union(set(ques))\n",
        "vocab.add('no')\n",
        "vocab.add(\"yes\")\n",
        "len(vocab)"
      ],
      "id": "d67bb36d",
      "execution_count": 16,
      "outputs": [
        {
          "output_type": "execute_result",
          "data": {
            "text/plain": [
              "37"
            ]
          },
          "metadata": {},
          "execution_count": 16
        }
      ]
    },
    {
      "cell_type": "code",
      "metadata": {
        "colab": {
          "base_uri": "https://localhost:8080/"
        },
        "id": "33dd5c4a",
        "outputId": "2cb1e3c9-e8ed-4be7-880b-92cd42294ca3"
      },
      "source": [
        "vocab"
      ],
      "id": "33dd5c4a",
      "execution_count": 17,
      "outputs": [
        {
          "output_type": "execute_result",
          "data": {
            "text/plain": [
              "{'.',\n",
              " '?',\n",
              " 'Daniel',\n",
              " 'Is',\n",
              " 'John',\n",
              " 'Mary',\n",
              " 'Sandra',\n",
              " 'apple',\n",
              " 'back',\n",
              " 'bathroom',\n",
              " 'bedroom',\n",
              " 'discarded',\n",
              " 'down',\n",
              " 'dropped',\n",
              " 'football',\n",
              " 'garden',\n",
              " 'got',\n",
              " 'grabbed',\n",
              " 'hallway',\n",
              " 'in',\n",
              " 'journeyed',\n",
              " 'kitchen',\n",
              " 'left',\n",
              " 'milk',\n",
              " 'moved',\n",
              " 'no',\n",
              " 'office',\n",
              " 'picked',\n",
              " 'put',\n",
              " 'the',\n",
              " 'there',\n",
              " 'to',\n",
              " 'took',\n",
              " 'travelled',\n",
              " 'up',\n",
              " 'went',\n",
              " 'yes'}"
            ]
          },
          "metadata": {},
          "execution_count": 17
        }
      ]
    },
    {
      "cell_type": "markdown",
      "metadata": {
        "id": "e326b057"
      },
      "source": [
        "### So we have found an vocabulary of 37 words "
      ],
      "id": "e326b057"
    },
    {
      "cell_type": "code",
      "metadata": {
        "id": "0eb0f7de"
      },
      "source": [
        "vocab_len=len(vocab) +1  # we add 1 to provide an extra space to hold a 0 for keras pad_sequences"
      ],
      "id": "0eb0f7de",
      "execution_count": 18,
      "outputs": []
    },
    {
      "cell_type": "code",
      "metadata": {
        "id": "d5cfb583"
      },
      "source": [
        "max_story_len=max([len(data[0]) for data in all_data])"
      ],
      "id": "d5cfb583",
      "execution_count": 19,
      "outputs": []
    },
    {
      "cell_type": "code",
      "metadata": {
        "colab": {
          "base_uri": "https://localhost:8080/"
        },
        "id": "ddf0fa1f",
        "outputId": "c8eb4303-1e3e-45de-dc10-d22b77616134"
      },
      "source": [
        "max_story_len  # So maximum length of a story is 156"
      ],
      "id": "ddf0fa1f",
      "execution_count": 20,
      "outputs": [
        {
          "output_type": "execute_result",
          "data": {
            "text/plain": [
              "156"
            ]
          },
          "metadata": {},
          "execution_count": 20
        }
      ]
    },
    {
      "cell_type": "code",
      "metadata": {
        "colab": {
          "base_uri": "https://localhost:8080/"
        },
        "id": "2fdacca9",
        "outputId": "1b587ff8-da50-4e41-f4d1-3226b6b5e556"
      },
      "source": [
        "max_question_len=max([len(data[1]) for data in all_data])\n",
        "max_question_len    # So maximum length of a question can be 6"
      ],
      "id": "2fdacca9",
      "execution_count": 21,
      "outputs": [
        {
          "output_type": "execute_result",
          "data": {
            "text/plain": [
              "6"
            ]
          },
          "metadata": {},
          "execution_count": 21
        }
      ]
    },
    {
      "cell_type": "markdown",
      "metadata": {
        "id": "3b0ac22e"
      },
      "source": [
        "### Vectorizing the data"
      ],
      "id": "3b0ac22e"
    },
    {
      "cell_type": "code",
      "metadata": {
        "id": "29ad44bc"
      },
      "source": [
        "from keras.preprocessing.sequence import pad_sequences\n",
        "from keras.preprocessing.text import Tokenizer"
      ],
      "id": "29ad44bc",
      "execution_count": 22,
      "outputs": []
    },
    {
      "cell_type": "code",
      "metadata": {
        "colab": {
          "base_uri": "https://localhost:8080/"
        },
        "id": "13a78141",
        "outputId": "6c671203-64ad-4b20-8dbe-ed0017b28a2d"
      },
      "source": [
        "# Create a tokenizer object\n",
        "tokenizer=Tokenizer(filters=[])\n",
        "tokenizer.fit_on_texts(vocab)\n",
        "tokenizer.word_index"
      ],
      "id": "13a78141",
      "execution_count": 23,
      "outputs": [
        {
          "output_type": "execute_result",
          "data": {
            "text/plain": [
              "{'.': 28,\n",
              " '?': 17,\n",
              " 'apple': 10,\n",
              " 'back': 24,\n",
              " 'bathroom': 22,\n",
              " 'bedroom': 30,\n",
              " 'daniel': 26,\n",
              " 'discarded': 20,\n",
              " 'down': 6,\n",
              " 'dropped': 19,\n",
              " 'football': 11,\n",
              " 'garden': 4,\n",
              " 'got': 23,\n",
              " 'grabbed': 8,\n",
              " 'hallway': 37,\n",
              " 'in': 13,\n",
              " 'is': 35,\n",
              " 'john': 14,\n",
              " 'journeyed': 7,\n",
              " 'kitchen': 15,\n",
              " 'left': 27,\n",
              " 'mary': 33,\n",
              " 'milk': 21,\n",
              " 'moved': 25,\n",
              " 'no': 29,\n",
              " 'office': 16,\n",
              " 'picked': 3,\n",
              " 'put': 2,\n",
              " 'sandra': 34,\n",
              " 'the': 18,\n",
              " 'there': 32,\n",
              " 'to': 31,\n",
              " 'took': 12,\n",
              " 'travelled': 36,\n",
              " 'up': 5,\n",
              " 'went': 9,\n",
              " 'yes': 1}"
            ]
          },
          "metadata": {},
          "execution_count": 23
        }
      ]
    },
    {
      "cell_type": "code",
      "metadata": {
        "id": "b89c5236"
      },
      "source": [
        "train_story_text=[]\n",
        "train_ques_text=[]\n",
        "train_ans_text=[]\n",
        "\n",
        "for story,ques,ans in test_data:\n",
        "    train_story_text.append(story)\n",
        "    train_ques_text.append(ques)\n",
        "    train_ans_text.append(ans)"
      ],
      "id": "b89c5236",
      "execution_count": 24,
      "outputs": []
    },
    {
      "cell_type": "code",
      "metadata": {
        "scrolled": true,
        "colab": {
          "base_uri": "https://localhost:8080/"
        },
        "id": "952fe5c1",
        "outputId": "af11ab4d-9508-4f0f-8683-dbd82a602902"
      },
      "source": [
        "train_story_text[:2]"
      ],
      "id": "952fe5c1",
      "execution_count": 25,
      "outputs": [
        {
          "output_type": "execute_result",
          "data": {
            "text/plain": [
              "[['Mary',\n",
              "  'got',\n",
              "  'the',\n",
              "  'milk',\n",
              "  'there',\n",
              "  '.',\n",
              "  'John',\n",
              "  'moved',\n",
              "  'to',\n",
              "  'the',\n",
              "  'bedroom',\n",
              "  '.'],\n",
              " ['Mary',\n",
              "  'got',\n",
              "  'the',\n",
              "  'milk',\n",
              "  'there',\n",
              "  '.',\n",
              "  'John',\n",
              "  'moved',\n",
              "  'to',\n",
              "  'the',\n",
              "  'bedroom',\n",
              "  '.',\n",
              "  'Mary',\n",
              "  'discarded',\n",
              "  'the',\n",
              "  'milk',\n",
              "  '.',\n",
              "  'John',\n",
              "  'went',\n",
              "  'to',\n",
              "  'the',\n",
              "  'garden',\n",
              "  '.']]"
            ]
          },
          "metadata": {},
          "execution_count": 25
        }
      ]
    },
    {
      "cell_type": "code",
      "metadata": {
        "id": "1a8c2803"
      },
      "source": [
        "## Let's create a function now for the above functionality\n",
        "def vectorize_stories(data,word_index=tokenizer.word_index,max_story_len=max_story_len,max_question_len=max_question_len):\n",
        "    # X=stories\n",
        "    X=[]\n",
        "    \n",
        "    # Xq=Question/Query\n",
        "    Xq=[]\n",
        "    \n",
        "    # Y=Correct Answers\n",
        "    Y=[]\n",
        "    \n",
        "    for story,ques,ans in data:\n",
        "        x=[word_index[word.lower()] for word in story]\n",
        "        xq=[word_index[word.lower()] for word in ques]\n",
        "        y=np.zeros(len(word_index) +1)\n",
        "        y[word_index[ans]]=1\n",
        "        \n",
        "        X.append(x)\n",
        "        Xq.append(xq)\n",
        "        Y.append(y)\n",
        "        \n",
        "    return (pad_sequences(X,maxlen=max_story_len),pad_sequences(Xq,maxlen=max_question_len),np.array(Y))"
      ],
      "id": "1a8c2803",
      "execution_count": 26,
      "outputs": []
    },
    {
      "cell_type": "code",
      "metadata": {
        "id": "bfd5aac5"
      },
      "source": [
        "input_train,ques_train,ans_train=vectorize_stories(train_data)"
      ],
      "id": "bfd5aac5",
      "execution_count": 27,
      "outputs": []
    },
    {
      "cell_type": "code",
      "metadata": {
        "colab": {
          "base_uri": "https://localhost:8080/"
        },
        "id": "8ea67106",
        "outputId": "31b6d33f-a34d-4c2a-814f-4705c509def9"
      },
      "source": [
        "input_train[:3]"
      ],
      "id": "8ea67106",
      "execution_count": 28,
      "outputs": [
        {
          "output_type": "execute_result",
          "data": {
            "text/plain": [
              "array([[ 0,  0,  0,  0,  0,  0,  0,  0,  0,  0,  0,  0,  0,  0,  0,  0,\n",
              "         0,  0,  0,  0,  0,  0,  0,  0,  0,  0,  0,  0,  0,  0,  0,  0,\n",
              "         0,  0,  0,  0,  0,  0,  0,  0,  0,  0,  0,  0,  0,  0,  0,  0,\n",
              "         0,  0,  0,  0,  0,  0,  0,  0,  0,  0,  0,  0,  0,  0,  0,  0,\n",
              "         0,  0,  0,  0,  0,  0,  0,  0,  0,  0,  0,  0,  0,  0,  0,  0,\n",
              "         0,  0,  0,  0,  0,  0,  0,  0,  0,  0,  0,  0,  0,  0,  0,  0,\n",
              "         0,  0,  0,  0,  0,  0,  0,  0,  0,  0,  0,  0,  0,  0,  0,  0,\n",
              "         0,  0,  0,  0,  0,  0,  0,  0,  0,  0,  0,  0,  0,  0,  0,  0,\n",
              "         0,  0,  0,  0,  0,  0,  0,  0,  0,  0,  0,  0,  0,  0,  0,  0,\n",
              "        33, 25, 31, 18, 22, 28, 34,  7, 31, 18, 30, 28],\n",
              "       [ 0,  0,  0,  0,  0,  0,  0,  0,  0,  0,  0,  0,  0,  0,  0,  0,\n",
              "         0,  0,  0,  0,  0,  0,  0,  0,  0,  0,  0,  0,  0,  0,  0,  0,\n",
              "         0,  0,  0,  0,  0,  0,  0,  0,  0,  0,  0,  0,  0,  0,  0,  0,\n",
              "         0,  0,  0,  0,  0,  0,  0,  0,  0,  0,  0,  0,  0,  0,  0,  0,\n",
              "         0,  0,  0,  0,  0,  0,  0,  0,  0,  0,  0,  0,  0,  0,  0,  0,\n",
              "         0,  0,  0,  0,  0,  0,  0,  0,  0,  0,  0,  0,  0,  0,  0,  0,\n",
              "         0,  0,  0,  0,  0,  0,  0,  0,  0,  0,  0,  0,  0,  0,  0,  0,\n",
              "         0,  0,  0,  0,  0,  0,  0,  0,  0,  0,  0,  0,  0,  0,  0,  0,\n",
              "         0,  0, 33, 25, 31, 18, 22, 28, 34,  7, 31, 18, 30, 28, 33,  9,\n",
              "        24, 31, 18, 30, 28, 26,  9, 24, 31, 18, 37, 28],\n",
              "       [ 0,  0,  0,  0,  0,  0,  0,  0,  0,  0,  0,  0,  0,  0,  0,  0,\n",
              "         0,  0,  0,  0,  0,  0,  0,  0,  0,  0,  0,  0,  0,  0,  0,  0,\n",
              "         0,  0,  0,  0,  0,  0,  0,  0,  0,  0,  0,  0,  0,  0,  0,  0,\n",
              "         0,  0,  0,  0,  0,  0,  0,  0,  0,  0,  0,  0,  0,  0,  0,  0,\n",
              "         0,  0,  0,  0,  0,  0,  0,  0,  0,  0,  0,  0,  0,  0,  0,  0,\n",
              "         0,  0,  0,  0,  0,  0,  0,  0,  0,  0,  0,  0,  0,  0,  0,  0,\n",
              "         0,  0,  0,  0,  0,  0,  0,  0,  0,  0,  0,  0,  0,  0,  0,  0,\n",
              "         0,  0,  0,  0,  0, 33, 25, 31, 18, 22, 28, 34,  7, 31, 18, 30,\n",
              "        28, 33,  9, 24, 31, 18, 30, 28, 26,  9, 24, 31, 18, 37, 28, 34,\n",
              "         9, 31, 18, 15, 28, 26,  9, 24, 31, 18, 22, 28]], dtype=int32)"
            ]
          },
          "metadata": {},
          "execution_count": 28
        }
      ]
    },
    {
      "cell_type": "code",
      "metadata": {
        "colab": {
          "base_uri": "https://localhost:8080/"
        },
        "id": "6bc6947e",
        "outputId": "a4d1ba3b-7b7f-421d-b95a-a71eb9d54858"
      },
      "source": [
        "ques_train[:3]"
      ],
      "id": "6bc6947e",
      "execution_count": 29,
      "outputs": [
        {
          "output_type": "execute_result",
          "data": {
            "text/plain": [
              "array([[35, 34, 13, 18, 37, 17],\n",
              "       [35, 26, 13, 18, 22, 17],\n",
              "       [35, 26, 13, 18, 16, 17]], dtype=int32)"
            ]
          },
          "metadata": {},
          "execution_count": 29
        }
      ]
    },
    {
      "cell_type": "code",
      "metadata": {
        "colab": {
          "base_uri": "https://localhost:8080/"
        },
        "id": "00337a8b",
        "outputId": "6b3f2fb7-687d-4899-ffe8-662042292c50"
      },
      "source": [
        "ans_train[:3]"
      ],
      "id": "00337a8b",
      "execution_count": 30,
      "outputs": [
        {
          "output_type": "execute_result",
          "data": {
            "text/plain": [
              "array([[0., 0., 0., 0., 0., 0., 0., 0., 0., 0., 0., 0., 0., 0., 0., 0.,\n",
              "        0., 0., 0., 0., 0., 0., 0., 0., 0., 0., 0., 0., 0., 1., 0., 0.,\n",
              "        0., 0., 0., 0., 0., 0.],\n",
              "       [0., 0., 0., 0., 0., 0., 0., 0., 0., 0., 0., 0., 0., 0., 0., 0.,\n",
              "        0., 0., 0., 0., 0., 0., 0., 0., 0., 0., 0., 0., 0., 1., 0., 0.,\n",
              "        0., 0., 0., 0., 0., 0.],\n",
              "       [0., 0., 0., 0., 0., 0., 0., 0., 0., 0., 0., 0., 0., 0., 0., 0.,\n",
              "        0., 0., 0., 0., 0., 0., 0., 0., 0., 0., 0., 0., 0., 1., 0., 0.,\n",
              "        0., 0., 0., 0., 0., 0.]])"
            ]
          },
          "metadata": {},
          "execution_count": 30
        }
      ]
    },
    {
      "cell_type": "code",
      "metadata": {
        "colab": {
          "base_uri": "https://localhost:8080/"
        },
        "id": "71b448e2",
        "outputId": "49937a82-fdbb-49e1-a17c-6cd1f2eb4a17"
      },
      "source": [
        "tokenizer.word_index[\"no\"]"
      ],
      "id": "71b448e2",
      "execution_count": 31,
      "outputs": [
        {
          "output_type": "execute_result",
          "data": {
            "text/plain": [
              "29"
            ]
          },
          "metadata": {},
          "execution_count": 31
        }
      ]
    },
    {
      "cell_type": "code",
      "metadata": {
        "colab": {
          "base_uri": "https://localhost:8080/"
        },
        "id": "ec6c3b22",
        "outputId": "3245bd78-1fbf-46fe-b9f9-e0ecfd960cc8"
      },
      "source": [
        "sum(ans_train)"
      ],
      "id": "ec6c3b22",
      "execution_count": 32,
      "outputs": [
        {
          "output_type": "execute_result",
          "data": {
            "text/plain": [
              "array([   0., 5012.,    0.,    0.,    0.,    0.,    0.,    0.,    0.,\n",
              "          0.,    0.,    0.,    0.,    0.,    0.,    0.,    0.,    0.,\n",
              "          0.,    0.,    0.,    0.,    0.,    0.,    0.,    0.,    0.,\n",
              "          0.,    0., 4988.,    0.,    0.,    0.,    0.,    0.,    0.,\n",
              "          0.,    0.])"
            ]
          },
          "metadata": {},
          "execution_count": 32
        }
      ]
    },
    {
      "cell_type": "code",
      "metadata": {
        "id": "36faf88d"
      },
      "source": [
        "input_test,ques_test,ans_test=vectorize_stories(test_data)"
      ],
      "id": "36faf88d",
      "execution_count": 33,
      "outputs": []
    },
    {
      "cell_type": "code",
      "metadata": {
        "colab": {
          "base_uri": "https://localhost:8080/"
        },
        "id": "3dee1454",
        "outputId": "2b1ff62b-d7b7-4345-dc30-473725f8ea70"
      },
      "source": [
        "input_test.shape"
      ],
      "id": "3dee1454",
      "execution_count": 34,
      "outputs": [
        {
          "output_type": "execute_result",
          "data": {
            "text/plain": [
              "(1000, 156)"
            ]
          },
          "metadata": {},
          "execution_count": 34
        }
      ]
    },
    {
      "cell_type": "code",
      "metadata": {
        "colab": {
          "base_uri": "https://localhost:8080/"
        },
        "id": "b3d708e6",
        "outputId": "644078c3-b818-4f97-c326-1a99086186ba"
      },
      "source": [
        "input_train.shape"
      ],
      "id": "b3d708e6",
      "execution_count": 35,
      "outputs": [
        {
          "output_type": "execute_result",
          "data": {
            "text/plain": [
              "(10000, 156)"
            ]
          },
          "metadata": {},
          "execution_count": 35
        }
      ]
    },
    {
      "cell_type": "markdown",
      "metadata": {
        "id": "71469a7b"
      },
      "source": [
        "## Creating the Model"
      ],
      "id": "71469a7b"
    },
    {
      "cell_type": "code",
      "metadata": {
        "id": "6fad77c9"
      },
      "source": [
        "#import all the tools \n",
        "import tensorflow as tf\n",
        "from keras.models import Sequential,Model\n",
        "from keras.layers.embeddings import Embedding\n",
        "from keras.layers import add,dot,concatenate\n",
        "from keras.layers import Activation,Permute,Dense,Dropout,Input\n",
        "from keras.layers import LSTM\n"
      ],
      "id": "6fad77c9",
      "execution_count": 36,
      "outputs": []
    },
    {
      "cell_type": "markdown",
      "metadata": {
        "id": "e4e6675c"
      },
      "source": [
        "**Placeholders for inputs**"
      ],
      "id": "e4e6675c"
    },
    {
      "cell_type": "code",
      "metadata": {
        "id": "a32251c9"
      },
      "source": [
        "input_sequence=Input((max_story_len,))\n",
        "question=Input((max_question_len,))"
      ],
      "id": "a32251c9",
      "execution_count": 37,
      "outputs": []
    },
    {
      "cell_type": "markdown",
      "metadata": {
        "id": "e1169942"
      },
      "source": [
        "### Building the Networks"
      ],
      "id": "e1169942"
    },
    {
      "cell_type": "markdown",
      "metadata": {
        "id": "d3dcdcd7"
      },
      "source": [
        "### Encoders\n",
        "Input get embedded to a sequence of vectors"
      ],
      "id": "d3dcdcd7"
    },
    {
      "cell_type": "markdown",
      "metadata": {
        "id": "1f7733a9"
      },
      "source": [
        "**Input Encoder m**"
      ],
      "id": "1f7733a9"
    },
    {
      "cell_type": "code",
      "metadata": {
        "id": "85cdca89"
      },
      "source": [
        "input_encoder_m=Sequential()\n",
        "input_encoder_m.add(Embedding(input_dim=vocab_len,output_dim=64))\n",
        "input_encoder_m.add(Dropout(0.35))\n",
        "# (samples,max_story_len,embedding_dim)"
      ],
      "id": "85cdca89",
      "execution_count": 38,
      "outputs": []
    },
    {
      "cell_type": "markdown",
      "metadata": {
        "id": "bf9c60b0"
      },
      "source": [
        "### Input Encoder c"
      ],
      "id": "bf9c60b0"
    },
    {
      "cell_type": "code",
      "metadata": {
        "id": "f22c8311"
      },
      "source": [
        "# Embed the input into a sequence of vectors of sixe_query_maxlen\n",
        "input_encoder_c=Sequential()\n",
        "input_encoder_c.add(Embedding(input_dim=vocab_len,output_dim=max_question_len))\n",
        "input_encoder_c.add(Dropout(0.35))\n",
        "# (samples,story_max_len,question_maxLen)"
      ],
      "id": "f22c8311",
      "execution_count": 39,
      "outputs": []
    },
    {
      "cell_type": "markdown",
      "metadata": {
        "id": "8463f4f3"
      },
      "source": [
        "### Question Encoder"
      ],
      "id": "8463f4f3"
    },
    {
      "cell_type": "code",
      "metadata": {
        "id": "6b5cf41e"
      },
      "source": [
        "question_encoder=Sequential()\n",
        "question_encoder.add(Embedding(input_dim=vocab_len,output_dim=64,input_length=max_question_len))\n",
        "question_encoder.add(Dropout(0.35))\n",
        "# (samples,question_len,embedding_dim)"
      ],
      "id": "6b5cf41e",
      "execution_count": 40,
      "outputs": []
    },
    {
      "cell_type": "markdown",
      "metadata": {
        "id": "364194a7"
      },
      "source": [
        "### Encode Sequences"
      ],
      "id": "364194a7"
    },
    {
      "cell_type": "code",
      "metadata": {
        "id": "95924483"
      },
      "source": [
        "# Encode input sequences and questions\n",
        "input_encoded_m=input_encoder_m(input_sequence)\n",
        "input_encoded_c=input_encoder_c(input_sequence)\n",
        "question_encoded=question_encoder(question)"
      ],
      "id": "95924483",
      "execution_count": 41,
      "outputs": []
    },
    {
      "cell_type": "code",
      "metadata": {
        "id": "b391c844"
      },
      "source": [
        "# Shape: (samples,story_max_len,question_max_len)\n",
        "match=dot([input_encoded_m,question_encoded],axes=(2,2))"
      ],
      "id": "b391c844",
      "execution_count": 42,
      "outputs": []
    },
    {
      "cell_type": "code",
      "metadata": {
        "colab": {
          "base_uri": "https://localhost:8080/"
        },
        "id": "b8e02567",
        "outputId": "cfb66989-3473-4333-9889-1612831ec838"
      },
      "source": [
        "input_encoded_m.shape"
      ],
      "id": "b8e02567",
      "execution_count": 43,
      "outputs": [
        {
          "output_type": "execute_result",
          "data": {
            "text/plain": [
              "TensorShape([None, 156, 64])"
            ]
          },
          "metadata": {},
          "execution_count": 43
        }
      ]
    },
    {
      "cell_type": "code",
      "metadata": {
        "colab": {
          "base_uri": "https://localhost:8080/"
        },
        "id": "03c4aeb4",
        "outputId": "1ce3e501-7762-4fb4-ba4e-35754b438e52"
      },
      "source": [
        "question_encoded.shape"
      ],
      "id": "03c4aeb4",
      "execution_count": 44,
      "outputs": [
        {
          "output_type": "execute_result",
          "data": {
            "text/plain": [
              "TensorShape([None, 6, 64])"
            ]
          },
          "metadata": {},
          "execution_count": 44
        }
      ]
    },
    {
      "cell_type": "code",
      "metadata": {
        "colab": {
          "base_uri": "https://localhost:8080/"
        },
        "id": "feef164f",
        "outputId": "318ab227-a01c-4b6e-9358-9b1a62da43bc"
      },
      "source": [
        "match.shape"
      ],
      "id": "feef164f",
      "execution_count": 45,
      "outputs": [
        {
          "output_type": "execute_result",
          "data": {
            "text/plain": [
              "TensorShape([None, 156, 6])"
            ]
          },
          "metadata": {},
          "execution_count": 45
        }
      ]
    },
    {
      "cell_type": "code",
      "metadata": {
        "id": "3c8bd9c0"
      },
      "source": [
        "match=Activation(\"softmax\")(match)"
      ],
      "id": "3c8bd9c0",
      "execution_count": 46,
      "outputs": []
    },
    {
      "cell_type": "code",
      "metadata": {
        "id": "7c4ca921"
      },
      "source": [
        "# add the matrix with second input vector sequence\n",
        "response=add([match,input_encoded_c])"
      ],
      "id": "7c4ca921",
      "execution_count": 47,
      "outputs": []
    },
    {
      "cell_type": "code",
      "metadata": {
        "id": "a74648c9"
      },
      "source": [
        "#We will permute to alter response dimensions\n",
        "response=Permute((2,1))(response)"
      ],
      "id": "a74648c9",
      "execution_count": 48,
      "outputs": []
    },
    {
      "cell_type": "code",
      "metadata": {
        "colab": {
          "base_uri": "https://localhost:8080/"
        },
        "id": "b4694e1b",
        "outputId": "72a85547-6e08-48b4-cf27-b9381ba14895"
      },
      "source": [
        "response.shape"
      ],
      "id": "b4694e1b",
      "execution_count": 49,
      "outputs": [
        {
          "output_type": "execute_result",
          "data": {
            "text/plain": [
              "TensorShape([None, 6, 156])"
            ]
          },
          "metadata": {},
          "execution_count": 49
        }
      ]
    },
    {
      "cell_type": "markdown",
      "metadata": {
        "id": "2e333f79"
      },
      "source": [
        "### Concatenate"
      ],
      "id": "2e333f79"
    },
    {
      "cell_type": "code",
      "metadata": {
        "id": "a5baae1b"
      },
      "source": [
        "# Concatenate the match matrix with question vector sequence\n",
        "answer=concatenate([response,question_encoded])"
      ],
      "id": "a5baae1b",
      "execution_count": 50,
      "outputs": []
    },
    {
      "cell_type": "code",
      "metadata": {
        "colab": {
          "base_uri": "https://localhost:8080/"
        },
        "id": "f3b24ee9",
        "outputId": "cd4ec311-10e4-41d6-a55f-5ee527c27db1"
      },
      "source": [
        "answer.shape"
      ],
      "id": "f3b24ee9",
      "execution_count": 51,
      "outputs": [
        {
          "output_type": "execute_result",
          "data": {
            "text/plain": [
              "TensorShape([None, 6, 220])"
            ]
          },
          "metadata": {},
          "execution_count": 51
        }
      ]
    },
    {
      "cell_type": "markdown",
      "metadata": {
        "id": "7db8b5b4"
      },
      "source": [
        "### Reduce with RNN(LSTM)"
      ],
      "id": "7db8b5b4"
    },
    {
      "cell_type": "code",
      "metadata": {
        "id": "9bfed0fa"
      },
      "source": [
        "answer=LSTM(64)(answer)"
      ],
      "id": "9bfed0fa",
      "execution_count": 52,
      "outputs": []
    },
    {
      "cell_type": "code",
      "metadata": {
        "colab": {
          "base_uri": "https://localhost:8080/"
        },
        "id": "28142435",
        "outputId": "714fa825-f549-4392-a235-ca9d5e3b7ab0"
      },
      "source": [
        "answer.shape"
      ],
      "id": "28142435",
      "execution_count": 53,
      "outputs": [
        {
          "output_type": "execute_result",
          "data": {
            "text/plain": [
              "TensorShape([None, 64])"
            ]
          },
          "metadata": {},
          "execution_count": 53
        }
      ]
    },
    {
      "cell_type": "code",
      "metadata": {
        "id": "134fa4ae"
      },
      "source": [
        "#Regularization with dropout\n",
        "answer=Dropout(0.35)(answer)\n",
        "\n",
        "answer=Dense(vocab_len)(answer)"
      ],
      "id": "134fa4ae",
      "execution_count": 54,
      "outputs": []
    },
    {
      "cell_type": "code",
      "metadata": {
        "id": "bc544c18"
      },
      "source": [
        "answer=Activation(\"softmax\")(answer)"
      ],
      "id": "bc544c18",
      "execution_count": 55,
      "outputs": []
    },
    {
      "cell_type": "code",
      "metadata": {
        "colab": {
          "base_uri": "https://localhost:8080/"
        },
        "id": "dceda7fe",
        "outputId": "700ffea7-7172-4db5-9807-199a20ff41bc"
      },
      "source": [
        "answer.shape"
      ],
      "id": "dceda7fe",
      "execution_count": 56,
      "outputs": [
        {
          "output_type": "execute_result",
          "data": {
            "text/plain": [
              "TensorShape([None, 38])"
            ]
          },
          "metadata": {},
          "execution_count": 56
        }
      ]
    },
    {
      "cell_type": "markdown",
      "metadata": {
        "id": "35b1e2b3"
      },
      "source": [
        "### Build the final model"
      ],
      "id": "35b1e2b3"
    },
    {
      "cell_type": "code",
      "metadata": {
        "colab": {
          "base_uri": "https://localhost:8080/"
        },
        "id": "055759af",
        "outputId": "497d8561-2578-4d30-fb5e-ca6591c8bafe"
      },
      "source": [
        "model=Model([input_sequence,question],answer)\n",
        "model.compile(optimizer='adam',loss='categorical_crossentropy',metrics=['accuracy'])\n",
        "model.summary()"
      ],
      "id": "055759af",
      "execution_count": 57,
      "outputs": [
        {
          "output_type": "stream",
          "text": [
            "Model: \"model\"\n",
            "__________________________________________________________________________________________________\n",
            "Layer (type)                    Output Shape         Param #     Connected to                     \n",
            "==================================================================================================\n",
            "input_1 (InputLayer)            [(None, 156)]        0                                            \n",
            "__________________________________________________________________________________________________\n",
            "input_2 (InputLayer)            [(None, 6)]          0                                            \n",
            "__________________________________________________________________________________________________\n",
            "sequential (Sequential)         (None, None, 64)     2432        input_1[0][0]                    \n",
            "__________________________________________________________________________________________________\n",
            "sequential_2 (Sequential)       (None, 6, 64)        2432        input_2[0][0]                    \n",
            "__________________________________________________________________________________________________\n",
            "dot (Dot)                       (None, 156, 6)       0           sequential[0][0]                 \n",
            "                                                                 sequential_2[0][0]               \n",
            "__________________________________________________________________________________________________\n",
            "activation (Activation)         (None, 156, 6)       0           dot[0][0]                        \n",
            "__________________________________________________________________________________________________\n",
            "sequential_1 (Sequential)       (None, None, 6)      228         input_1[0][0]                    \n",
            "__________________________________________________________________________________________________\n",
            "add (Add)                       (None, 156, 6)       0           activation[0][0]                 \n",
            "                                                                 sequential_1[0][0]               \n",
            "__________________________________________________________________________________________________\n",
            "permute (Permute)               (None, 6, 156)       0           add[0][0]                        \n",
            "__________________________________________________________________________________________________\n",
            "concatenate (Concatenate)       (None, 6, 220)       0           permute[0][0]                    \n",
            "                                                                 sequential_2[0][0]               \n",
            "__________________________________________________________________________________________________\n",
            "lstm (LSTM)                     (None, 64)           72960       concatenate[0][0]                \n",
            "__________________________________________________________________________________________________\n",
            "dropout_3 (Dropout)             (None, 64)           0           lstm[0][0]                       \n",
            "__________________________________________________________________________________________________\n",
            "dense (Dense)                   (None, 38)           2470        dropout_3[0][0]                  \n",
            "__________________________________________________________________________________________________\n",
            "activation_1 (Activation)       (None, 38)           0           dense[0][0]                      \n",
            "==================================================================================================\n",
            "Total params: 80,522\n",
            "Trainable params: 80,522\n",
            "Non-trainable params: 0\n",
            "__________________________________________________________________________________________________\n"
          ],
          "name": "stdout"
        }
      ]
    },
    {
      "cell_type": "markdown",
      "metadata": {
        "id": "ab12b73d"
      },
      "source": [
        "## Train the Model"
      ],
      "id": "ab12b73d"
    },
    {
      "cell_type": "code",
      "metadata": {
        "colab": {
          "base_uri": "https://localhost:8080/"
        },
        "id": "934bfcc8",
        "outputId": "9dad4e9e-6590-416d-ce8c-7aa03c6b1435"
      },
      "source": [
        "history=model.fit([input_train,ques_train],ans_train,batch_size=32,epochs=100,validation_data=([input_test,ques_test],ans_test))"
      ],
      "id": "934bfcc8",
      "execution_count": 58,
      "outputs": [
        {
          "output_type": "stream",
          "text": [
            "Epoch 1/100\n",
            "313/313 [==============================] - 11s 13ms/step - loss: 0.8497 - accuracy: 0.4954 - val_loss: 0.6963 - val_accuracy: 0.5030\n",
            "Epoch 2/100\n",
            "313/313 [==============================] - 3s 11ms/step - loss: 0.7074 - accuracy: 0.5079 - val_loss: 0.6945 - val_accuracy: 0.5030\n",
            "Epoch 3/100\n",
            "313/313 [==============================] - 3s 11ms/step - loss: 0.7000 - accuracy: 0.5017 - val_loss: 0.6938 - val_accuracy: 0.4970\n",
            "Epoch 4/100\n",
            "313/313 [==============================] - 3s 10ms/step - loss: 0.6982 - accuracy: 0.5006 - val_loss: 0.6991 - val_accuracy: 0.4970\n",
            "Epoch 5/100\n",
            "313/313 [==============================] - 3s 10ms/step - loss: 0.6973 - accuracy: 0.4970 - val_loss: 0.6937 - val_accuracy: 0.5030\n",
            "Epoch 6/100\n",
            "313/313 [==============================] - 3s 11ms/step - loss: 0.6965 - accuracy: 0.4970 - val_loss: 0.6934 - val_accuracy: 0.5030\n",
            "Epoch 7/100\n",
            "313/313 [==============================] - 3s 10ms/step - loss: 0.6958 - accuracy: 0.5041 - val_loss: 0.6944 - val_accuracy: 0.4970\n",
            "Epoch 8/100\n",
            "313/313 [==============================] - 3s 11ms/step - loss: 0.6961 - accuracy: 0.4932 - val_loss: 0.6936 - val_accuracy: 0.5030\n",
            "Epoch 9/100\n",
            "313/313 [==============================] - 3s 11ms/step - loss: 0.6954 - accuracy: 0.4974 - val_loss: 0.6935 - val_accuracy: 0.5030\n",
            "Epoch 10/100\n",
            "313/313 [==============================] - 3s 10ms/step - loss: 0.6955 - accuracy: 0.4960 - val_loss: 0.7028 - val_accuracy: 0.4970\n",
            "Epoch 11/100\n",
            "313/313 [==============================] - 3s 10ms/step - loss: 0.6960 - accuracy: 0.4947 - val_loss: 0.6941 - val_accuracy: 0.4970\n",
            "Epoch 12/100\n",
            "313/313 [==============================] - 3s 11ms/step - loss: 0.6951 - accuracy: 0.5017 - val_loss: 0.6932 - val_accuracy: 0.5030\n",
            "Epoch 13/100\n",
            "313/313 [==============================] - 3s 10ms/step - loss: 0.6951 - accuracy: 0.4983 - val_loss: 0.6941 - val_accuracy: 0.4970\n",
            "Epoch 14/100\n",
            "313/313 [==============================] - 3s 10ms/step - loss: 0.6950 - accuracy: 0.5007 - val_loss: 0.6941 - val_accuracy: 0.5030\n",
            "Epoch 15/100\n",
            "313/313 [==============================] - 3s 11ms/step - loss: 0.6945 - accuracy: 0.5019 - val_loss: 0.6953 - val_accuracy: 0.4970\n",
            "Epoch 16/100\n",
            "313/313 [==============================] - 3s 11ms/step - loss: 0.6952 - accuracy: 0.4971 - val_loss: 0.6932 - val_accuracy: 0.5030\n",
            "Epoch 17/100\n",
            "313/313 [==============================] - 3s 10ms/step - loss: 0.6930 - accuracy: 0.5112 - val_loss: 0.6875 - val_accuracy: 0.5770\n",
            "Epoch 18/100\n",
            "313/313 [==============================] - 3s 10ms/step - loss: 0.5895 - accuracy: 0.6815 - val_loss: 0.4463 - val_accuracy: 0.8070\n",
            "Epoch 19/100\n",
            "313/313 [==============================] - 3s 10ms/step - loss: 0.4397 - accuracy: 0.8071 - val_loss: 0.3994 - val_accuracy: 0.8170\n",
            "Epoch 20/100\n",
            "313/313 [==============================] - 3s 11ms/step - loss: 0.3949 - accuracy: 0.8319 - val_loss: 0.3889 - val_accuracy: 0.8280\n",
            "Epoch 21/100\n",
            "313/313 [==============================] - 3s 10ms/step - loss: 0.3713 - accuracy: 0.8419 - val_loss: 0.3870 - val_accuracy: 0.8340\n",
            "Epoch 22/100\n",
            "313/313 [==============================] - 3s 11ms/step - loss: 0.3657 - accuracy: 0.8435 - val_loss: 0.3745 - val_accuracy: 0.8310\n",
            "Epoch 23/100\n",
            "313/313 [==============================] - 3s 10ms/step - loss: 0.3508 - accuracy: 0.8517 - val_loss: 0.3732 - val_accuracy: 0.8280\n",
            "Epoch 24/100\n",
            "313/313 [==============================] - 3s 10ms/step - loss: 0.3431 - accuracy: 0.8521 - val_loss: 0.3693 - val_accuracy: 0.8270\n",
            "Epoch 25/100\n",
            "313/313 [==============================] - 3s 11ms/step - loss: 0.3372 - accuracy: 0.8525 - val_loss: 0.3545 - val_accuracy: 0.8400\n",
            "Epoch 26/100\n",
            "313/313 [==============================] - 3s 10ms/step - loss: 0.3313 - accuracy: 0.8543 - val_loss: 0.3542 - val_accuracy: 0.8360\n",
            "Epoch 27/100\n",
            "313/313 [==============================] - 3s 10ms/step - loss: 0.3239 - accuracy: 0.8572 - val_loss: 0.3396 - val_accuracy: 0.8270\n",
            "Epoch 28/100\n",
            "313/313 [==============================] - 3s 11ms/step - loss: 0.3156 - accuracy: 0.8603 - val_loss: 0.3424 - val_accuracy: 0.8280\n",
            "Epoch 29/100\n",
            "313/313 [==============================] - 3s 11ms/step - loss: 0.3153 - accuracy: 0.8598 - val_loss: 0.3453 - val_accuracy: 0.8450\n",
            "Epoch 30/100\n",
            "313/313 [==============================] - 3s 11ms/step - loss: 0.3092 - accuracy: 0.8609 - val_loss: 0.3433 - val_accuracy: 0.8420\n",
            "Epoch 31/100\n",
            "313/313 [==============================] - 3s 10ms/step - loss: 0.3050 - accuracy: 0.8618 - val_loss: 0.3327 - val_accuracy: 0.8410\n",
            "Epoch 32/100\n",
            "313/313 [==============================] - 3s 11ms/step - loss: 0.3036 - accuracy: 0.8625 - val_loss: 0.3353 - val_accuracy: 0.8420\n",
            "Epoch 33/100\n",
            "313/313 [==============================] - 3s 10ms/step - loss: 0.2989 - accuracy: 0.8631 - val_loss: 0.3363 - val_accuracy: 0.8430\n",
            "Epoch 34/100\n",
            "313/313 [==============================] - 3s 11ms/step - loss: 0.2994 - accuracy: 0.8610 - val_loss: 0.3397 - val_accuracy: 0.8360\n",
            "Epoch 35/100\n",
            "313/313 [==============================] - 3s 11ms/step - loss: 0.2990 - accuracy: 0.8652 - val_loss: 0.3343 - val_accuracy: 0.8410\n",
            "Epoch 36/100\n",
            "313/313 [==============================] - 3s 10ms/step - loss: 0.2966 - accuracy: 0.8643 - val_loss: 0.3310 - val_accuracy: 0.8400\n",
            "Epoch 37/100\n",
            "313/313 [==============================] - 3s 10ms/step - loss: 0.2937 - accuracy: 0.8657 - val_loss: 0.3450 - val_accuracy: 0.8370\n",
            "Epoch 38/100\n",
            "313/313 [==============================] - 3s 11ms/step - loss: 0.2956 - accuracy: 0.8666 - val_loss: 0.3338 - val_accuracy: 0.8430\n",
            "Epoch 39/100\n",
            "313/313 [==============================] - 3s 10ms/step - loss: 0.2910 - accuracy: 0.8659 - val_loss: 0.3385 - val_accuracy: 0.8390\n",
            "Epoch 40/100\n",
            "313/313 [==============================] - 3s 10ms/step - loss: 0.2877 - accuracy: 0.8665 - val_loss: 0.3302 - val_accuracy: 0.8420\n",
            "Epoch 41/100\n",
            "313/313 [==============================] - 3s 10ms/step - loss: 0.2897 - accuracy: 0.8669 - val_loss: 0.3331 - val_accuracy: 0.8410\n",
            "Epoch 42/100\n",
            "313/313 [==============================] - 3s 11ms/step - loss: 0.2878 - accuracy: 0.8695 - val_loss: 0.3385 - val_accuracy: 0.8440\n",
            "Epoch 43/100\n",
            "313/313 [==============================] - 3s 11ms/step - loss: 0.2885 - accuracy: 0.8651 - val_loss: 0.3504 - val_accuracy: 0.8360\n",
            "Epoch 44/100\n",
            "313/313 [==============================] - 3s 11ms/step - loss: 0.2835 - accuracy: 0.8666 - val_loss: 0.3317 - val_accuracy: 0.8430\n",
            "Epoch 45/100\n",
            "313/313 [==============================] - 3s 11ms/step - loss: 0.2867 - accuracy: 0.8682 - val_loss: 0.3321 - val_accuracy: 0.8460\n",
            "Epoch 46/100\n",
            "313/313 [==============================] - 3s 10ms/step - loss: 0.2841 - accuracy: 0.8697 - val_loss: 0.3469 - val_accuracy: 0.8370\n",
            "Epoch 47/100\n",
            "313/313 [==============================] - 3s 11ms/step - loss: 0.2802 - accuracy: 0.8711 - val_loss: 0.3479 - val_accuracy: 0.8450\n",
            "Epoch 48/100\n",
            "313/313 [==============================] - 3s 11ms/step - loss: 0.2797 - accuracy: 0.8706 - val_loss: 0.3379 - val_accuracy: 0.8430\n",
            "Epoch 49/100\n",
            "313/313 [==============================] - 3s 11ms/step - loss: 0.2815 - accuracy: 0.8661 - val_loss: 0.3343 - val_accuracy: 0.8460\n",
            "Epoch 50/100\n",
            "313/313 [==============================] - 3s 11ms/step - loss: 0.2781 - accuracy: 0.8697 - val_loss: 0.3423 - val_accuracy: 0.8400\n",
            "Epoch 51/100\n",
            "313/313 [==============================] - 3s 10ms/step - loss: 0.2768 - accuracy: 0.8708 - val_loss: 0.3516 - val_accuracy: 0.8460\n",
            "Epoch 52/100\n",
            "313/313 [==============================] - 3s 11ms/step - loss: 0.2731 - accuracy: 0.8737 - val_loss: 0.3397 - val_accuracy: 0.8490\n",
            "Epoch 53/100\n",
            "313/313 [==============================] - 3s 11ms/step - loss: 0.2750 - accuracy: 0.8729 - val_loss: 0.3421 - val_accuracy: 0.8420\n",
            "Epoch 54/100\n",
            "313/313 [==============================] - 3s 11ms/step - loss: 0.2733 - accuracy: 0.8721 - val_loss: 0.3370 - val_accuracy: 0.8420\n",
            "Epoch 55/100\n",
            "313/313 [==============================] - 3s 11ms/step - loss: 0.2681 - accuracy: 0.8752 - val_loss: 0.3457 - val_accuracy: 0.8380\n",
            "Epoch 56/100\n",
            "313/313 [==============================] - 3s 11ms/step - loss: 0.2673 - accuracy: 0.8777 - val_loss: 0.3607 - val_accuracy: 0.8370\n",
            "Epoch 57/100\n",
            "313/313 [==============================] - 3s 11ms/step - loss: 0.2659 - accuracy: 0.8792 - val_loss: 0.3456 - val_accuracy: 0.8370\n",
            "Epoch 58/100\n",
            "313/313 [==============================] - 3s 11ms/step - loss: 0.2652 - accuracy: 0.8775 - val_loss: 0.3512 - val_accuracy: 0.8360\n",
            "Epoch 59/100\n",
            "313/313 [==============================] - 3s 11ms/step - loss: 0.2620 - accuracy: 0.8778 - val_loss: 0.3537 - val_accuracy: 0.8370\n",
            "Epoch 60/100\n",
            "313/313 [==============================] - 3s 10ms/step - loss: 0.2610 - accuracy: 0.8804 - val_loss: 0.3397 - val_accuracy: 0.8450\n",
            "Epoch 61/100\n",
            "313/313 [==============================] - 3s 11ms/step - loss: 0.2575 - accuracy: 0.8824 - val_loss: 0.3545 - val_accuracy: 0.8430\n",
            "Epoch 62/100\n",
            "313/313 [==============================] - 3s 11ms/step - loss: 0.2551 - accuracy: 0.8807 - val_loss: 0.3980 - val_accuracy: 0.8340\n",
            "Epoch 63/100\n",
            "313/313 [==============================] - 3s 10ms/step - loss: 0.2537 - accuracy: 0.8825 - val_loss: 0.3589 - val_accuracy: 0.8360\n",
            "Epoch 64/100\n",
            "313/313 [==============================] - 3s 11ms/step - loss: 0.2565 - accuracy: 0.8832 - val_loss: 0.3595 - val_accuracy: 0.8410\n",
            "Epoch 65/100\n",
            "313/313 [==============================] - 3s 11ms/step - loss: 0.2524 - accuracy: 0.8828 - val_loss: 0.3707 - val_accuracy: 0.8360\n",
            "Epoch 66/100\n",
            "313/313 [==============================] - 3s 10ms/step - loss: 0.2509 - accuracy: 0.8854 - val_loss: 0.3754 - val_accuracy: 0.8340\n",
            "Epoch 67/100\n",
            "313/313 [==============================] - 3s 11ms/step - loss: 0.2478 - accuracy: 0.8879 - val_loss: 0.3702 - val_accuracy: 0.8420\n",
            "Epoch 68/100\n",
            "313/313 [==============================] - 3s 11ms/step - loss: 0.2432 - accuracy: 0.8878 - val_loss: 0.3764 - val_accuracy: 0.8310\n",
            "Epoch 69/100\n",
            "313/313 [==============================] - 3s 11ms/step - loss: 0.2403 - accuracy: 0.8866 - val_loss: 0.4069 - val_accuracy: 0.8360\n",
            "Epoch 70/100\n",
            "313/313 [==============================] - 3s 11ms/step - loss: 0.2409 - accuracy: 0.8870 - val_loss: 0.3776 - val_accuracy: 0.8290\n",
            "Epoch 71/100\n",
            "313/313 [==============================] - 3s 11ms/step - loss: 0.2360 - accuracy: 0.8883 - val_loss: 0.3860 - val_accuracy: 0.8350\n",
            "Epoch 72/100\n",
            "313/313 [==============================] - 3s 11ms/step - loss: 0.2352 - accuracy: 0.8888 - val_loss: 0.4014 - val_accuracy: 0.8350\n",
            "Epoch 73/100\n",
            "313/313 [==============================] - 3s 11ms/step - loss: 0.2331 - accuracy: 0.8922 - val_loss: 0.3911 - val_accuracy: 0.8390\n",
            "Epoch 74/100\n",
            "313/313 [==============================] - 3s 11ms/step - loss: 0.2328 - accuracy: 0.8953 - val_loss: 0.3891 - val_accuracy: 0.8340\n",
            "Epoch 75/100\n",
            "313/313 [==============================] - 3s 11ms/step - loss: 0.2296 - accuracy: 0.8940 - val_loss: 0.4066 - val_accuracy: 0.8390\n",
            "Epoch 76/100\n",
            "313/313 [==============================] - 3s 11ms/step - loss: 0.2275 - accuracy: 0.8970 - val_loss: 0.4016 - val_accuracy: 0.8270\n",
            "Epoch 77/100\n",
            "313/313 [==============================] - 3s 11ms/step - loss: 0.2259 - accuracy: 0.8973 - val_loss: 0.3815 - val_accuracy: 0.8360\n",
            "Epoch 78/100\n",
            "313/313 [==============================] - 3s 11ms/step - loss: 0.2225 - accuracy: 0.8976 - val_loss: 0.4136 - val_accuracy: 0.8410\n",
            "Epoch 79/100\n",
            "313/313 [==============================] - 3s 11ms/step - loss: 0.2222 - accuracy: 0.8974 - val_loss: 0.4137 - val_accuracy: 0.8300\n",
            "Epoch 80/100\n",
            "313/313 [==============================] - 3s 11ms/step - loss: 0.2189 - accuracy: 0.9029 - val_loss: 0.4176 - val_accuracy: 0.8330\n",
            "Epoch 81/100\n",
            "313/313 [==============================] - 3s 11ms/step - loss: 0.2170 - accuracy: 0.9022 - val_loss: 0.4437 - val_accuracy: 0.8330\n",
            "Epoch 82/100\n",
            "313/313 [==============================] - 3s 11ms/step - loss: 0.2164 - accuracy: 0.9000 - val_loss: 0.4309 - val_accuracy: 0.8270\n",
            "Epoch 83/100\n",
            "313/313 [==============================] - 3s 11ms/step - loss: 0.2098 - accuracy: 0.9046 - val_loss: 0.4153 - val_accuracy: 0.8150\n",
            "Epoch 84/100\n",
            "313/313 [==============================] - 3s 11ms/step - loss: 0.2087 - accuracy: 0.9056 - val_loss: 0.4533 - val_accuracy: 0.8380\n",
            "Epoch 85/100\n",
            "313/313 [==============================] - 3s 11ms/step - loss: 0.2002 - accuracy: 0.9090 - val_loss: 0.4580 - val_accuracy: 0.8340\n",
            "Epoch 86/100\n",
            "313/313 [==============================] - 3s 11ms/step - loss: 0.2030 - accuracy: 0.9061 - val_loss: 0.4381 - val_accuracy: 0.8200\n",
            "Epoch 87/100\n",
            "313/313 [==============================] - 3s 11ms/step - loss: 0.2014 - accuracy: 0.9078 - val_loss: 0.4544 - val_accuracy: 0.8290\n",
            "Epoch 88/100\n",
            "313/313 [==============================] - 3s 11ms/step - loss: 0.1956 - accuracy: 0.9112 - val_loss: 0.4838 - val_accuracy: 0.8240\n",
            "Epoch 89/100\n",
            "313/313 [==============================] - 3s 11ms/step - loss: 0.1970 - accuracy: 0.9102 - val_loss: 0.4916 - val_accuracy: 0.8250\n",
            "Epoch 90/100\n",
            "313/313 [==============================] - 3s 11ms/step - loss: 0.1914 - accuracy: 0.9130 - val_loss: 0.4663 - val_accuracy: 0.8230\n",
            "Epoch 91/100\n",
            "313/313 [==============================] - 3s 11ms/step - loss: 0.1886 - accuracy: 0.9143 - val_loss: 0.5083 - val_accuracy: 0.8280\n",
            "Epoch 92/100\n",
            "313/313 [==============================] - 3s 11ms/step - loss: 0.1891 - accuracy: 0.9143 - val_loss: 0.4967 - val_accuracy: 0.8180\n",
            "Epoch 93/100\n",
            "313/313 [==============================] - 3s 11ms/step - loss: 0.1843 - accuracy: 0.9201 - val_loss: 0.5054 - val_accuracy: 0.8260\n",
            "Epoch 94/100\n",
            "313/313 [==============================] - 3s 11ms/step - loss: 0.1840 - accuracy: 0.9149 - val_loss: 0.5139 - val_accuracy: 0.8260\n",
            "Epoch 95/100\n",
            "313/313 [==============================] - 3s 11ms/step - loss: 0.1806 - accuracy: 0.9198 - val_loss: 0.5050 - val_accuracy: 0.8280\n",
            "Epoch 96/100\n",
            "313/313 [==============================] - 3s 11ms/step - loss: 0.1781 - accuracy: 0.9222 - val_loss: 0.5715 - val_accuracy: 0.8290\n",
            "Epoch 97/100\n",
            "313/313 [==============================] - 3s 11ms/step - loss: 0.1700 - accuracy: 0.9240 - val_loss: 0.5799 - val_accuracy: 0.8250\n",
            "Epoch 98/100\n",
            "313/313 [==============================] - 3s 11ms/step - loss: 0.1679 - accuracy: 0.9238 - val_loss: 0.5604 - val_accuracy: 0.8260\n",
            "Epoch 99/100\n",
            "313/313 [==============================] - 3s 11ms/step - loss: 0.1692 - accuracy: 0.9286 - val_loss: 0.5717 - val_accuracy: 0.8270\n",
            "Epoch 100/100\n",
            "313/313 [==============================] - 3s 11ms/step - loss: 0.1692 - accuracy: 0.9267 - val_loss: 0.5554 - val_accuracy: 0.8240\n"
          ],
          "name": "stdout"
        }
      ]
    },
    {
      "cell_type": "markdown",
      "metadata": {
        "id": "PZbMwW-pP9CL"
      },
      "source": [
        "### Saving The Model"
      ],
      "id": "PZbMwW-pP9CL"
    },
    {
      "cell_type": "code",
      "metadata": {
        "colab": {
          "base_uri": "https://localhost:8080/"
        },
        "id": "7Se8z_oYQOFi",
        "outputId": "bd7be4d0-d3f9-4026-aa49-1e908d041e26"
      },
      "source": [
        "filename=(\"drive/MyDrive/Model/chotbots_model_100_adam1.h5\")\n",
        "model.save(filename)"
      ],
      "id": "7Se8z_oYQOFi",
      "execution_count": 59,
      "outputs": [
        {
          "output_type": "stream",
          "text": [
            "/usr/local/lib/python3.7/dist-packages/keras/utils/generic_utils.py:497: CustomMaskWarning: Custom mask layers require a config and must override get_config. When loading, the custom mask layer must be passed to the custom_objects argument.\n",
            "  category=CustomMaskWarning)\n"
          ],
          "name": "stderr"
        }
      ]
    },
    {
      "cell_type": "markdown",
      "metadata": {
        "id": "22DEs3pSQlTG"
      },
      "source": [
        "## Evaluating the model"
      ],
      "id": "22DEs3pSQlTG"
    },
    {
      "cell_type": "markdown",
      "metadata": {
        "id": "Wv91FBncf2Xf"
      },
      "source": [
        "### Plotting out training history"
      ],
      "id": "Wv91FBncf2Xf"
    },
    {
      "cell_type": "code",
      "metadata": {
        "colab": {
          "base_uri": "https://localhost:8080/",
          "height": 312
        },
        "id": "F3TpFKHigHPI",
        "outputId": "199de5f4-a207-4df6-a760-e679ea165080"
      },
      "source": [
        "import matplotlib.pyplot as plt\n",
        "%matplotlib inline\n",
        "print(history.history.keys())\n",
        "plt.plot(history.history['accuracy'])\n",
        "plt.plot(history.history['val_accuracy'])\n",
        "plt.xlabel(\"epoch\")\n",
        "plt.ylabel('accuracy')\n",
        "plt.title(\"Model Accuracy\")\n",
        "plt.legend([\"train\",\"test\"],loc='upper left')\n",
        "plt.show()"
      ],
      "id": "F3TpFKHigHPI",
      "execution_count": 60,
      "outputs": [
        {
          "output_type": "stream",
          "text": [
            "dict_keys(['loss', 'accuracy', 'val_loss', 'val_accuracy'])\n"
          ],
          "name": "stdout"
        },
        {
          "output_type": "display_data",
          "data": {
            "image/png": "[encoded data removed]",
            "text/plain": [
              "<Figure size 432x288 with 1 Axes>"
            ]
          },
          "metadata": {
            "needs_background": "light"
          }
        }
      ]
    },
    {
      "cell_type": "markdown",
      "metadata": {
        "id": "iF5EUJHDho9I"
      },
      "source": [
        "## Load The saved model"
      ],
      "id": "iF5EUJHDho9I"
    },
    {
      "cell_type": "code",
      "metadata": {
        "id": "igYkhayf6sH2"
      },
      "source": [
        "from keras.models import load_model\n",
        "my_model=load_model(\"drive/MyDrive/Model/chotbots_model_100_adam1.h5\")"
      ],
      "id": "igYkhayf6sH2",
      "execution_count": 61,
      "outputs": []
    },
    {
      "cell_type": "markdown",
      "metadata": {
        "id": "x4ssxvQ_7QxS"
      },
      "source": [
        "## Evaluating the model on the given test data set"
      ],
      "id": "x4ssxvQ_7QxS"
    },
    {
      "cell_type": "code",
      "metadata": {
        "colab": {
          "base_uri": "https://localhost:8080/"
        },
        "id": "E12IkHxW7asv",
        "outputId": "cc269d10-a77a-472c-cbec-661ccb599327"
      },
      "source": [
        "test_data[:6]"
      ],
      "id": "E12IkHxW7asv",
      "execution_count": 63,
      "outputs": [
        {
          "output_type": "execute_result",
          "data": {
            "text/plain": [
              "[(['Mary',\n",
              "   'got',\n",
              "   'the',\n",
              "   'milk',\n",
              "   'there',\n",
              "   '.',\n",
              "   'John',\n",
              "   'moved',\n",
              "   'to',\n",
              "   'the',\n",
              "   'bedroom',\n",
              "   '.'],\n",
              "  ['Is', 'John', 'in', 'the', 'kitchen', '?'],\n",
              "  'no'),\n",
              " (['Mary',\n",
              "   'got',\n",
              "   'the',\n",
              "   'milk',\n",
              "   'there',\n",
              "   '.',\n",
              "   'John',\n",
              "   'moved',\n",
              "   'to',\n",
              "   'the',\n",
              "   'bedroom',\n",
              "   '.',\n",
              "   'Mary',\n",
              "   'discarded',\n",
              "   'the',\n",
              "   'milk',\n",
              "   '.',\n",
              "   'John',\n",
              "   'went',\n",
              "   'to',\n",
              "   'the',\n",
              "   'garden',\n",
              "   '.'],\n",
              "  ['Is', 'John', 'in', 'the', 'kitchen', '?'],\n",
              "  'no'),\n",
              " (['Mary',\n",
              "   'got',\n",
              "   'the',\n",
              "   'milk',\n",
              "   'there',\n",
              "   '.',\n",
              "   'John',\n",
              "   'moved',\n",
              "   'to',\n",
              "   'the',\n",
              "   'bedroom',\n",
              "   '.',\n",
              "   'Mary',\n",
              "   'discarded',\n",
              "   'the',\n",
              "   'milk',\n",
              "   '.',\n",
              "   'John',\n",
              "   'went',\n",
              "   'to',\n",
              "   'the',\n",
              "   'garden',\n",
              "   '.',\n",
              "   'Daniel',\n",
              "   'moved',\n",
              "   'to',\n",
              "   'the',\n",
              "   'bedroom',\n",
              "   '.',\n",
              "   'Daniel',\n",
              "   'went',\n",
              "   'to',\n",
              "   'the',\n",
              "   'garden',\n",
              "   '.'],\n",
              "  ['Is', 'John', 'in', 'the', 'garden', '?'],\n",
              "  'yes'),\n",
              " (['Mary',\n",
              "   'got',\n",
              "   'the',\n",
              "   'milk',\n",
              "   'there',\n",
              "   '.',\n",
              "   'John',\n",
              "   'moved',\n",
              "   'to',\n",
              "   'the',\n",
              "   'bedroom',\n",
              "   '.',\n",
              "   'Mary',\n",
              "   'discarded',\n",
              "   'the',\n",
              "   'milk',\n",
              "   '.',\n",
              "   'John',\n",
              "   'went',\n",
              "   'to',\n",
              "   'the',\n",
              "   'garden',\n",
              "   '.',\n",
              "   'Daniel',\n",
              "   'moved',\n",
              "   'to',\n",
              "   'the',\n",
              "   'bedroom',\n",
              "   '.',\n",
              "   'Daniel',\n",
              "   'went',\n",
              "   'to',\n",
              "   'the',\n",
              "   'garden',\n",
              "   '.',\n",
              "   'Daniel',\n",
              "   'travelled',\n",
              "   'to',\n",
              "   'the',\n",
              "   'bathroom',\n",
              "   '.',\n",
              "   'Sandra',\n",
              "   'travelled',\n",
              "   'to',\n",
              "   'the',\n",
              "   'bedroom',\n",
              "   '.'],\n",
              "  ['Is', 'Daniel', 'in', 'the', 'bathroom', '?'],\n",
              "  'yes'),\n",
              " (['Mary',\n",
              "   'got',\n",
              "   'the',\n",
              "   'milk',\n",
              "   'there',\n",
              "   '.',\n",
              "   'John',\n",
              "   'moved',\n",
              "   'to',\n",
              "   'the',\n",
              "   'bedroom',\n",
              "   '.',\n",
              "   'Mary',\n",
              "   'discarded',\n",
              "   'the',\n",
              "   'milk',\n",
              "   '.',\n",
              "   'John',\n",
              "   'went',\n",
              "   'to',\n",
              "   'the',\n",
              "   'garden',\n",
              "   '.',\n",
              "   'Daniel',\n",
              "   'moved',\n",
              "   'to',\n",
              "   'the',\n",
              "   'bedroom',\n",
              "   '.',\n",
              "   'Daniel',\n",
              "   'went',\n",
              "   'to',\n",
              "   'the',\n",
              "   'garden',\n",
              "   '.',\n",
              "   'Daniel',\n",
              "   'travelled',\n",
              "   'to',\n",
              "   'the',\n",
              "   'bathroom',\n",
              "   '.',\n",
              "   'Sandra',\n",
              "   'travelled',\n",
              "   'to',\n",
              "   'the',\n",
              "   'bedroom',\n",
              "   '.',\n",
              "   'Mary',\n",
              "   'took',\n",
              "   'the',\n",
              "   'football',\n",
              "   'there',\n",
              "   '.',\n",
              "   'Sandra',\n",
              "   'grabbed',\n",
              "   'the',\n",
              "   'milk',\n",
              "   'there',\n",
              "   '.'],\n",
              "  ['Is', 'Daniel', 'in', 'the', 'bedroom', '?'],\n",
              "  'no'),\n",
              " (['Daniel',\n",
              "   'went',\n",
              "   'back',\n",
              "   'to',\n",
              "   'the',\n",
              "   'kitchen',\n",
              "   '.',\n",
              "   'Mary',\n",
              "   'grabbed',\n",
              "   'the',\n",
              "   'apple',\n",
              "   'there',\n",
              "   '.'],\n",
              "  ['Is', 'Daniel', 'in', 'the', 'office', '?'],\n",
              "  'no')]"
            ]
          },
          "metadata": {},
          "execution_count": 63
        }
      ]
    },
    {
      "cell_type": "code",
      "metadata": {
        "colab": {
          "base_uri": "https://localhost:8080/"
        },
        "id": "7jqKCgel9zcb",
        "outputId": "7aa51f3d-b711-46e7-a646-be6fff01fedc"
      },
      "source": [
        "test_data[0][0]"
      ],
      "id": "7jqKCgel9zcb",
      "execution_count": 64,
      "outputs": [
        {
          "output_type": "execute_result",
          "data": {
            "text/plain": [
              "['Mary',\n",
              " 'got',\n",
              " 'the',\n",
              " 'milk',\n",
              " 'there',\n",
              " '.',\n",
              " 'John',\n",
              " 'moved',\n",
              " 'to',\n",
              " 'the',\n",
              " 'bedroom',\n",
              " '.']"
            ]
          },
          "metadata": {},
          "execution_count": 64
        }
      ]
    },
    {
      "cell_type": "code",
      "metadata": {
        "colab": {
          "base_uri": "https://localhost:8080/"
        },
        "id": "5w01vhZP948l",
        "outputId": "f9c3960d-53ac-42b0-9aa4-8e32b6ef7d2a"
      },
      "source": [
        "test_data[0][1]"
      ],
      "id": "5w01vhZP948l",
      "execution_count": 65,
      "outputs": [
        {
          "output_type": "execute_result",
          "data": {
            "text/plain": [
              "['Is', 'John', 'in', 'the', 'kitchen', '?']"
            ]
          },
          "metadata": {},
          "execution_count": 65
        }
      ]
    },
    {
      "cell_type": "markdown",
      "metadata": {
        "id": "v0ikXcHJ_whY"
      },
      "source": [
        "### Original Answer"
      ],
      "id": "v0ikXcHJ_whY"
    },
    {
      "cell_type": "code",
      "metadata": {
        "colab": {
          "base_uri": "https://localhost:8080/",
          "height": 35
        },
        "id": "A-DcPqND-Afa",
        "outputId": "2304f068-684c-4675-d5ec-3b63504da232"
      },
      "source": [
        "test_data[0][2]"
      ],
      "id": "A-DcPqND-Afa",
      "execution_count": 66,
      "outputs": [
        {
          "output_type": "execute_result",
          "data": {
            "application/vnd.google.colaboratory.intrinsic+json": {
              "type": "string"
            },
            "text/plain": [
              "'no'"
            ]
          },
          "metadata": {},
          "execution_count": 66
        }
      ]
    },
    {
      "cell_type": "markdown",
      "metadata": {
        "id": "oGslA_h4-NIC"
      },
      "source": [
        "### Make prediction on Test data"
      ],
      "id": "oGslA_h4-NIC"
    },
    {
      "cell_type": "code",
      "metadata": {
        "id": "ANzKW9Go-GeZ"
      },
      "source": [
        "predictions=my_model.predict(([input_test,ques_test]))"
      ],
      "id": "ANzKW9Go-GeZ",
      "execution_count": 67,
      "outputs": []
    },
    {
      "cell_type": "code",
      "metadata": {
        "colab": {
          "base_uri": "https://localhost:8080/"
        },
        "id": "AR1BW0ln-0AP",
        "outputId": "5754460a-0fee-41ae-d6d3-4d21724e6f6c"
      },
      "source": [
        "predictions[0]"
      ],
      "id": "AR1BW0ln-0AP",
      "execution_count": 68,
      "outputs": [
        {
          "output_type": "execute_result",
          "data": {
            "text/plain": [
              "array([7.4828728e-16, 1.6346449e-06, 7.4468230e-16, 8.3258691e-16,\n",
              "       5.9553616e-16, 7.2244292e-16, 5.9836673e-16, 6.0890123e-16,\n",
              "       6.1621980e-16, 7.4553495e-16, 5.3738211e-16, 5.8541157e-16,\n",
              "       5.5189559e-16, 5.9605439e-16, 6.1006839e-16, 6.6770713e-16,\n",
              "       6.3258490e-16, 6.0896396e-16, 6.0433789e-16, 5.9262178e-16,\n",
              "       6.4429672e-16, 7.2664124e-16, 5.8598131e-16, 7.6850278e-16,\n",
              "       5.6912800e-16, 4.7569476e-16, 5.6974057e-16, 7.3492353e-16,\n",
              "       5.5537822e-16, 9.9999833e-01, 5.3405110e-16, 6.1861738e-16,\n",
              "       5.0560625e-16, 5.1045895e-16, 1.0113654e-15, 6.3377816e-16,\n",
              "       9.2172664e-16, 4.3190247e-16], dtype=float32)"
            ]
          },
          "metadata": {},
          "execution_count": 68
        }
      ]
    },
    {
      "cell_type": "code",
      "metadata": {
        "id": "D-EjwQWP-2Ke"
      },
      "source": [
        "val_max=np.argmax(predictions[0])"
      ],
      "id": "D-EjwQWP-2Ke",
      "execution_count": 73,
      "outputs": []
    },
    {
      "cell_type": "markdown",
      "metadata": {
        "id": "n0Pk7zwF_2mF"
      },
      "source": [
        "### Predicted Answer"
      ],
      "id": "n0Pk7zwF_2mF"
    },
    {
      "cell_type": "code",
      "metadata": {
        "colab": {
          "base_uri": "https://localhost:8080/"
        },
        "id": "CeC9EnLB-8GS",
        "outputId": "6059449a-5a11-4b9d-8f1c-3bad8f22afc5"
      },
      "source": [
        "for key, val in tokenizer.word_index.items():\n",
        "  if val==val_max:\n",
        "    k=key\n",
        "print(k)"
      ],
      "id": "CeC9EnLB-8GS",
      "execution_count": 75,
      "outputs": [
        {
          "output_type": "stream",
          "text": [
            "no\n"
          ],
          "name": "stdout"
        }
      ]
    },
    {
      "cell_type": "markdown",
      "metadata": {
        "id": "pSMV0il2_E4i"
      },
      "source": [
        "### Probability of certainty"
      ],
      "id": "pSMV0il2_E4i"
    },
    {
      "cell_type": "code",
      "metadata": {
        "colab": {
          "base_uri": "https://localhost:8080/"
        },
        "id": "x_mnqM_LAUr0",
        "outputId": "c1f58f21-106e-4ac9-a468-aad4e39f6d6e"
      },
      "source": [
        "predictions[0][val_max]   "
      ],
      "id": "x_mnqM_LAUr0",
      "execution_count": 76,
      "outputs": [
        {
          "output_type": "execute_result",
          "data": {
            "text/plain": [
              "0.99999833"
            ]
          },
          "metadata": {},
          "execution_count": 76
        }
      ]
    },
    {
      "cell_type": "markdown",
      "metadata": {
        "id": "0vB56ToJAY0r"
      },
      "source": [
        "<font color=\"green\">So our model is 99.99 % Sure that answer is no"
      ],
      "id": "0vB56ToJAY0r"
    },
    {
      "cell_type": "markdown",
      "metadata": {
        "id": "kGhGycVxAuOV"
      },
      "source": [
        "## Predicting on your own stories and questions"
      ],
      "id": "kGhGycVxAuOV"
    },
    {
      "cell_type": "markdown",
      "metadata": {
        "id": "98iK8iCZBF9Z"
      },
      "source": [
        "**Note:** Remember that you can only use the words that are present in the vocabulary"
      ],
      "id": "98iK8iCZBF9Z"
    },
    {
      "cell_type": "code",
      "metadata": {
        "colab": {
          "base_uri": "https://localhost:8080/"
        },
        "id": "O2GZSsMxBamU",
        "outputId": "8403ce54-ba66-45ee-ff05-87d9e018f4ab"
      },
      "source": [
        "vocab"
      ],
      "id": "O2GZSsMxBamU",
      "execution_count": 77,
      "outputs": [
        {
          "output_type": "execute_result",
          "data": {
            "text/plain": [
              "{'.',\n",
              " '?',\n",
              " 'Daniel',\n",
              " 'Is',\n",
              " 'John',\n",
              " 'Mary',\n",
              " 'Sandra',\n",
              " 'apple',\n",
              " 'back',\n",
              " 'bathroom',\n",
              " 'bedroom',\n",
              " 'discarded',\n",
              " 'down',\n",
              " 'dropped',\n",
              " 'football',\n",
              " 'garden',\n",
              " 'got',\n",
              " 'grabbed',\n",
              " 'hallway',\n",
              " 'in',\n",
              " 'journeyed',\n",
              " 'kitchen',\n",
              " 'left',\n",
              " 'milk',\n",
              " 'moved',\n",
              " 'no',\n",
              " 'office',\n",
              " 'picked',\n",
              " 'put',\n",
              " 'the',\n",
              " 'there',\n",
              " 'to',\n",
              " 'took',\n",
              " 'travelled',\n",
              " 'up',\n",
              " 'went',\n",
              " 'yes'}"
            ]
          },
          "metadata": {},
          "execution_count": 77
        }
      ]
    },
    {
      "cell_type": "code",
      "metadata": {
        "id": "ZwUygGlmBcws"
      },
      "source": [
        "story=\"Daniel is in the bathroom . John is in the garden . Mary is in the hallway .\""
      ],
      "id": "ZwUygGlmBcws",
      "execution_count": 152,
      "outputs": []
    },
    {
      "cell_type": "code",
      "metadata": {
        "colab": {
          "base_uri": "https://localhost:8080/"
        },
        "id": "Jfz3JJt-B7PU",
        "outputId": "8fd9c1d3-69f8-4a5e-f2f6-49f7e1f12922"
      },
      "source": [
        "story.split()"
      ],
      "id": "Jfz3JJt-B7PU",
      "execution_count": 153,
      "outputs": [
        {
          "output_type": "execute_result",
          "data": {
            "text/plain": [
              "['Daniel',\n",
              " 'is',\n",
              " 'in',\n",
              " 'the',\n",
              " 'bathroom',\n",
              " '.',\n",
              " 'John',\n",
              " 'is',\n",
              " 'in',\n",
              " 'the',\n",
              " 'garden',\n",
              " '.',\n",
              " 'Mary',\n",
              " 'is',\n",
              " 'in',\n",
              " 'the',\n",
              " 'hallway',\n",
              " '.']"
            ]
          },
          "metadata": {},
          "execution_count": 153
        }
      ]
    },
    {
      "cell_type": "code",
      "metadata": {
        "colab": {
          "base_uri": "https://localhost:8080/"
        },
        "id": "IXfm4o7GB9QA",
        "outputId": "3db76e21-77e3-41df-8795-701e62e556a6"
      },
      "source": [
        "question=\"Is Mary in the hallway ?\"\n",
        "question.split()"
      ],
      "id": "IXfm4o7GB9QA",
      "execution_count": 166,
      "outputs": [
        {
          "output_type": "execute_result",
          "data": {
            "text/plain": [
              "['Is', 'Mary', 'in', 'the', 'hallway', '?']"
            ]
          },
          "metadata": {},
          "execution_count": 166
        }
      ]
    },
    {
      "cell_type": "code",
      "metadata": {
        "id": "Aub6OrcYCpgP"
      },
      "source": [
        "my_data=[(story.split(),question.split(),'no')]\n",
        "my_story,my_ques,my_ans=vectorize_stories(my_data)"
      ],
      "id": "Aub6OrcYCpgP",
      "execution_count": 167,
      "outputs": []
    },
    {
      "cell_type": "code",
      "metadata": {
        "id": "i0bD4NufD-IP"
      },
      "source": [
        "my_pred=my_model.predict(([my_story,my_ques]))"
      ],
      "id": "i0bD4NufD-IP",
      "execution_count": 168,
      "outputs": []
    },
    {
      "cell_type": "code",
      "metadata": {
        "colab": {
          "base_uri": "https://localhost:8080/"
        },
        "id": "8rZ8MGg2EPHC",
        "outputId": "ae8948da-3942-4589-b14b-1f5ab0484068"
      },
      "source": [
        "max_val=np.argmax(my_pred)\n",
        "\n",
        "for key,val in tokenizer.word_index.items():\n",
        "  if val==val_max:\n",
        "    k=key\n",
        "\n",
        "print(\"The answer is: \",k)\n",
        "print(\"Certainity\",my_pred[0][max_val])"
      ],
      "id": "8rZ8MGg2EPHC",
      "execution_count": 169,
      "outputs": [
        {
          "output_type": "stream",
          "text": [
            "The answer is:  yes\n",
            "Certainity 0.9242814\n"
          ],
          "name": "stdout"
        }
      ]
    },
    {
      "cell_type": "markdown",
      "metadata": {
        "id": "c6M9pSVbGJdS"
      },
      "source": [
        "### Try another on another story and question"
      ],
      "id": "c6M9pSVbGJdS"
    },
    {
      "cell_type": "code",
      "metadata": {
        "colab": {
          "base_uri": "https://localhost:8080/"
        },
        "id": "qYZdF42uEdsx",
        "outputId": "cf881f3c-1e3b-4488-a94f-5c59c5d46e3d"
      },
      "source": [
        "my_story = \"John left the kitchen . Sandra dropped the football in the garden .\"\n",
        "my_story.split()"
      ],
      "id": "qYZdF42uEdsx",
      "execution_count": 172,
      "outputs": [
        {
          "output_type": "execute_result",
          "data": {
            "text/plain": [
              "['John',\n",
              " 'left',\n",
              " 'the',\n",
              " 'kitchen',\n",
              " '.',\n",
              " 'Sandra',\n",
              " 'dropped',\n",
              " 'the',\n",
              " 'football',\n",
              " 'in',\n",
              " 'the',\n",
              " 'garden',\n",
              " '.']"
            ]
          },
          "metadata": {},
          "execution_count": 172
        }
      ]
    },
    {
      "cell_type": "code",
      "metadata": {
        "id": "NdI8ZMHnFo32"
      },
      "source": [
        "my_question = \"Is the football in the kitchen ?\""
      ],
      "id": "NdI8ZMHnFo32",
      "execution_count": 173,
      "outputs": []
    },
    {
      "cell_type": "code",
      "metadata": {
        "id": "ECT9SQauFveZ"
      },
      "source": [
        "mydata = [(my_story.split(),my_question.split(),'yes')]"
      ],
      "id": "ECT9SQauFveZ",
      "execution_count": 174,
      "outputs": []
    },
    {
      "cell_type": "code",
      "metadata": {
        "id": "DwYcIos3F1bg"
      },
      "source": [
        "my_story,my_ques,my_ans = vectorize_stories(mydata)"
      ],
      "id": "DwYcIos3F1bg",
      "execution_count": 175,
      "outputs": []
    },
    {
      "cell_type": "code",
      "metadata": {
        "id": "BruSo-sxF4fr"
      },
      "source": [
        "pred_results = my_model.predict(([ my_story, my_ques]))"
      ],
      "id": "BruSo-sxF4fr",
      "execution_count": 176,
      "outputs": []
    },
    {
      "cell_type": "code",
      "metadata": {
        "colab": {
          "base_uri": "https://localhost:8080/"
        },
        "id": "3gywvHzeF9du",
        "outputId": "2d7c76bf-cece-41a4-b6e4-b2b3613f0bfa"
      },
      "source": [
        "val_max = np.argmax(pred_results[0])\n",
        "\n",
        "for key, val in tokenizer.word_index.items():\n",
        "    if val == val_max:\n",
        "        k = key\n",
        "\n",
        "print(\"Predicted answer is: \", k)\n",
        "print(\"Probability of certainty was: \", pred_results[0][val_max])"
      ],
      "id": "3gywvHzeF9du",
      "execution_count": 177,
      "outputs": [
        {
          "output_type": "stream",
          "text": [
            "Predicted answer is:  no\n",
            "Probability of certainty was:  0.9999703\n"
          ],
          "name": "stdout"
        }
      ]
    },
    {
      "cell_type": "code",
      "metadata": {
        "id": "jRiIOi_iGDXt"
      },
      "source": [
        ""
      ],
      "id": "jRiIOi_iGDXt",
      "execution_count": null,
      "outputs": []
    }
  ]
}