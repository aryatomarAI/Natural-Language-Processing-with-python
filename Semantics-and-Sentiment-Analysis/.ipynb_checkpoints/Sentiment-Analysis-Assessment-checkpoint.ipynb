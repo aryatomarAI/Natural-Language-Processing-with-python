{
 "cells": [
  {
   "cell_type": "markdown",
   "id": "fababa4d",
   "metadata": {},
   "source": [
    "# Task #1: Perform vector arithmetic on your own words"
   ]
  },
  {
   "cell_type": "code",
   "execution_count": 51,
   "id": "50f24676",
   "metadata": {},
   "outputs": [],
   "source": [
    "import numpy as np\n",
    "import spacy\n",
    "import en_core_web_lg\n",
    "nlp=en_core_web_lg.load()"
   ]
  },
  {
   "cell_type": "code",
   "execution_count": 52,
   "id": "a89cba98",
   "metadata": {},
   "outputs": [],
   "source": [
    "word1=nlp(u'wolf').vector\n",
    "word2=nlp(u\"dog\").vector\n",
    "word3=nlp(u\"cat\").vector"
   ]
  },
  {
   "cell_type": "code",
   "execution_count": 47,
   "id": "66750ce5",
   "metadata": {},
   "outputs": [
    {
     "data": {
      "text/plain": [
       "(300,)"
      ]
     },
     "execution_count": 47,
     "metadata": {},
     "output_type": "execute_result"
    }
   ],
   "source": []
  },
  {
   "cell_type": "code",
   "execution_count": 53,
   "id": "bc2544cd",
   "metadata": {},
   "outputs": [],
   "source": [
    "from scipy import spatial\n",
    "cosine_similarity=lambda x,y: 1 - spatial.distance.cosine(x,y)"
   ]
  },
  {
   "cell_type": "code",
   "execution_count": 54,
   "id": "dd89efce",
   "metadata": {},
   "outputs": [
    {
     "name": "stdout",
     "output_type": "stream",
     "text": [
      "['wolf', 'cat', 'i', 'cuz', 'dare', 'u', 'dog', 'she', 'ai', 'ca']\n"
     ]
    }
   ],
   "source": [
    "\n",
    "\n",
    "new_vector=word1 - word2 + word3\n",
    "\n",
    "computed_similarity=[]\n",
    "\n",
    "for word in nlp.vocab:\n",
    "    if word.has_vector:\n",
    "        if word.is_lower:\n",
    "            if word.is_alpha:\n",
    "                similarity=cosine_similarity(new_vector,[word.vector])\n",
    "                computed_similarity.append((word,similarity))\n",
    "                \n",
    "computed_similarity=sorted(computed_similarity,key=lambda item : -item[1])\n",
    "print([x[0].text for x in computed_similarity[:10]])"
   ]
  },
  {
   "cell_type": "markdown",
   "id": "babe64e4",
   "metadata": {},
   "source": [
    "## CHALLENGE: Write a function that takes in 3 strings, performs a-b+c arithmetic, and returns a top-ten result\n"
   ]
  },
  {
   "cell_type": "code",
   "execution_count": 38,
   "id": "eda59402",
   "metadata": {},
   "outputs": [],
   "source": [
    "def vector_math(a,b,c):\n",
    "    new_vector = nlp.vocab[a].vector - nlp.vocab[b].vector + nlp.vocab[c].vector\n",
    "    computed_similarities = []\n",
    "\n",
    "    for word in nlp.vocab:\n",
    "        if word.has_vector:\n",
    "            if word.is_lower:\n",
    "                if word.is_alpha:\n",
    "                    similarity = cosine_similarity(new_vector, word.vector)\n",
    "                    computed_similarities.append((word, similarity))\n",
    "\n",
    "    computed_similarities = sorted(computed_similarities, key=lambda item: -item[1])\n",
    "\n",
    "    return [w[0].text for w in computed_similarities[:10]]\n"
   ]
  },
  {
   "cell_type": "code",
   "execution_count": 39,
   "id": "30b73158",
   "metadata": {},
   "outputs": [
    {
     "data": {
      "text/plain": [
       "['queen', 'man', 'he', 'cuz', 'let', 'u', 'nothin', 'lovin', 'nuff', 'wolf']"
      ]
     },
     "execution_count": 39,
     "metadata": {},
     "output_type": "execute_result"
    }
   ],
   "source": [
    "vector_math(\"queen\",\"woman\",\"man\")"
   ]
  },
  {
   "cell_type": "markdown",
   "id": "4529d872",
   "metadata": {},
   "source": [
    "## Task #2: Perform VADER Sentiment Analysis on your own review"
   ]
  },
  {
   "cell_type": "code",
   "execution_count": 55,
   "id": "148887cf",
   "metadata": {},
   "outputs": [],
   "source": [
    "import nltk\n",
    "from nltk.sentiment.vader import SentimentIntensityAnalyzer\n",
    "sia=SentimentIntensityAnalyzer()\n"
   ]
  },
  {
   "cell_type": "code",
   "execution_count": 65,
   "id": "a3a0101a",
   "metadata": {},
   "outputs": [],
   "source": [
    "review=\"Acting is brilliant in this movie, but i don't really like it's story line\""
   ]
  },
  {
   "cell_type": "code",
   "execution_count": 66,
   "id": "462772c2",
   "metadata": {},
   "outputs": [],
   "source": [
    "scores=sia.polarity_scores(review)"
   ]
  },
  {
   "cell_type": "code",
   "execution_count": 67,
   "id": "8dca2808",
   "metadata": {},
   "outputs": [
    {
     "data": {
      "text/plain": [
       "{'neg': 0.182, 'neu': 0.671, 'pos': 0.146, 'compound': -0.1507}"
      ]
     },
     "execution_count": 67,
     "metadata": {},
     "output_type": "execute_result"
    }
   ],
   "source": [
    "scores"
   ]
  },
  {
   "cell_type": "code",
   "execution_count": 68,
   "id": "876da512",
   "metadata": {},
   "outputs": [
    {
     "name": "stdout",
     "output_type": "stream",
     "text": [
      "Negative\n"
     ]
    }
   ],
   "source": [
    "if scores['compound']==0:\n",
    "    print(\"Neutral\")\n",
    "elif scores['compound'] > 0:\n",
    "    print(\"Positive\")\n",
    "else:\n",
    "    print(\"Negative\")"
   ]
  },
  {
   "cell_type": "code",
   "execution_count": null,
   "id": "d55e23b5",
   "metadata": {},
   "outputs": [],
   "source": []
  }
 ],
 "metadata": {
  "kernelspec": {
   "display_name": "Python 3",
   "language": "python",
   "name": "python3"
  },
  "language_info": {
   "codemirror_mode": {
    "name": "ipython",
    "version": 3
   },
   "file_extension": ".py",
   "mimetype": "text/x-python",
   "name": "python",
   "nbconvert_exporter": "python",
   "pygments_lexer": "ipython3",
   "version": "3.7.10"
  }
 },
 "nbformat": 4,
 "nbformat_minor": 5
}
