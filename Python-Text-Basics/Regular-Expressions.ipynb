{
 "cells": [
  {
   "cell_type": "markdown",
   "id": "b7b65634",
   "metadata": {},
   "source": [
    "## Regular Expressions \n",
    "\n",
    "Regular Expressions allow us to search a specific pattern in a text document\n",
    "\n",
    "The key thing to keep in mind is that every character type has a corresponding pattern code.\n",
    "\n",
    "For example, digits have the placeholder pattern code od \\d\n",
    "\n",
    "The use of backslash allows python to understand that it is a special code and the letter \"d\""
   ]
  },
  {
   "cell_type": "code",
   "execution_count": 2,
   "id": "1212ec81",
   "metadata": {},
   "outputs": [
    {
     "data": {
      "text/plain": [
       "True"
      ]
     },
     "execution_count": 2,
     "metadata": {},
     "output_type": "execute_result"
    }
   ],
   "source": [
    "text=\"The phone number of the agent is 400-673-1223. Call Now!\"\n",
    "\"400-673-1223\" in text"
   ]
  },
  {
   "cell_type": "markdown",
   "id": "3ddc3149",
   "metadata": {},
   "source": [
    "### Searching for the basic patterns"
   ]
  },
  {
   "cell_type": "code",
   "execution_count": 3,
   "id": "71c66731",
   "metadata": {},
   "outputs": [],
   "source": [
    "import re"
   ]
  },
  {
   "cell_type": "code",
   "execution_count": 4,
   "id": "8b7f05cb",
   "metadata": {},
   "outputs": [
    {
     "data": {
      "text/plain": [
       "'The phone number of the agent is 400-673-1223. Call Now!'"
      ]
     },
     "execution_count": 4,
     "metadata": {},
     "output_type": "execute_result"
    }
   ],
   "source": [
    "text"
   ]
  },
  {
   "cell_type": "code",
   "execution_count": 5,
   "id": "8b3542ff",
   "metadata": {},
   "outputs": [],
   "source": [
    "pattern='phone'\n",
    "my_match=re.search(pattern,text)"
   ]
  },
  {
   "cell_type": "code",
   "execution_count": 6,
   "id": "444e5870",
   "metadata": {},
   "outputs": [
    {
     "data": {
      "text/plain": [
       "<re.Match object; span=(4, 9), match='phone'>"
      ]
     },
     "execution_count": 6,
     "metadata": {},
     "output_type": "execute_result"
    }
   ],
   "source": [
    "my_match"
   ]
  },
  {
   "cell_type": "code",
   "execution_count": 7,
   "id": "491554af",
   "metadata": {},
   "outputs": [
    {
     "data": {
      "text/plain": [
       "(4, 9)"
      ]
     },
     "execution_count": 7,
     "metadata": {},
     "output_type": "execute_result"
    }
   ],
   "source": [
    "my_match.span()   # indexes of the match"
   ]
  },
  {
   "cell_type": "code",
   "execution_count": 8,
   "id": "0a9292bd",
   "metadata": {},
   "outputs": [
    {
     "data": {
      "text/plain": [
       "4"
      ]
     },
     "execution_count": 8,
     "metadata": {},
     "output_type": "execute_result"
    }
   ],
   "source": [
    "my_match.start()  # Starting index of the match"
   ]
  },
  {
   "cell_type": "code",
   "execution_count": 10,
   "id": "6f09632c",
   "metadata": {},
   "outputs": [
    {
     "data": {
      "text/plain": [
       "9"
      ]
     },
     "execution_count": 10,
     "metadata": {},
     "output_type": "execute_result"
    }
   ],
   "source": [
    "my_match.end()   # Ending index of the match"
   ]
  },
  {
   "cell_type": "code",
   "execution_count": 11,
   "id": "6345c7cf",
   "metadata": {},
   "outputs": [],
   "source": [
    "text1=\"My phone is a new phone\"\n",
    "pattern='phone'\n",
    "my_match=re.search(pattern,text1)"
   ]
  },
  {
   "cell_type": "code",
   "execution_count": 13,
   "id": "47fa6841",
   "metadata": {},
   "outputs": [
    {
     "data": {
      "text/plain": [
       "<re.Match object; span=(3, 8), match='phone'>"
      ]
     },
     "execution_count": 13,
     "metadata": {},
     "output_type": "execute_result"
    }
   ],
   "source": [
    "my_match"
   ]
  },
  {
   "cell_type": "code",
   "execution_count": 14,
   "id": "a9d833d2",
   "metadata": {},
   "outputs": [],
   "source": [
    "# If there are multiple same pattern present in a text then search method only give the position of the first founded match not the other one"
   ]
  },
  {
   "cell_type": "markdown",
   "id": "82b7e254",
   "metadata": {},
   "source": [
    "**To find all the similar matches inside the text**"
   ]
  },
  {
   "cell_type": "code",
   "execution_count": 16,
   "id": "3b9b227e",
   "metadata": {},
   "outputs": [],
   "source": [
    "# We will use findall method to find all the similar matches inside a text"
   ]
  },
  {
   "cell_type": "code",
   "execution_count": 17,
   "id": "0a1873a3",
   "metadata": {},
   "outputs": [],
   "source": [
    "all_matches=re.findall(pattern,text1)"
   ]
  },
  {
   "cell_type": "code",
   "execution_count": 18,
   "id": "fc619c58",
   "metadata": {},
   "outputs": [
    {
     "data": {
      "text/plain": [
       "['phone', 'phone']"
      ]
     },
     "execution_count": 18,
     "metadata": {},
     "output_type": "execute_result"
    }
   ],
   "source": [
    "all_matches"
   ]
  },
  {
   "cell_type": "code",
   "execution_count": 19,
   "id": "b9d212e8",
   "metadata": {},
   "outputs": [
    {
     "data": {
      "text/plain": [
       "2"
      ]
     },
     "execution_count": 19,
     "metadata": {},
     "output_type": "execute_result"
    }
   ],
   "source": [
    "len(all_matches)"
   ]
  },
  {
   "cell_type": "markdown",
   "id": "7742d77f",
   "metadata": {},
   "source": [
    "To get actual match objects, use the iterator:"
   ]
  },
  {
   "cell_type": "code",
   "execution_count": 21,
   "id": "b19635dd",
   "metadata": {},
   "outputs": [
    {
     "name": "stdout",
     "output_type": "stream",
     "text": [
      "phone (3, 8)\n",
      "phone (18, 23)\n"
     ]
    }
   ],
   "source": [
    "for match in re.finditer(pattern,text1):\n",
    "    print(match.group(), match.span())"
   ]
  },
  {
   "cell_type": "markdown",
   "id": "758abfcf",
   "metadata": {},
   "source": [
    "## Patterns\n",
    "\n",
    "### Identifiers for Characters in Patterns\n",
    "\n",
    "Characters such as a digit or a single string have different codes that represent them. You can use these to build up a pattern string. Notice how these make heavy use of the backwards slash \\ . Because of this when defining a pattern string for regular expression we use the format:\n",
    "\n",
    "    r'mypattern'\n",
    "    \n",
    "placing the r in front of the string allows python to understand that the \\ in the pattern string are not meant to be escape slashes.\n",
    "\n",
    "Below you can find a table of all the possible identifiers:\n",
    "                               "
   ]
  },
  {
   "cell_type": "markdown",
   "id": "2ebe7cb5",
   "metadata": {},
   "source": [
    "<table ><tr><th>Character</th><th>Description</th><th>Example Pattern Code</th><th >Exammple Match</th></tr>\n",
    "\n",
    "<tr ><td><span >\\d</span></td><td>A digit</td><td>file_\\d\\d</td><td>file_25</td></tr>\n",
    "\n",
    "<tr ><td><span >\\w</span></td><td>Alphanumeric</td><td>\\w-\\w\\w\\w</td><td>A-b_1</td></tr>\n",
    "\n",
    "\n",
    "\n",
    "<tr ><td><span >\\s</span></td><td>White space</td><td>a\\sb\\sc</td><td>a b c</td></tr>\n",
    "\n",
    "\n",
    "\n",
    "<tr ><td><span >\\D</span></td><td>A non digit</td><td>\\D\\D\\D</td><td>ABC</td></tr>\n",
    "\n",
    "<tr ><td><span >\\W</span></td><td>Non-alphanumeric</td><td>\\W\\W\\W\\W\\W</td><td>*-+=)</td></tr>\n",
    "\n",
    "<tr ><td><span >\\S</span></td><td>Non-whitespace</td><td>\\S\\S\\S\\S</td><td>Yoyo</td></tr></table>"
   ]
  },
  {
   "cell_type": "code",
   "execution_count": 23,
   "id": "189495ce",
   "metadata": {},
   "outputs": [
    {
     "data": {
      "text/plain": [
       "'The phone number of the agent is 400-673-1223. Call Now!'"
      ]
     },
     "execution_count": 23,
     "metadata": {},
     "output_type": "execute_result"
    }
   ],
   "source": [
    "text"
   ]
  },
  {
   "cell_type": "code",
   "execution_count": 24,
   "id": "6b25ded1",
   "metadata": {},
   "outputs": [],
   "source": [
    "pattern=r\"\\d\\d\\d-\\d\\d\\d-\\d\\d\\d\\d\"\n",
    "phone_number=re.search(pattern,text)"
   ]
  },
  {
   "cell_type": "code",
   "execution_count": 25,
   "id": "3771f62e",
   "metadata": {},
   "outputs": [
    {
     "data": {
      "text/plain": [
       "(33, 45)"
      ]
     },
     "execution_count": 25,
     "metadata": {},
     "output_type": "execute_result"
    }
   ],
   "source": [
    "phone_number.span()"
   ]
  },
  {
   "cell_type": "code",
   "execution_count": 26,
   "id": "5da34911",
   "metadata": {},
   "outputs": [
    {
     "data": {
      "text/plain": [
       "'400-673-1223'"
      ]
     },
     "execution_count": 26,
     "metadata": {},
     "output_type": "execute_result"
    }
   ],
   "source": [
    "phone_number.group()"
   ]
  },
  {
   "cell_type": "markdown",
   "id": "353d45e8",
   "metadata": {},
   "source": [
    "Notice the repetition of \\d. That is a bit of an annoyance, especially if we are looking for very long strings of numbers. Let's explore the possible quantifiers.\n",
    "\n",
    "## Quantifiers\n",
    "\n",
    "Now that we know the special character designations, we can use them along with quantifiers to define how many we expect."
   ]
  },
  {
   "cell_type": "markdown",
   "id": "0c47ed6c",
   "metadata": {},
   "source": [
    "<table ><tr><th>Character</th><th>Description</th><th>Example Pattern Code</th><th >Exammple Match</th></tr>\n",
    "\n",
    "<tr ><td><span >+</span></td><td>Occurs one or more times</td><td>\tVersion \\w-\\w+</td><td>Version A-b1_1</td></tr>\n",
    "\n",
    "<tr ><td><span >{3}</span></td><td>Occurs exactly 3 times</td><td>\\D{3}</td><td>abc</td></tr>\n",
    "\n",
    "\n",
    "\n",
    "<tr ><td><span >{2,4}</span></td><td>Occurs 2 to 4 times</td><td>\\d{2,4}</td><td>123</td></tr>\n",
    "\n",
    "\n",
    "\n",
    "<tr ><td><span >{3,}</span></td><td>Occurs 3 or more</td><td>\\w{3,}</td><td>anycharacters</td></tr>\n",
    "\n",
    "<tr ><td><span >\\*</span></td><td>Occurs zero or more times</td><td>A\\*B\\*C*</td><td>AAACC</td></tr>\n",
    "\n",
    "<tr ><td><span >?</span></td><td>Once or none</td><td>plurals?</td><td>plural</td></tr></table>"
   ]
  },
  {
   "cell_type": "code",
   "execution_count": 28,
   "id": "425d40de",
   "metadata": {},
   "outputs": [
    {
     "data": {
      "text/plain": [
       "<re.Match object; span=(33, 45), match='400-673-1223'>"
      ]
     },
     "execution_count": 28,
     "metadata": {},
     "output_type": "execute_result"
    }
   ],
   "source": [
    "re.search(r\"\\d{3}-\\d{3}-\\d{4}\",text)"
   ]
  },
  {
   "cell_type": "markdown",
   "id": "7639ae27",
   "metadata": {},
   "source": [
    "## Groups"
   ]
  },
  {
   "cell_type": "code",
   "execution_count": 29,
   "id": "376d3ced",
   "metadata": {},
   "outputs": [],
   "source": [
    "phone_pattern=re.compile(r\"(\\d{3})-(\\d{3})-(\\d{4})\")\n",
    "my_match=re.search(phone_pattern,text)"
   ]
  },
  {
   "cell_type": "code",
   "execution_count": 30,
   "id": "dff3dd77",
   "metadata": {},
   "outputs": [
    {
     "data": {
      "text/plain": [
       "'400-673-1223'"
      ]
     },
     "execution_count": 30,
     "metadata": {},
     "output_type": "execute_result"
    }
   ],
   "source": [
    "my_match.group()  # all groups combined"
   ]
  },
  {
   "cell_type": "code",
   "execution_count": 32,
   "id": "97af7dd9",
   "metadata": {},
   "outputs": [
    {
     "data": {
      "text/plain": [
       "'400'"
      ]
     },
     "execution_count": 32,
     "metadata": {},
     "output_type": "execute_result"
    }
   ],
   "source": [
    "my_match.group(1)"
   ]
  },
  {
   "cell_type": "code",
   "execution_count": 33,
   "id": "514cbe95",
   "metadata": {},
   "outputs": [
    {
     "data": {
      "text/plain": [
       "'673'"
      ]
     },
     "execution_count": 33,
     "metadata": {},
     "output_type": "execute_result"
    }
   ],
   "source": [
    "my_match.group(2)"
   ]
  },
  {
   "cell_type": "code",
   "execution_count": 34,
   "id": "dd74f641",
   "metadata": {},
   "outputs": [
    {
     "data": {
      "text/plain": [
       "'1223'"
      ]
     },
     "execution_count": 34,
     "metadata": {},
     "output_type": "execute_result"
    }
   ],
   "source": [
    "my_match.group(3)"
   ]
  },
  {
   "cell_type": "markdown",
   "id": "cb1efd84",
   "metadata": {},
   "source": [
    "## Or Operators"
   ]
  },
  {
   "cell_type": "code",
   "execution_count": 36,
   "id": "d4808f38",
   "metadata": {},
   "outputs": [
    {
     "data": {
      "text/plain": [
       "<re.Match object; span=(12, 17), match='woman'>"
      ]
     },
     "execution_count": 36,
     "metadata": {},
     "output_type": "execute_result"
    }
   ],
   "source": [
    "re.search(r\"man|woman\",\"there was a woman here\")"
   ]
  },
  {
   "cell_type": "code",
   "execution_count": 37,
   "id": "5619a62b",
   "metadata": {},
   "outputs": [
    {
     "data": {
      "text/plain": [
       "<re.Match object; span=(12, 15), match='man'>"
      ]
     },
     "execution_count": 37,
     "metadata": {},
     "output_type": "execute_result"
    }
   ],
   "source": [
    "re.search(r\"man|woman\",\"there was a man here\")"
   ]
  },
  {
   "cell_type": "markdown",
   "id": "d142c9d2",
   "metadata": {},
   "source": [
    "## The wildcard character\n",
    "Use a \"wildcard\" as a placement that will match any character placed there. You can use a simple period . for this."
   ]
  },
  {
   "cell_type": "code",
   "execution_count": 38,
   "id": "d66a1d64",
   "metadata": {},
   "outputs": [
    {
     "data": {
      "text/plain": [
       "['cat', 'hat', 'mat']"
      ]
     },
     "execution_count": 38,
     "metadata": {},
     "output_type": "execute_result"
    }
   ],
   "source": [
    "re.findall(r\".at\",\"There is a cat in the hat on the mat\")"
   ]
  },
  {
   "cell_type": "code",
   "execution_count": 39,
   "id": "0a64c15e",
   "metadata": {},
   "outputs": [
    {
     "data": {
      "text/plain": [
       "[' bat', 'plat']"
      ]
     },
     "execution_count": 39,
     "metadata": {},
     "output_type": "execute_result"
    }
   ],
   "source": [
    "re.findall(r\"..at\",\"This bat went splat\")"
   ]
  },
  {
   "cell_type": "code",
   "execution_count": 40,
   "id": "e300e06f",
   "metadata": {},
   "outputs": [
    {
     "data": {
      "text/plain": [
       "['bat', 'splat']"
      ]
     },
     "execution_count": 40,
     "metadata": {},
     "output_type": "execute_result"
    }
   ],
   "source": [
    "re.findall(r\"\\S+at\",\"This bat went splat\")"
   ]
  },
  {
   "cell_type": "markdown",
   "id": "a2dfbde8",
   "metadata": {},
   "source": [
    "## Starts with and ends with\n",
    "We can use the ^ to signal starts with, and the $ to signal ends with:"
   ]
  },
  {
   "cell_type": "code",
   "execution_count": 44,
   "id": "5c826480",
   "metadata": {},
   "outputs": [
    {
     "data": {
      "text/plain": [
       "['1']"
      ]
     },
     "execution_count": 44,
     "metadata": {},
     "output_type": "execute_result"
    }
   ],
   "source": [
    "re.findall(r'\\d$',\"5,2,3 This string ends with and starts with a digit 1\")"
   ]
  },
  {
   "cell_type": "code",
   "execution_count": 45,
   "id": "34ebfe75",
   "metadata": {},
   "outputs": [
    {
     "data": {
      "text/plain": [
       "['5']"
      ]
     },
     "execution_count": 45,
     "metadata": {},
     "output_type": "execute_result"
    }
   ],
   "source": [
    "re.findall(r\"^\\d\",\"5,2,4 This string starts and ends with a digit 2\")"
   ]
  },
  {
   "cell_type": "markdown",
   "id": "d4d0e267",
   "metadata": {},
   "source": [
    "## Exclusion\n",
    "To exclude characters, we can use the ^ symbol in conjunction with a set of brackets []. Anything inside the brackets is excluded."
   ]
  },
  {
   "cell_type": "code",
   "execution_count": 46,
   "id": "b54d6525",
   "metadata": {},
   "outputs": [
    {
     "data": {
      "text/plain": [
       "['T',\n",
       " 'h',\n",
       " 'i',\n",
       " 's',\n",
       " ' ',\n",
       " 's',\n",
       " 't',\n",
       " 'r',\n",
       " 'i',\n",
       " 'n',\n",
       " 'g',\n",
       " ' ',\n",
       " ' ',\n",
       " 'i',\n",
       " 'n',\n",
       " 'c',\n",
       " 'l',\n",
       " 'u',\n",
       " 'd',\n",
       " 'e',\n",
       " ' ',\n",
       " ' ',\n",
       " 's',\n",
       " 'o',\n",
       " 'm',\n",
       " 'e',\n",
       " ' ',\n",
       " 'n',\n",
       " 'u',\n",
       " 'm',\n",
       " 'b',\n",
       " 'e',\n",
       " 'r',\n",
       " 's',\n",
       " ' ']"
      ]
     },
     "execution_count": 46,
     "metadata": {},
     "output_type": "execute_result"
    }
   ],
   "source": [
    "line='This string 3 include 34 some numbers 253'\n",
    "\n",
    "re.findall(r'[^\\d]',line)"
   ]
  },
  {
   "cell_type": "code",
   "execution_count": 48,
   "id": "6e336bc3",
   "metadata": {},
   "outputs": [],
   "source": [
    "f=re.findall(r'[^\\d]+',line)"
   ]
  },
  {
   "cell_type": "code",
   "execution_count": 49,
   "id": "4250cba1",
   "metadata": {},
   "outputs": [
    {
     "data": {
      "text/plain": [
       "'This string  include  some numbers '"
      ]
     },
     "execution_count": 49,
     "metadata": {},
     "output_type": "execute_result"
    }
   ],
   "source": [
    "''.join(f)"
   ]
  },
  {
   "cell_type": "markdown",
   "id": "6a489367",
   "metadata": {},
   "source": [
    "We can use this to remove punctuations from a string"
   ]
  },
  {
   "cell_type": "code",
   "execution_count": 50,
   "id": "3bcfbbc0",
   "metadata": {},
   "outputs": [
    {
     "data": {
      "text/plain": [
       "['In',\n",
       " 'this',\n",
       " 'string',\n",
       " 'we',\n",
       " 'have',\n",
       " 'punctuations',\n",
       " 'But',\n",
       " 'we',\n",
       " \"don't\",\n",
       " 'want',\n",
       " 'them']"
      ]
     },
     "execution_count": 50,
     "metadata": {},
     "output_type": "execute_result"
    }
   ],
   "source": [
    "my_str=\"In this string, we have punctuations! But we don't want them?\"\n",
    "re.findall(r\"[^,!? ]+\",my_str)"
   ]
  },
  {
   "cell_type": "code",
   "execution_count": 51,
   "id": "7991f434",
   "metadata": {},
   "outputs": [
    {
     "data": {
      "text/plain": [
       "\"In this string we have punctuations But we don't want them\""
      ]
     },
     "execution_count": 51,
     "metadata": {},
     "output_type": "execute_result"
    }
   ],
   "source": [
    "\" \".join(re.findall(r\"[^,!? ]+\",my_str))"
   ]
  },
  {
   "cell_type": "markdown",
   "id": "9b6782e9",
   "metadata": {},
   "source": [
    "## Brackets for grouping"
   ]
  },
  {
   "cell_type": "code",
   "execution_count": 53,
   "id": "4c2c268d",
   "metadata": {},
   "outputs": [
    {
     "data": {
      "text/plain": [
       "['hypen-words', 'long-ish']"
      ]
     },
     "execution_count": 53,
     "metadata": {},
     "output_type": "execute_result"
    }
   ],
   "source": [
    "line_a= 'Only find the hypen-words in this sentence. But you do not know how long-ish they are'\n",
    "re.findall(r\"[\\w]+-[\\w]+\",line_a)"
   ]
  },
  {
   "cell_type": "code",
   "execution_count": null,
   "id": "0d4897fa",
   "metadata": {},
   "outputs": [],
   "source": []
  }
 ],
 "metadata": {
  "kernelspec": {
   "display_name": "Python 3",
   "language": "python",
   "name": "python3"
  },
  "language_info": {
   "codemirror_mode": {
    "name": "ipython",
    "version": 3
   },
   "file_extension": ".py",
   "mimetype": "text/x-python",
   "name": "python",
   "nbconvert_exporter": "python",
   "pygments_lexer": "ipython3",
   "version": "3.7.10"
  }
 },
 "nbformat": 4,
 "nbformat_minor": 5
}
