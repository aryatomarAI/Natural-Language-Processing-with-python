{
 "cells": [
  {
   "cell_type": "markdown",
   "id": "5510672e",
   "metadata": {},
   "source": [
    "## Python Text basics assessment"
   ]
  },
  {
   "cell_type": "markdown",
   "id": "6a5732e4",
   "metadata": {},
   "source": [
    "## f-Strings\n",
    "#### 1. Print an f-string that displays `NLP stands for Natural Language Processing` using the variables provided."
   ]
  },
  {
   "cell_type": "code",
   "execution_count": 1,
   "id": "4ecab164",
   "metadata": {},
   "outputs": [
    {
     "name": "stdout",
     "output_type": "stream",
     "text": [
      "NLP stands for Natural Language Processing\n"
     ]
    }
   ],
   "source": [
    "abbr = 'NLP'\n",
    "full_text = 'Natural Language Processing'\n",
    "\n",
    "print(f\"{abbr} stands for {full_text}\")"
   ]
  },
  {
   "cell_type": "markdown",
   "id": "3b7db33a",
   "metadata": {},
   "source": [
    "## Files\n",
    "#### 2. Create a file in the current working directory called `contacts.txt` by running the cell below:"
   ]
  },
  {
   "cell_type": "code",
   "execution_count": 2,
   "id": "026bd195",
   "metadata": {},
   "outputs": [
    {
     "name": "stdout",
     "output_type": "stream",
     "text": [
      "Writing contacts.txt\n"
     ]
    }
   ],
   "source": [
    "%%writefile contacts.txt\n",
    "First_Name Last_Name, Title, Extension, Email"
   ]
  },
  {
   "cell_type": "markdown",
   "id": "ec6fc710",
   "metadata": {},
   "source": [
    "#### 3. Open the file and use .read() to save the contents of the file to a string called `fields`.  Make sure the file is closed at the end."
   ]
  },
  {
   "cell_type": "code",
   "execution_count": 4,
   "id": "f0319edb",
   "metadata": {},
   "outputs": [],
   "source": [
    "f=open('contacts.txt',\"r\")\n",
    "fields=f.read()\n",
    "f.close()"
   ]
  },
  {
   "cell_type": "code",
   "execution_count": 5,
   "id": "22cc6655",
   "metadata": {},
   "outputs": [
    {
     "data": {
      "text/plain": [
       "'First_Name Last_Name, Title, Extension, Email\\n'"
      ]
     },
     "execution_count": 5,
     "metadata": {},
     "output_type": "execute_result"
    }
   ],
   "source": [
    "fields"
   ]
  },
  {
   "cell_type": "markdown",
   "id": "58fe35d6",
   "metadata": {},
   "source": [
    "## Working with PDF Files\n",
    "#### 4. Use PyPDF2 to open the file `Business_Proposal.pdf`. Extract the text of page 2."
   ]
  },
  {
   "cell_type": "code",
   "execution_count": 42,
   "id": "4f780344",
   "metadata": {},
   "outputs": [
    {
     "name": "stdout",
     "output_type": "stream",
     "text": [
      "AUTHORS:\n",
      " \n",
      "Amy Baker, Finance Chair, x345, abaker@ourcompany.com\n",
      " \n",
      "Chris Donaldson, Accounting Dir., x621, cdonaldson@ourcompany.com\n",
      " \n",
      "Erin Freeman, Sr. VP, x879, efreeman@ourcompany.com\n",
      " \n",
      "\n"
     ]
    }
   ],
   "source": [
    "import PyPDF2\n",
    "\n",
    "f=open(\"Business_Proposal.pdf\",\"rb\")\n",
    "\n",
    "pdf_reader=PyPDF2.PdfFileReader(f)\n",
    "\n",
    "page_2=pdf_reader.getPage(1)\n",
    "\n",
    "page_text=page_2.extractText()\n",
    "\n",
    "print(page_text)"
   ]
  },
  {
   "cell_type": "markdown",
   "id": "5b37179d",
   "metadata": {},
   "source": [
    "#### 5. Open the file `contacts.txt` in append mode. Add the text of page 2 from above to `contacts.txt`.\n",
    "\n",
    "#### CHALLENGE: See if you can remove the word \"AUTHORS:\""
   ]
  },
  {
   "cell_type": "code",
   "execution_count": 43,
   "id": "4bd3e658",
   "metadata": {},
   "outputs": [],
   "source": [
    "import re\n",
    "page_text=re.findall(r\"[^AUTHORS:]\",page_text)"
   ]
  },
  {
   "cell_type": "code",
   "execution_count": 44,
   "id": "1f265c9c",
   "metadata": {},
   "outputs": [],
   "source": [
    "page_text=''.join(page_text[2:])"
   ]
  },
  {
   "cell_type": "code",
   "execution_count": 45,
   "id": "2fb02dfc",
   "metadata": {},
   "outputs": [
    {
     "data": {
      "text/plain": [
       "'\\nmy Baker, Finance Chair, x345, abaker@ourcompany.com\\n \\nChris Donaldson, ccounting Dir., x621, cdonaldson@ourcompany.com\\n \\nErin Freeman, r. VP, x879, efreeman@ourcompany.com\\n \\n'"
      ]
     },
     "execution_count": 45,
     "metadata": {},
     "output_type": "execute_result"
    }
   ],
   "source": [
    "page_text"
   ]
  },
  {
   "cell_type": "code",
   "execution_count": 48,
   "id": "135fa4a5",
   "metadata": {},
   "outputs": [
    {
     "name": "stdout",
     "output_type": "stream",
     "text": [
      "First_Name Last_Name, Title, Extension, Email\n",
      "\n",
      "my Baker, Finance Chair, x345, abaker@ourcompany.com\n",
      " \n",
      "Chris Donaldson, ccounting Dir., x621, cdonaldson@ourcompany.com\n",
      " \n",
      "Erin Freeman, r. VP, x879, efreeman@ourcompany.com\n",
      " \n",
      "\n"
     ]
    }
   ],
   "source": [
    "with open('contacts.txt','a+') as f:\n",
    "    f.write(page_text)\n",
    "    f.seek(0)\n",
    "    print(f.read())\n",
    "    "
   ]
  },
  {
   "cell_type": "markdown",
   "id": "f8f9ec04",
   "metadata": {},
   "source": [
    "## Regular Expressions\n",
    "#### 6. Using the `page_two_text` variable created above, extract any email addresses that were contained in the file `Business_Proposal.pdf`."
   ]
  },
  {
   "cell_type": "code",
   "execution_count": 49,
   "id": "7860156b",
   "metadata": {},
   "outputs": [
    {
     "data": {
      "text/plain": [
       "'\\nmy Baker, Finance Chair, x345, abaker@ourcompany.com\\n \\nChris Donaldson, ccounting Dir., x621, cdonaldson@ourcompany.com\\n \\nErin Freeman, r. VP, x879, efreeman@ourcompany.com\\n \\n'"
      ]
     },
     "execution_count": 49,
     "metadata": {},
     "output_type": "execute_result"
    }
   ],
   "source": [
    "page_text"
   ]
  },
  {
   "cell_type": "code",
   "execution_count": 50,
   "id": "2ef4996e",
   "metadata": {},
   "outputs": [],
   "source": [
    "pattern=r\"[\\S]+@[\\w]+.com\"\n",
    "my_matches=re.findall(pattern,page_text)"
   ]
  },
  {
   "cell_type": "code",
   "execution_count": 51,
   "id": "1b52da03",
   "metadata": {},
   "outputs": [
    {
     "data": {
      "text/plain": [
       "['abaker@ourcompany.com',\n",
       " 'cdonaldson@ourcompany.com',\n",
       " 'efreeman@ourcompany.com']"
      ]
     },
     "execution_count": 51,
     "metadata": {},
     "output_type": "execute_result"
    }
   ],
   "source": [
    "my_matches"
   ]
  },
  {
   "cell_type": "code",
   "execution_count": null,
   "id": "8e677e52",
   "metadata": {},
   "outputs": [],
   "source": []
  },
  {
   "cell_type": "code",
   "execution_count": null,
   "id": "45f98360",
   "metadata": {},
   "outputs": [],
   "source": []
  }
 ],
 "metadata": {
  "kernelspec": {
   "display_name": "Python 3",
   "language": "python",
   "name": "python3"
  },
  "language_info": {
   "codemirror_mode": {
    "name": "ipython",
    "version": 3
   },
   "file_extension": ".py",
   "mimetype": "text/x-python",
   "name": "python",
   "nbconvert_exporter": "python",
   "pygments_lexer": "ipython3",
   "version": "3.7.10"
  }
 },
 "nbformat": 4,
 "nbformat_minor": 5
}
