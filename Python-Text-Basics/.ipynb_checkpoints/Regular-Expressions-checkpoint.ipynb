{
 "cells": [
  {
   "cell_type": "markdown",
   "id": "23b1a37b",
   "metadata": {},
   "source": [
    "## Regular Expressions \n",
    "\n",
    "Regular Expressions allow us to search a specific pattern in a text document\n",
    "\n",
    "The key thing to keep in mind is that every character type has a corresponding pattern code.\n",
    "\n",
    "For example, digits have the placeholder pattern code od \\d\n",
    "\n",
    "The use of backslash allows python to understand that it is a special code and the letter \"d\""
   ]
  },
  {
   "cell_type": "code",
   "execution_count": 2,
   "id": "d78ee488",
   "metadata": {},
   "outputs": [
    {
     "data": {
      "text/plain": [
       "True"
      ]
     },
     "execution_count": 2,
     "metadata": {},
     "output_type": "execute_result"
    }
   ],
   "source": [
    "text=\"The phone number of the agent is 400-673-1223. Call Now!\"\n",
    "\"400-673-1223\" in text"
   ]
  },
  {
   "cell_type": "markdown",
   "id": "259c2dee",
   "metadata": {},
   "source": [
    "### Searching for the basic patterns"
   ]
  },
  {
   "cell_type": "code",
   "execution_count": 3,
   "id": "c867b8b9",
   "metadata": {},
   "outputs": [],
   "source": [
    "import re"
   ]
  },
  {
   "cell_type": "code",
   "execution_count": 4,
   "id": "03d77413",
   "metadata": {},
   "outputs": [
    {
     "data": {
      "text/plain": [
       "'The phone number of the agent is 400-673-1223. Call Now!'"
      ]
     },
     "execution_count": 4,
     "metadata": {},
     "output_type": "execute_result"
    }
   ],
   "source": [
    "text"
   ]
  },
  {
   "cell_type": "code",
   "execution_count": 5,
   "id": "c455a9fa",
   "metadata": {},
   "outputs": [],
   "source": [
    "pattern='phone'\n",
    "my_match=re.search(pattern,text)"
   ]
  },
  {
   "cell_type": "code",
   "execution_count": 6,
   "id": "43129969",
   "metadata": {},
   "outputs": [
    {
     "data": {
      "text/plain": [
       "<re.Match object; span=(4, 9), match='phone'>"
      ]
     },
     "execution_count": 6,
     "metadata": {},
     "output_type": "execute_result"
    }
   ],
   "source": [
    "my_match"
   ]
  },
  {
   "cell_type": "code",
   "execution_count": 7,
   "id": "ef15f25b",
   "metadata": {},
   "outputs": [
    {
     "data": {
      "text/plain": [
       "(4, 9)"
      ]
     },
     "execution_count": 7,
     "metadata": {},
     "output_type": "execute_result"
    }
   ],
   "source": [
    "my_match.span()   # indexes of the match"
   ]
  },
  {
   "cell_type": "code",
   "execution_count": 8,
   "id": "25d52d58",
   "metadata": {},
   "outputs": [
    {
     "data": {
      "text/plain": [
       "4"
      ]
     },
     "execution_count": 8,
     "metadata": {},
     "output_type": "execute_result"
    }
   ],
   "source": [
    "my_match.start()  # Starting index of the match"
   ]
  },
  {
   "cell_type": "code",
   "execution_count": 10,
   "id": "46dfb7c6",
   "metadata": {},
   "outputs": [
    {
     "data": {
      "text/plain": [
       "9"
      ]
     },
     "execution_count": 10,
     "metadata": {},
     "output_type": "execute_result"
    }
   ],
   "source": [
    "my_match.end()   # Ending index of the match"
   ]
  },
  {
   "cell_type": "code",
   "execution_count": 11,
   "id": "fee7fcf8",
   "metadata": {},
   "outputs": [],
   "source": [
    "text1=\"My phone is a new phone\"\n",
    "pattern='phone'\n",
    "my_match=re.search(pattern,text1)"
   ]
  },
  {
   "cell_type": "code",
   "execution_count": 13,
   "id": "63fabd00",
   "metadata": {},
   "outputs": [
    {
     "data": {
      "text/plain": [
       "<re.Match object; span=(3, 8), match='phone'>"
      ]
     },
     "execution_count": 13,
     "metadata": {},
     "output_type": "execute_result"
    }
   ],
   "source": [
    "my_match"
   ]
  },
  {
   "cell_type": "code",
   "execution_count": 14,
   "id": "27a3a382",
   "metadata": {},
   "outputs": [],
   "source": [
    "# If there are multiple same pattern present in a text then search method only give the position of the first founded match not the other one"
   ]
  },
  {
   "cell_type": "markdown",
   "id": "9a6d8283",
   "metadata": {},
   "source": [
    "**To find all the similar matches inside the text**"
   ]
  },
  {
   "cell_type": "code",
   "execution_count": 16,
   "id": "a97ed4ee",
   "metadata": {},
   "outputs": [],
   "source": [
    "# We will use findall method to find all the similar matches inside a text"
   ]
  },
  {
   "cell_type": "code",
   "execution_count": 17,
   "id": "24fe455d",
   "metadata": {},
   "outputs": [],
   "source": [
    "all_matches=re.findall(pattern,text1)"
   ]
  },
  {
   "cell_type": "code",
   "execution_count": 18,
   "id": "d84f542a",
   "metadata": {},
   "outputs": [
    {
     "data": {
      "text/plain": [
       "['phone', 'phone']"
      ]
     },
     "execution_count": 18,
     "metadata": {},
     "output_type": "execute_result"
    }
   ],
   "source": [
    "all_matches"
   ]
  },
  {
   "cell_type": "code",
   "execution_count": 19,
   "id": "58f6c89a",
   "metadata": {},
   "outputs": [
    {
     "data": {
      "text/plain": [
       "2"
      ]
     },
     "execution_count": 19,
     "metadata": {},
     "output_type": "execute_result"
    }
   ],
   "source": [
    "len(all_matches)"
   ]
  },
  {
   "cell_type": "markdown",
   "id": "28dcf698",
   "metadata": {},
   "source": [
    "To get actual match objects, use the iterator:"
   ]
  },
  {
   "cell_type": "code",
   "execution_count": 21,
   "id": "0441a110",
   "metadata": {},
   "outputs": [
    {
     "name": "stdout",
     "output_type": "stream",
     "text": [
      "phone (3, 8)\n",
      "phone (18, 23)\n"
     ]
    }
   ],
   "source": [
    "for match in re.finditer(pattern,text1):\n",
    "    print(match.group(), match.span())"
   ]
  },
  {
   "cell_type": "markdown",
   "id": "d491e728",
   "metadata": {},
   "source": [
    "## Patterns\n",
    "\n",
    "### Identifiers for Characters in Patterns\n",
    "\n",
    "Characters such as a digit or a single string have different codes that represent them. You can use these to build up a pattern string. Notice how these make heavy use of the backwards slash \\ . Because of this when defining a pattern string for regular expression we use the format:\n",
    "\n",
    "    r'mypattern'\n",
    "    \n",
    "placing the r in front of the string allows python to understand that the \\ in the pattern string are not meant to be escape slashes.\n",
    "\n",
    "Below you can find a table of all the possible identifiers:\n",
    "                               "
   ]
  },
  {
   "cell_type": "markdown",
   "id": "cffdafbf",
   "metadata": {},
   "source": [
    "<table ><tr><th>Character</th><th>Description</th><th>Example Pattern Code</th><th >Exammple Match</th></tr>\n",
    "\n",
    "<tr ><td><span >\\d</span></td><td>A digit</td><td>file_\\d\\d</td><td>file_25</td></tr>\n",
    "\n",
    "<tr ><td><span >\\w</span></td><td>Alphanumeric</td><td>\\w-\\w\\w\\w</td><td>A-b_1</td></tr>\n",
    "\n",
    "\n",
    "\n",
    "<tr ><td><span >\\s</span></td><td>White space</td><td>a\\sb\\sc</td><td>a b c</td></tr>\n",
    "\n",
    "\n",
    "\n",
    "<tr ><td><span >\\D</span></td><td>A non digit</td><td>\\D\\D\\D</td><td>ABC</td></tr>\n",
    "\n",
    "<tr ><td><span >\\W</span></td><td>Non-alphanumeric</td><td>\\W\\W\\W\\W\\W</td><td>*-+=)</td></tr>\n",
    "\n",
    "<tr ><td><span >\\S</span></td><td>Non-whitespace</td><td>\\S\\S\\S\\S</td><td>Yoyo</td></tr></table>"
   ]
  },
  {
   "cell_type": "code",
   "execution_count": 23,
   "id": "59921d21",
   "metadata": {},
   "outputs": [
    {
     "data": {
      "text/plain": [
       "'The phone number of the agent is 400-673-1223. Call Now!'"
      ]
     },
     "execution_count": 23,
     "metadata": {},
     "output_type": "execute_result"
    }
   ],
   "source": [
    "text"
   ]
  },
  {
   "cell_type": "code",
   "execution_count": 24,
   "id": "0554a096",
   "metadata": {},
   "outputs": [],
   "source": [
    "pattern=r\"\\d\\d\\d-\\d\\d\\d-\\d\\d\\d\\d\"\n",
    "phone_number=re.search(pattern,text)"
   ]
  },
  {
   "cell_type": "code",
   "execution_count": 25,
   "id": "8590d3f9",
   "metadata": {},
   "outputs": [
    {
     "data": {
      "text/plain": [
       "(33, 45)"
      ]
     },
     "execution_count": 25,
     "metadata": {},
     "output_type": "execute_result"
    }
   ],
   "source": [
    "phone_number.span()"
   ]
  },
  {
   "cell_type": "code",
   "execution_count": 26,
   "id": "de66829e",
   "metadata": {},
   "outputs": [
    {
     "data": {
      "text/plain": [
       "'400-673-1223'"
      ]
     },
     "execution_count": 26,
     "metadata": {},
     "output_type": "execute_result"
    }
   ],
   "source": [
    "phone_number.group()"
   ]
  },
  {
   "cell_type": "markdown",
   "id": "0bbd7f6f",
   "metadata": {},
   "source": [
    "Notice the repetition of \\d. That is a bit of an annoyance, especially if we are looking for very long strings of numbers. Let's explore the possible quantifiers.\n",
    "\n",
    "## Quantifiers\n",
    "\n",
    "Now that we know the special character designations, we can use them along with quantifiers to define how many we expect."
   ]
  },
  {
   "cell_type": "markdown",
   "id": "09944d4d",
   "metadata": {},
   "source": [
    "<table ><tr><th>Character</th><th>Description</th><th>Example Pattern Code</th><th >Exammple Match</th></tr>\n",
    "\n",
    "<tr ><td><span >+</span></td><td>Occurs one or more times</td><td>\tVersion \\w-\\w+</td><td>Version A-b1_1</td></tr>\n",
    "\n",
    "<tr ><td><span >{3}</span></td><td>Occurs exactly 3 times</td><td>\\D{3}</td><td>abc</td></tr>\n",
    "\n",
    "\n",
    "\n",
    "<tr ><td><span >{2,4}</span></td><td>Occurs 2 to 4 times</td><td>\\d{2,4}</td><td>123</td></tr>\n",
    "\n",
    "\n",
    "\n",
    "<tr ><td><span >{3,}</span></td><td>Occurs 3 or more</td><td>\\w{3,}</td><td>anycharacters</td></tr>\n",
    "\n",
    "<tr ><td><span >\\*</span></td><td>Occurs zero or more times</td><td>A\\*B\\*C*</td><td>AAACC</td></tr>\n",
    "\n",
    "<tr ><td><span >?</span></td><td>Once or none</td><td>plurals?</td><td>plural</td></tr></table>"
   ]
  },
  {
   "cell_type": "code",
   "execution_count": 28,
   "id": "407b1f01",
   "metadata": {},
   "outputs": [
    {
     "data": {
      "text/plain": [
       "<re.Match object; span=(33, 45), match='400-673-1223'>"
      ]
     },
     "execution_count": 28,
     "metadata": {},
     "output_type": "execute_result"
    }
   ],
   "source": [
    "re.search(r\"\\d{3}-\\d{3}-\\d{4}\",text)"
   ]
  },
  {
   "cell_type": "code",
   "execution_count": null,
   "id": "8d744f4d",
   "metadata": {},
   "outputs": [],
   "source": []
  }
 ],
 "metadata": {
  "kernelspec": {
   "display_name": "Python 3",
   "language": "python",
   "name": "python3"
  },
  "language_info": {
   "codemirror_mode": {
    "name": "ipython",
    "version": 3
   },
   "file_extension": ".py",
   "mimetype": "text/x-python",
   "name": "python",
   "nbconvert_exporter": "python",
   "pygments_lexer": "ipython3",
   "version": "3.7.10"
  }
 },
 "nbformat": 4,
 "nbformat_minor": 5
}
