{
 "cells": [
  {
   "cell_type": "markdown",
   "id": "68de40c3",
   "metadata": {},
   "source": [
    "## Working with Text Files\n",
    "\n",
    "Let's start with f string literals\n",
    "\n",
    "Then we'll learn how to perform alignment with f-string literals"
   ]
  },
  {
   "cell_type": "code",
   "execution_count": 2,
   "id": "2a72dd58",
   "metadata": {},
   "outputs": [
    {
     "name": "stdout",
     "output_type": "stream",
     "text": [
      "Hello, my name is Arya\n"
     ]
    }
   ],
   "source": [
    "person='Arya'\n",
    "\n",
    "print(f\"Hello, my name is {person}\")"
   ]
  },
  {
   "cell_type": "code",
   "execution_count": 3,
   "id": "0444bfe1",
   "metadata": {},
   "outputs": [
    {
     "name": "stdout",
     "output_type": "stream",
     "text": [
      "first three numbers are 123\n"
     ]
    }
   ],
   "source": [
    "d={'a':123,\"b\":345}\n",
    "print(f\"first three numbers are {d['a']}\")"
   ]
  },
  {
   "cell_type": "code",
   "execution_count": 4,
   "id": "12dc5727",
   "metadata": {},
   "outputs": [
    {
     "name": "stdout",
     "output_type": "stream",
     "text": [
      "second three numbers are 345\n"
     ]
    }
   ],
   "source": [
    "print(f\"second three numbers are {d['b']}\")"
   ]
  },
  {
   "cell_type": "markdown",
   "id": "13176374",
   "metadata": {},
   "source": [
    "### Minimum Widths, Alignments and Padding "
   ]
  },
  {
   "cell_type": "code",
   "execution_count": 13,
   "id": "a5385abb",
   "metadata": {},
   "outputs": [],
   "source": [
    "library = [('Author', 'Topic', 'Pages'), ('Twain', 'Rafting alone in the river', 601), ('Feynman', 'Physics', 95), ('Hamilton', 'Mythology', 144)]"
   ]
  },
  {
   "cell_type": "code",
   "execution_count": 6,
   "id": "646fd23c",
   "metadata": {},
   "outputs": [
    {
     "name": "stdout",
     "output_type": "stream",
     "text": [
      "Author , Topic, Pages\n",
      "Twain , Rafting, 601\n",
      "Feynman , Physics, 95\n",
      "Hamilton , Mythology, 144\n"
     ]
    }
   ],
   "source": [
    "for author, topic, pages in library:\n",
    "    print(f\"{author} , {topic}, {pages}\")"
   ]
  },
  {
   "cell_type": "markdown",
   "id": "7744f0f1",
   "metadata": {},
   "source": [
    "To set the alignment, use the character < for left-align, ^ for center, > for right.\n",
    "\n",
    "To set padding, precede the alignment character with the padding character (- and . are common choices)."
   ]
  },
  {
   "cell_type": "code",
   "execution_count": 21,
   "id": "7021ab61",
   "metadata": {},
   "outputs": [
    {
     "name": "stdout",
     "output_type": "stream",
     "text": [
      "Author     Topic                      .....Pages\n",
      "Twain      Rafting alone in the river .......601\n",
      "Feynman    Physics                    ........95\n",
      "Hamilton   Mythology                  .......144\n"
     ]
    }
   ],
   "source": [
    "for author, topic, pages in library:\n",
    "    print(f\"{author:{10}} {topic:{26}} {pages:.>{10}}\")"
   ]
  },
  {
   "cell_type": "markdown",
   "id": "35c4582e",
   "metadata": {},
   "source": [
    "### Date Formatting"
   ]
  },
  {
   "cell_type": "code",
   "execution_count": 23,
   "id": "a3950f50",
   "metadata": {},
   "outputs": [],
   "source": [
    "from datetime import datetime"
   ]
  },
  {
   "cell_type": "code",
   "execution_count": 38,
   "id": "999e1b40",
   "metadata": {},
   "outputs": [],
   "source": [
    "today=datetime(year=2021,month=7,day=25)"
   ]
  },
  {
   "cell_type": "code",
   "execution_count": 39,
   "id": "b1f5b2bd",
   "metadata": {},
   "outputs": [
    {
     "data": {
      "text/plain": [
       "datetime.datetime(2021, 7, 25, 0, 0)"
      ]
     },
     "execution_count": 39,
     "metadata": {},
     "output_type": "execute_result"
    }
   ],
   "source": [
    "today"
   ]
  },
  {
   "cell_type": "code",
   "execution_count": 40,
   "id": "2a237c56",
   "metadata": {},
   "outputs": [
    {
     "name": "stdout",
     "output_type": "stream",
     "text": [
      "2021-07-25 00:00:00\n"
     ]
    }
   ],
   "source": [
    "print(f\"{today}\")"
   ]
  },
  {
   "cell_type": "code",
   "execution_count": 41,
   "id": "6134cafb",
   "metadata": {},
   "outputs": [
    {
     "name": "stdout",
     "output_type": "stream",
     "text": [
      "July\n"
     ]
    }
   ],
   "source": [
    "print(f\"{today:%B}\")"
   ]
  },
  {
   "cell_type": "code",
   "execution_count": 46,
   "id": "8bb07255",
   "metadata": {},
   "outputs": [
    {
     "name": "stdout",
     "output_type": "stream",
     "text": [
      "July 25th, 2021\n"
     ]
    }
   ],
   "source": [
    "print(f\"{today:%B %dth, %Y}\")"
   ]
  },
  {
   "cell_type": "markdown",
   "id": "c476693d",
   "metadata": {},
   "source": [
    "### Create a text file and write in it"
   ]
  },
  {
   "cell_type": "code",
   "execution_count": 47,
   "id": "e8d1831e",
   "metadata": {},
   "outputs": [
    {
     "name": "stdout",
     "output_type": "stream",
     "text": [
      "Writing test.txt\n"
     ]
    }
   ],
   "source": [
    "%%writefile test.txt\n",
    "Hello, this is our text file\n",
    "This is the second line of the file"
   ]
  },
  {
   "cell_type": "code",
   "execution_count": 48,
   "id": "70209ba2",
   "metadata": {},
   "outputs": [],
   "source": [
    "myfile=open('test.txt')"
   ]
  },
  {
   "cell_type": "code",
   "execution_count": 51,
   "id": "4b3a9dab",
   "metadata": {},
   "outputs": [
    {
     "data": {
      "text/plain": [
       "'Hello, this is our text file\\nThis is the second line of the file\\n'"
      ]
     },
     "execution_count": 51,
     "metadata": {},
     "output_type": "execute_result"
    }
   ],
   "source": [
    "myfile.read()"
   ]
  },
  {
   "cell_type": "code",
   "execution_count": 55,
   "id": "ef90de8a",
   "metadata": {},
   "outputs": [
    {
     "data": {
      "text/plain": [
       "0"
      ]
     },
     "execution_count": 55,
     "metadata": {},
     "output_type": "execute_result"
    }
   ],
   "source": [
    "myfile.seek(0) # reset the cursor at the starting point"
   ]
  },
  {
   "cell_type": "code",
   "execution_count": 56,
   "id": "20deb6c9",
   "metadata": {},
   "outputs": [],
   "source": [
    "my_lines=myfile.readlines()"
   ]
  },
  {
   "cell_type": "code",
   "execution_count": 57,
   "id": "86f0af24",
   "metadata": {},
   "outputs": [
    {
     "name": "stdout",
     "output_type": "stream",
     "text": [
      "Hello, this is our text file\n",
      "\n",
      "This is the second line of the file\n",
      "\n"
     ]
    }
   ],
   "source": [
    "for line in my_lines:\n",
    "    print(line)"
   ]
  },
  {
   "cell_type": "code",
   "execution_count": 59,
   "id": "a1f56c99",
   "metadata": {},
   "outputs": [],
   "source": [
    "myfile.close()"
   ]
  },
  {
   "cell_type": "markdown",
   "id": "e2afd135",
   "metadata": {},
   "source": [
    "### Overwrite the file"
   ]
  },
  {
   "cell_type": "code",
   "execution_count": 60,
   "id": "77a5382f",
   "metadata": {},
   "outputs": [
    {
     "data": {
      "text/plain": [
       "''"
      ]
     },
     "execution_count": 60,
     "metadata": {},
     "output_type": "execute_result"
    }
   ],
   "source": [
    "my_file=open(\"test.txt\",\"w+\")  # give second parameter to overwrite file\n",
    "\n",
    "my_file.read()  "
   ]
  },
  {
   "cell_type": "code",
   "execution_count": 61,
   "id": "c5907ff9",
   "metadata": {},
   "outputs": [
    {
     "data": {
      "text/plain": [
       "22"
      ]
     },
     "execution_count": 61,
     "metadata": {},
     "output_type": "execute_result"
    }
   ],
   "source": [
    "my_file.write('This is my new content')"
   ]
  },
  {
   "cell_type": "code",
   "execution_count": 63,
   "id": "889281ea",
   "metadata": {},
   "outputs": [
    {
     "data": {
      "text/plain": [
       "0"
      ]
     },
     "execution_count": 63,
     "metadata": {},
     "output_type": "execute_result"
    }
   ],
   "source": [
    "my_file.seek(0)"
   ]
  },
  {
   "cell_type": "code",
   "execution_count": 64,
   "id": "b2e45f4d",
   "metadata": {},
   "outputs": [
    {
     "data": {
      "text/plain": [
       "'This is my new content'"
      ]
     },
     "execution_count": 64,
     "metadata": {},
     "output_type": "execute_result"
    }
   ],
   "source": [
    "my_file.read()"
   ]
  },
  {
   "cell_type": "code",
   "execution_count": 65,
   "id": "b632ea24",
   "metadata": {},
   "outputs": [],
   "source": [
    "my_file.close()"
   ]
  },
  {
   "cell_type": "markdown",
   "id": "83f9c445",
   "metadata": {},
   "source": [
    "### Append to a file"
   ]
  },
  {
   "cell_type": "code",
   "execution_count": 68,
   "id": "fc3f9cb7",
   "metadata": {},
   "outputs": [
    {
     "data": {
      "text/plain": [
       "'This is my new contentThis is second line of my fileThis is second line of my fileThis is second line of my file'"
      ]
     },
     "execution_count": 68,
     "metadata": {},
     "output_type": "execute_result"
    }
   ],
   "source": [
    "myfile=open(\"test.txt\",\"a+\")\n",
    "myfile.write(\"This is second line of my file\")\n",
    "myfile.seek(0)\n",
    "myfile.read()\n"
   ]
  },
  {
   "cell_type": "code",
   "execution_count": 69,
   "id": "6b9236d7",
   "metadata": {},
   "outputs": [],
   "source": [
    "myfile.close()"
   ]
  },
  {
   "cell_type": "code",
   "execution_count": 74,
   "id": "cb908cc5",
   "metadata": {},
   "outputs": [
    {
     "name": "stdout",
     "output_type": "stream",
     "text": [
      "This is my new contentThis is second line of my fileThis is second line of my fileThis is second line of my file\n",
      " This is real new line\n",
      " This is real new line\n",
      "This is real new line\n",
      " This is real new line\n",
      " This is real new line\n"
     ]
    }
   ],
   "source": [
    "myfile=open(\"test.txt\",\"a+\")\n",
    "myfile.write(\"\\n This is real new line\")\n",
    "myfile.seek(0)\n",
    "print(myfile.read())"
   ]
  },
  {
   "cell_type": "code",
   "execution_count": 75,
   "id": "19f473ae",
   "metadata": {},
   "outputs": [],
   "source": [
    "myfile.close()"
   ]
  },
  {
   "cell_type": "markdown",
   "id": "2277e7a4",
   "metadata": {},
   "source": [
    "### Opening file with a new method"
   ]
  },
  {
   "cell_type": "code",
   "execution_count": 79,
   "id": "c2fdbfec",
   "metadata": {},
   "outputs": [],
   "source": [
    "with open('test.txt','r') as mynewfile:\n",
    "    my_var=mynewfile.readlines()"
   ]
  },
  {
   "cell_type": "code",
   "execution_count": 82,
   "id": "b87fbfc8",
   "metadata": {},
   "outputs": [
    {
     "data": {
      "text/plain": [
       "['This is my new contentThis is second line of my fileThis is second line of my fileThis is second line of my file\\n',\n",
       " ' This is real new line\\n',\n",
       " ' This is real new line\\n',\n",
       " 'This is real new line\\n',\n",
       " ' This is real new line\\n',\n",
       " ' This is real new line']"
      ]
     },
     "execution_count": 82,
     "metadata": {},
     "output_type": "execute_result"
    }
   ],
   "source": [
    "my_var"
   ]
  },
  {
   "cell_type": "code",
   "execution_count": 85,
   "id": "57988181",
   "metadata": {},
   "outputs": [
    {
     "name": "stdout",
     "output_type": "stream",
     "text": [
      "This is my new contentThis is second line of my fileThis is second line of my fileThis is second line of my file\n",
      " This is real new line\n",
      " This is real new line\n",
      "This is real new line\n",
      " This is real new line\n",
      " This is real new line"
     ]
    }
   ],
   "source": [
    "with open('test.txt','r') as mynewfile:\n",
    "    for line in mynewfile:\n",
    "        print(line,end='')\n",
    "    "
   ]
  },
  {
   "cell_type": "code",
   "execution_count": null,
   "id": "93aa56bd",
   "metadata": {},
   "outputs": [],
   "source": []
  }
 ],
 "metadata": {
  "kernelspec": {
   "display_name": "Python 3",
   "language": "python",
   "name": "python3"
  },
  "language_info": {
   "codemirror_mode": {
    "name": "ipython",
    "version": 3
   },
   "file_extension": ".py",
   "mimetype": "text/x-python",
   "name": "python",
   "nbconvert_exporter": "python",
   "pygments_lexer": "ipython3",
   "version": "3.7.10"
  }
 },
 "nbformat": 4,
 "nbformat_minor": 5
}
