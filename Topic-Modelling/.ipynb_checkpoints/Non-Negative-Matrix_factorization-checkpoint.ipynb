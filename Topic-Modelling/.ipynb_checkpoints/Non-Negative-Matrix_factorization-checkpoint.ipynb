{
 "cells": [
  {
   "cell_type": "markdown",
   "id": "e37d67eb",
   "metadata": {},
   "source": [
    "## Non-Negative Matrix Factorization"
   ]
  },
  {
   "cell_type": "code",
   "execution_count": 5,
   "id": "26fbb63b",
   "metadata": {},
   "outputs": [],
   "source": [
    "# import all the tools and load data\n",
    "import numpy as np\n",
    "import pandas as pd\n",
    "from sklearn.feature_extraction.text import TfidfVectorizer\n",
    "from sklearn.decomposition import NMF"
   ]
  },
  {
   "cell_type": "code",
   "execution_count": 2,
   "id": "2a7948a9",
   "metadata": {},
   "outputs": [
    {
     "data": {
      "text/html": [
       "<div>\n",
       "<style scoped>\n",
       "    .dataframe tbody tr th:only-of-type {\n",
       "        vertical-align: middle;\n",
       "    }\n",
       "\n",
       "    .dataframe tbody tr th {\n",
       "        vertical-align: top;\n",
       "    }\n",
       "\n",
       "    .dataframe thead th {\n",
       "        text-align: right;\n",
       "    }\n",
       "</style>\n",
       "<table border=\"1\" class=\"dataframe\">\n",
       "  <thead>\n",
       "    <tr style=\"text-align: right;\">\n",
       "      <th></th>\n",
       "      <th>Article</th>\n",
       "    </tr>\n",
       "  </thead>\n",
       "  <tbody>\n",
       "    <tr>\n",
       "      <th>0</th>\n",
       "      <td>In the Washington of 2016, even when the polic...</td>\n",
       "    </tr>\n",
       "    <tr>\n",
       "      <th>1</th>\n",
       "      <td>Donald Trump has used Twitter  —   his prefe...</td>\n",
       "    </tr>\n",
       "    <tr>\n",
       "      <th>2</th>\n",
       "      <td>Donald Trump is unabashedly praising Russian...</td>\n",
       "    </tr>\n",
       "    <tr>\n",
       "      <th>3</th>\n",
       "      <td>Updated at 2:50 p. m. ET, Russian President Vl...</td>\n",
       "    </tr>\n",
       "    <tr>\n",
       "      <th>4</th>\n",
       "      <td>From photography, illustration and video, to d...</td>\n",
       "    </tr>\n",
       "  </tbody>\n",
       "</table>\n",
       "</div>"
      ],
      "text/plain": [
       "                                             Article\n",
       "0  In the Washington of 2016, even when the polic...\n",
       "1    Donald Trump has used Twitter  —   his prefe...\n",
       "2    Donald Trump is unabashedly praising Russian...\n",
       "3  Updated at 2:50 p. m. ET, Russian President Vl...\n",
       "4  From photography, illustration and video, to d..."
      ]
     },
     "execution_count": 2,
     "metadata": {},
     "output_type": "execute_result"
    }
   ],
   "source": [
    "npr=pd.read_csv(\"npr.csv\")\n",
    "npr.head()"
   ]
  },
  {
   "cell_type": "code",
   "execution_count": 3,
   "id": "a4e0870e",
   "metadata": {},
   "outputs": [
    {
     "data": {
      "text/plain": [
       "<11992x54777 sparse matrix of type '<class 'numpy.float64'>'\n",
       "\twith 3033388 stored elements in Compressed Sparse Row format>"
      ]
     },
     "execution_count": 3,
     "metadata": {},
     "output_type": "execute_result"
    }
   ],
   "source": [
    "tfidf=TfidfVectorizer(max_df=0.9,min_df=2,stop_words=\"english\")\n",
    "dtm=tfidf.fit_transform(npr[\"Article\"])\n",
    "dtm"
   ]
  },
  {
   "cell_type": "markdown",
   "id": "d3871da5",
   "metadata": {},
   "source": [
    "### NMF"
   ]
  },
  {
   "cell_type": "code",
   "execution_count": 6,
   "id": "64ed754b",
   "metadata": {},
   "outputs": [
    {
     "data": {
      "text/plain": [
       "NMF(alpha=0.0, beta_loss='frobenius', init=None, l1_ratio=0.0, max_iter=200,\n",
       "  n_components=7, random_state=42, shuffle=False, solver='cd', tol=0.0001,\n",
       "  verbose=0)"
      ]
     },
     "execution_count": 6,
     "metadata": {},
     "output_type": "execute_result"
    }
   ],
   "source": [
    "nmf_model=NMF(n_components=7,random_state=42)\n",
    "nmf_model.fit(dtm)"
   ]
  },
  {
   "cell_type": "code",
   "execution_count": 11,
   "id": "0fc97dce",
   "metadata": {},
   "outputs": [
    {
     "data": {
      "text/plain": [
       "'ballerinas'"
      ]
     },
     "execution_count": 11,
     "metadata": {},
     "output_type": "execute_result"
    }
   ],
   "source": [
    "tfidf.get_feature_names()[4678]"
   ]
  },
  {
   "cell_type": "code",
   "execution_count": 12,
   "id": "5c40887e",
   "metadata": {},
   "outputs": [
    {
     "name": "stdout",
     "output_type": "stream",
     "text": [
      "moribund\n",
      "bandit\n",
      "betray\n",
      "hookup\n",
      "peregrine\n",
      "juvenile\n",
      "reinventing\n",
      "invalidate\n",
      "mineralization\n",
      "memorized\n"
     ]
    }
   ],
   "source": [
    "for i in range(10):\n",
    "    i=np.random.randint(0,54777)\n",
    "    print(tfidf.get_feature_names()[i])"
   ]
  },
  {
   "cell_type": "markdown",
   "id": "696b0ce9",
   "metadata": {},
   "source": [
    "### Displaying Topics"
   ]
  },
  {
   "cell_type": "code",
   "execution_count": 14,
   "id": "0d41fe09",
   "metadata": {},
   "outputs": [
    {
     "data": {
      "text/plain": [
       "(7, 54777)"
      ]
     },
     "execution_count": 14,
     "metadata": {},
     "output_type": "execute_result"
    }
   ],
   "source": [
    "nmf_model.components_.shape"
   ]
  },
  {
   "cell_type": "code",
   "execution_count": 15,
   "id": "68aae1d2",
   "metadata": {},
   "outputs": [
    {
     "data": {
      "text/plain": [
       "7"
      ]
     },
     "execution_count": 15,
     "metadata": {},
     "output_type": "execute_result"
    }
   ],
   "source": [
    "len(nmf_model.components_)"
   ]
  },
  {
   "cell_type": "code",
   "execution_count": 16,
   "id": "3d3b8e99",
   "metadata": {},
   "outputs": [],
   "source": [
    "first_topic=nmf_model.components_[0]"
   ]
  },
  {
   "cell_type": "code",
   "execution_count": 18,
   "id": "253b7c66",
   "metadata": {},
   "outputs": [
    {
     "name": "stdout",
     "output_type": "stream",
     "text": [
      "disease\n",
      "percent\n",
      "women\n",
      "virus\n",
      "study\n",
      "water\n",
      "food\n",
      "people\n",
      "zika\n",
      "says\n"
     ]
    }
   ],
   "source": [
    "top_ten_words=first_topic.argsort()[-10:]\n",
    "for index in top_ten_words:\n",
    "    print(tfidf.get_feature_names()[index])"
   ]
  },
  {
   "cell_type": "markdown",
   "id": "764e432a",
   "metadata": {},
   "source": [
    "Looks like our first topic is related to public health"
   ]
  },
  {
   "cell_type": "markdown",
   "id": "e1887c9a",
   "metadata": {},
   "source": [
    "### Now let's find all the topics"
   ]
  },
  {
   "cell_type": "code",
   "execution_count": 21,
   "id": "9bddbf3b",
   "metadata": {},
   "outputs": [
    {
     "name": "stdout",
     "output_type": "stream",
     "text": [
      "Top 20 words related to Topic #0 are:\n",
      "['years', 'brain', 'university', 'researchers', 'scientists', 'new', 'research', 'like', 'patients', 'health', 'disease', 'percent', 'women', 'virus', 'study', 'water', 'food', 'people', 'zika', 'says']\n",
      "\n",
      "\n",
      "Top 20 words related to Topic #1 are:\n",
      "['intelligence', 'office', 'nominee', 'republicans', 'comey', 'gop', 'pence', 'presidential', 'russia', 'administration', 'election', 'republican', 'obama', 'white', 'house', 'donald', 'campaign', 'said', 'president', 'trump']\n",
      "\n",
      "\n",
      "Top 20 words related to Topic #2 are:\n",
      "['insurers', 'federal', 'said', 'aca', 'repeal', 'senate', 'house', 'people', 'act', 'law', 'tax', 'plan', 'republicans', 'affordable', 'obamacare', 'coverage', 'medicaid', 'insurance', 'care', 'health']\n",
      "\n",
      "\n",
      "Top 20 words related to Topic #3 are:\n",
      "['killed', 'reported', 'military', 'justice', 'city', 'officers', 'syria', 'security', 'department', 'law', 'isis', 'russia', 'government', 'state', 'attack', 'president', 'reports', 'court', 'said', 'police']\n",
      "\n",
      "\n",
      "Top 20 words related to Topic #4 are:\n",
      "['candidate', 'said', 'win', 'candidates', 'republican', 'primary', 'cruz', 'election', 'democrats', 'percent', 'party', 'delegates', 'vote', 'state', 'democratic', 'hillary', 'campaign', 'voters', 'sanders', 'clinton']\n",
      "\n",
      "\n",
      "Top 20 words related to Topic #5 are:\n",
      "['going', 'kind', 'book', 'black', 'things', 'love', 've', 'don', 'album', 'way', 'time', 'song', 'life', 'really', 'know', 'people', 'think', 'just', 'music', 'like']\n",
      "\n",
      "\n",
      "Top 20 words related to Topic #6 are:\n",
      "['university', 'colleges', 'public', 'child', 'program', 'teacher', 'state', 'high', 'says', 'parents', 'devos', 'children', 'college', 'kids', 'teachers', 'student', 'education', 'schools', 'school', 'students']\n",
      "\n",
      "\n"
     ]
    }
   ],
   "source": [
    "for i,topic in enumerate(nmf_model.components_):\n",
    "    print(f\"Top 20 words related to Topic #{i} are:\")\n",
    "    print([tfidf.get_feature_names()[index] for index in topic.argsort()[-20:]])\n",
    "    print(\"\\n\")"
   ]
  },
  {
   "cell_type": "markdown",
   "id": "689f0762",
   "metadata": {},
   "source": [
    "### Attaching discovered topic labels to original dataframe"
   ]
  },
  {
   "cell_type": "code",
   "execution_count": 22,
   "id": "f9ffa0c3",
   "metadata": {},
   "outputs": [
    {
     "data": {
      "text/html": [
       "<div>\n",
       "<style scoped>\n",
       "    .dataframe tbody tr th:only-of-type {\n",
       "        vertical-align: middle;\n",
       "    }\n",
       "\n",
       "    .dataframe tbody tr th {\n",
       "        vertical-align: top;\n",
       "    }\n",
       "\n",
       "    .dataframe thead th {\n",
       "        text-align: right;\n",
       "    }\n",
       "</style>\n",
       "<table border=\"1\" class=\"dataframe\">\n",
       "  <thead>\n",
       "    <tr style=\"text-align: right;\">\n",
       "      <th></th>\n",
       "      <th>Article</th>\n",
       "    </tr>\n",
       "  </thead>\n",
       "  <tbody>\n",
       "    <tr>\n",
       "      <th>0</th>\n",
       "      <td>In the Washington of 2016, even when the polic...</td>\n",
       "    </tr>\n",
       "    <tr>\n",
       "      <th>1</th>\n",
       "      <td>Donald Trump has used Twitter  —   his prefe...</td>\n",
       "    </tr>\n",
       "    <tr>\n",
       "      <th>2</th>\n",
       "      <td>Donald Trump is unabashedly praising Russian...</td>\n",
       "    </tr>\n",
       "    <tr>\n",
       "      <th>3</th>\n",
       "      <td>Updated at 2:50 p. m. ET, Russian President Vl...</td>\n",
       "    </tr>\n",
       "    <tr>\n",
       "      <th>4</th>\n",
       "      <td>From photography, illustration and video, to d...</td>\n",
       "    </tr>\n",
       "  </tbody>\n",
       "</table>\n",
       "</div>"
      ],
      "text/plain": [
       "                                             Article\n",
       "0  In the Washington of 2016, even when the polic...\n",
       "1    Donald Trump has used Twitter  —   his prefe...\n",
       "2    Donald Trump is unabashedly praising Russian...\n",
       "3  Updated at 2:50 p. m. ET, Russian President Vl...\n",
       "4  From photography, illustration and video, to d..."
      ]
     },
     "execution_count": 22,
     "metadata": {},
     "output_type": "execute_result"
    }
   ],
   "source": [
    "npr.head()"
   ]
  },
  {
   "cell_type": "code",
   "execution_count": 23,
   "id": "eb9a9e92",
   "metadata": {},
   "outputs": [],
   "source": [
    "topic_results=nmf_model.transform(dtm)"
   ]
  },
  {
   "cell_type": "code",
   "execution_count": 24,
   "id": "7037d353",
   "metadata": {},
   "outputs": [
    {
     "data": {
      "text/plain": [
       "(11992, 7)"
      ]
     },
     "execution_count": 24,
     "metadata": {},
     "output_type": "execute_result"
    }
   ],
   "source": [
    "topic_results.shape"
   ]
  },
  {
   "cell_type": "code",
   "execution_count": 25,
   "id": "1d454cb5",
   "metadata": {},
   "outputs": [
    {
     "data": {
      "text/plain": [
       "1"
      ]
     },
     "execution_count": 25,
     "metadata": {},
     "output_type": "execute_result"
    }
   ],
   "source": [
    "topic_results[0].argmax()"
   ]
  },
  {
   "cell_type": "markdown",
   "id": "4695cfa4",
   "metadata": {},
   "source": [
    "This shows that our first article belongs to the second discovered topic"
   ]
  },
  {
   "cell_type": "code",
   "execution_count": 28,
   "id": "5b352ad7",
   "metadata": {},
   "outputs": [
    {
     "data": {
      "text/html": [
       "<div>\n",
       "<style scoped>\n",
       "    .dataframe tbody tr th:only-of-type {\n",
       "        vertical-align: middle;\n",
       "    }\n",
       "\n",
       "    .dataframe tbody tr th {\n",
       "        vertical-align: top;\n",
       "    }\n",
       "\n",
       "    .dataframe thead th {\n",
       "        text-align: right;\n",
       "    }\n",
       "</style>\n",
       "<table border=\"1\" class=\"dataframe\">\n",
       "  <thead>\n",
       "    <tr style=\"text-align: right;\">\n",
       "      <th></th>\n",
       "      <th>Article</th>\n",
       "      <th>Topic</th>\n",
       "    </tr>\n",
       "  </thead>\n",
       "  <tbody>\n",
       "    <tr>\n",
       "      <th>0</th>\n",
       "      <td>In the Washington of 2016, even when the polic...</td>\n",
       "      <td>1</td>\n",
       "    </tr>\n",
       "    <tr>\n",
       "      <th>1</th>\n",
       "      <td>Donald Trump has used Twitter  —   his prefe...</td>\n",
       "      <td>1</td>\n",
       "    </tr>\n",
       "    <tr>\n",
       "      <th>2</th>\n",
       "      <td>Donald Trump is unabashedly praising Russian...</td>\n",
       "      <td>1</td>\n",
       "    </tr>\n",
       "    <tr>\n",
       "      <th>3</th>\n",
       "      <td>Updated at 2:50 p. m. ET, Russian President Vl...</td>\n",
       "      <td>3</td>\n",
       "    </tr>\n",
       "    <tr>\n",
       "      <th>4</th>\n",
       "      <td>From photography, illustration and video, to d...</td>\n",
       "      <td>6</td>\n",
       "    </tr>\n",
       "    <tr>\n",
       "      <th>5</th>\n",
       "      <td>I did not want to join yoga class. I hated tho...</td>\n",
       "      <td>5</td>\n",
       "    </tr>\n",
       "  </tbody>\n",
       "</table>\n",
       "</div>"
      ],
      "text/plain": [
       "                                             Article  Topic\n",
       "0  In the Washington of 2016, even when the polic...      1\n",
       "1    Donald Trump has used Twitter  —   his prefe...      1\n",
       "2    Donald Trump is unabashedly praising Russian...      1\n",
       "3  Updated at 2:50 p. m. ET, Russian President Vl...      3\n",
       "4  From photography, illustration and video, to d...      6\n",
       "5  I did not want to join yoga class. I hated tho...      5"
      ]
     },
     "execution_count": 28,
     "metadata": {},
     "output_type": "execute_result"
    }
   ],
   "source": [
    "# Let's add a column to the original Dataframe\n",
    "npr[\"Topic\"]=topic_results.argmax(axis=1)\n",
    "npr.head(6)"
   ]
  },
  {
   "cell_type": "code",
   "execution_count": 29,
   "id": "f9236e29",
   "metadata": {},
   "outputs": [],
   "source": [
    "# You can name these topics and add them to the data frame\n",
    "topic_dict={0:\"Health research\", 1:\"Political Issues\",2:\"Government Policies\", 3: \"Military|Police Topic\",4:\"Election\",5:\"Art\",6:\"Education\"}"
   ]
  },
  {
   "cell_type": "code",
   "execution_count": 31,
   "id": "3cb41740",
   "metadata": {},
   "outputs": [
    {
     "data": {
      "text/plain": [
       "{0: 'Health research',\n",
       " 1: 'Political Issues',\n",
       " 2: 'Government Policies',\n",
       " 3: 'Military|Police Topic',\n",
       " 4: 'Election',\n",
       " 5: 'Art',\n",
       " 6: 'Education'}"
      ]
     },
     "execution_count": 31,
     "metadata": {},
     "output_type": "execute_result"
    }
   ],
   "source": [
    "topic_dict"
   ]
  },
  {
   "cell_type": "code",
   "execution_count": 36,
   "id": "b81658c0",
   "metadata": {},
   "outputs": [
    {
     "data": {
      "text/html": [
       "<div>\n",
       "<style scoped>\n",
       "    .dataframe tbody tr th:only-of-type {\n",
       "        vertical-align: middle;\n",
       "    }\n",
       "\n",
       "    .dataframe tbody tr th {\n",
       "        vertical-align: top;\n",
       "    }\n",
       "\n",
       "    .dataframe thead th {\n",
       "        text-align: right;\n",
       "    }\n",
       "</style>\n",
       "<table border=\"1\" class=\"dataframe\">\n",
       "  <thead>\n",
       "    <tr style=\"text-align: right;\">\n",
       "      <th></th>\n",
       "      <th>Article</th>\n",
       "      <th>Topic</th>\n",
       "      <th>Topic_labels</th>\n",
       "    </tr>\n",
       "  </thead>\n",
       "  <tbody>\n",
       "    <tr>\n",
       "      <th>0</th>\n",
       "      <td>In the Washington of 2016, even when the polic...</td>\n",
       "      <td>1</td>\n",
       "      <td>Political Issues</td>\n",
       "    </tr>\n",
       "    <tr>\n",
       "      <th>1</th>\n",
       "      <td>Donald Trump has used Twitter  —   his prefe...</td>\n",
       "      <td>1</td>\n",
       "      <td>Political Issues</td>\n",
       "    </tr>\n",
       "    <tr>\n",
       "      <th>2</th>\n",
       "      <td>Donald Trump is unabashedly praising Russian...</td>\n",
       "      <td>1</td>\n",
       "      <td>Political Issues</td>\n",
       "    </tr>\n",
       "    <tr>\n",
       "      <th>3</th>\n",
       "      <td>Updated at 2:50 p. m. ET, Russian President Vl...</td>\n",
       "      <td>3</td>\n",
       "      <td>Military|Police Topic</td>\n",
       "    </tr>\n",
       "    <tr>\n",
       "      <th>4</th>\n",
       "      <td>From photography, illustration and video, to d...</td>\n",
       "      <td>6</td>\n",
       "      <td>Education</td>\n",
       "    </tr>\n",
       "    <tr>\n",
       "      <th>5</th>\n",
       "      <td>I did not want to join yoga class. I hated tho...</td>\n",
       "      <td>5</td>\n",
       "      <td>Art</td>\n",
       "    </tr>\n",
       "    <tr>\n",
       "      <th>6</th>\n",
       "      <td>With a   who has publicly supported the debunk...</td>\n",
       "      <td>0</td>\n",
       "      <td>Health research</td>\n",
       "    </tr>\n",
       "    <tr>\n",
       "      <th>7</th>\n",
       "      <td>I was standing by the airport exit, debating w...</td>\n",
       "      <td>0</td>\n",
       "      <td>Health research</td>\n",
       "    </tr>\n",
       "    <tr>\n",
       "      <th>8</th>\n",
       "      <td>If movies were trying to be more realistic, pe...</td>\n",
       "      <td>0</td>\n",
       "      <td>Health research</td>\n",
       "    </tr>\n",
       "    <tr>\n",
       "      <th>9</th>\n",
       "      <td>Eighteen years ago, on New Year’s Eve, David F...</td>\n",
       "      <td>5</td>\n",
       "      <td>Art</td>\n",
       "    </tr>\n",
       "  </tbody>\n",
       "</table>\n",
       "</div>"
      ],
      "text/plain": [
       "                                             Article  Topic  \\\n",
       "0  In the Washington of 2016, even when the polic...      1   \n",
       "1    Donald Trump has used Twitter  —   his prefe...      1   \n",
       "2    Donald Trump is unabashedly praising Russian...      1   \n",
       "3  Updated at 2:50 p. m. ET, Russian President Vl...      3   \n",
       "4  From photography, illustration and video, to d...      6   \n",
       "5  I did not want to join yoga class. I hated tho...      5   \n",
       "6  With a   who has publicly supported the debunk...      0   \n",
       "7  I was standing by the airport exit, debating w...      0   \n",
       "8  If movies were trying to be more realistic, pe...      0   \n",
       "9  Eighteen years ago, on New Year’s Eve, David F...      5   \n",
       "\n",
       "            Topic_labels  \n",
       "0       Political Issues  \n",
       "1       Political Issues  \n",
       "2       Political Issues  \n",
       "3  Military|Police Topic  \n",
       "4              Education  \n",
       "5                    Art  \n",
       "6        Health research  \n",
       "7        Health research  \n",
       "8        Health research  \n",
       "9                    Art  "
      ]
     },
     "execution_count": 36,
     "metadata": {},
     "output_type": "execute_result"
    }
   ],
   "source": [
    "npr[\"Topic_labels\"]=npr[\"Topic\"].map(topic_dict)\n",
    "npr.head(10)"
   ]
  },
  {
   "cell_type": "code",
   "execution_count": 46,
   "id": "eab07b70",
   "metadata": {},
   "outputs": [
    {
     "data": {
      "text/plain": [
       "'With a   who has publicly supported the debunked claim that vaccines cause autism, suggested that climate change is a hoax dreamed up by the Chinese, and appointed to his Cabinet a retired neurosurgeon who doesn’t buy the theory of evolution, things might look grim for science. Yet watching Patti Smith sing ”A Hard Rain’s   Fall” live streamed from the Nobel Prize ceremony in early December to a room full of physicists, chemists and physicians  —   watching her twice choke up, each time stopping the song altogether, only to push on through all seven wordy minutes of one of Bob Dylan’s most beloved songs  —   left me optimistic. Taking nothing away from the very real anxieties about future funding and support for science, neuroscience in particular has had plenty of promising leads that could help fulfill Alfred Nobel’s mission to better humanity. In the spirit of optimism, and with input from the Society for Neuroscience, here are a few of the noteworthy neuroscientific achievements of 2016. One of the more fascinating fields of neuroscience of late entails mapping the crosstalk between our biomes, brains and immune systems. In July, a group from the University of Virginia published a study in Nature showing that the immune system, in addition to protecting us from a daily barrage of potentially infectious microbes, can also influence social behavior. The researchers had previously shown that a type of white blood cells called T cells influence learning behavior in mice by communicating with the brain. Now they’ve shown that blocking T cell access to the brain influences rodent social preferences. It appears that interferon, an immune system factor released from T cells, is at least partly responsible for the findings. A single injection of interferon into the mice’s cerebrospinal fluid, the clear, protective fluid that bathes the brain and spinal cord, was enough to restore social behaviors. Lead author Jonathan Kipnis from the University of Virginia speculates that there might be an evolutionary linkage here  —   one protecting us from the increased pathogen exposure that comes with socializing. He also says the findings could help improve our understanding and treatment of brain disorders. Of course these findings were in rodents, but earlier work by Kipnis suggests that the brain and immune system communicate in similar ways in humans. Major advances were also made this year in joining human with machine. In October 2015, Hanneke de Bruijne, a    Dutch woman with Lou Gehrig’s disease, received a brain implant that would allow her to communicate simply by thinking. Eighty percent of patients suffering from amyotrophic lateral sclerosis, as the condition is also known, ultimately have trouble communicating because of muscle paralysis. At its extreme, this paralysis results in a tragic state called   syndrome, in which patients remain fully aware but can’t express themselves they become locked inside their own bodies. The new therapy, which comes on the heels of similar work out of East Tennessee State University, was developed by a team from the University Medical Center Utrecht in collaboration with Medtronic. It consists of four electrodes implanted over the motor region of the brain that connect to a wireless transmitter implanted in the chest. After 28 weeks of training, the device was able to recognize brain activity patterns that occur with thinking about typing a particular letter. Though de Bruijne’s muscles still can’t move, this   interface can now translate her brain waves  —   or her ”thoughts”  —   into text. Among the biggest neuroscience drug advances of the year was the Food and Drug Administration’s Dec. 23 approval of Biogen’s Spinraza, or nusinersen, the first treatment for spinal muscular atrophy. Spinal muscular atrophy is the No. 1 genetic cause of death in infants. Those affected by the devastating disorder carry a gene mutation that renders them unable to produce a protein essential to survival of neurons in the spinal cord. Gradually stripped of their abilities to walk, eat and breathe, most children struck with the disease don’t make it past 2 years old. Spinraza is a gene therapy that boosts the production of the essential protein. Despite possible side effects, which include bleeding complications, kidney toxicity and infection, the drug appears to work so well that two recent clinical trials were stopped early, as it was deemed unethical to withhold treatment from babies assigned to placebo groups. As with many other drugs for rare diseases, the price of Spinraza is expected to be high to help recoup research costs  —   perhaps as high as $250, 000 per year. The Alzheimer’s disease community also received welcome news this year. After hundreds of failed trials of potential treatments over the past couple of decades, the experimental drug aducanumab, also produced by Biogen, was found in early trials to slow the cognitive decline that comes with Alzheimer’s. And then there was the ongoing resurgence of psychedelic medicine. It’s been pretty well established that the hallucinogenic anesthetic ketamine may be an effective antidepressant. Now we have some potentially groundbreaking findings for psilocybin, the active compound in ”magic mushrooms.” Two clinical trials found that just a single high dose of the drug is effective at treating symptoms of both depression and anxiety in    patients. Scientists are unsure just how psilocybin works to relieve mental duress. But one theory holds that it disrupts   thought and fixation  —   common in those suffering from depression  —   allowing selfless cognition and experience to occur. In both trials the intensity of the patients’ ”mystical experiences” correlated with the decrease in symptoms. Both research groups strongly caution against recreational use or   with magic mushrooms, but the findings have many experts and institutions reconsidering the   of negative counterculture stigma surrounding psilocybin. The list of neuroscientific advances from the past 12 months goes on: The Human Connectome Project gave us the most complete map of the cerebral cortex to date a Canadian group revealed in part how fear memories are formed scientists at Mount Sinai charted the neurocircuitry behind social aggression. Still, the field of neuroscience remains, at best, in adolescence. As British novelist Matt Haig wrote in The Telegraph in 2015, ”Neuroscience is a baby science. . .. We know more about the moons of Jupiter than what is inside of our skulls.” As the year’s abundant advances attest, there is plenty of room left for discoveries in the coming year and beyond  —   and plenty of creative, eager researchers to make them. Bret Stetka is a writer based in New York and an editorial director at Medscape. His work has appeared in Wired, Scientific American and on The Atlantic. com. He graduated from University of Virginia School of Medicine in 2005. He’s also on Twitter: @BretStetka'"
      ]
     },
     "execution_count": 46,
     "metadata": {},
     "output_type": "execute_result"
    }
   ],
   "source": [
    "npr.iloc[6][0]"
   ]
  },
  {
   "cell_type": "code",
   "execution_count": null,
   "id": "898f1aad",
   "metadata": {},
   "outputs": [],
   "source": []
  }
 ],
 "metadata": {
  "kernelspec": {
   "display_name": "Python 3",
   "language": "python",
   "name": "python3"
  },
  "language_info": {
   "codemirror_mode": {
    "name": "ipython",
    "version": 3
   },
   "file_extension": ".py",
   "mimetype": "text/x-python",
   "name": "python",
   "nbconvert_exporter": "python",
   "pygments_lexer": "ipython3",
   "version": "3.7.10"
  }
 },
 "nbformat": 4,
 "nbformat_minor": 5
}
