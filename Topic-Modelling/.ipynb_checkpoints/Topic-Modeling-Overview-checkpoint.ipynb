{
 "cells": [
  {
   "cell_type": "markdown",
   "id": "59ae7b68",
   "metadata": {},
   "source": [
    "# Topic Modeling Overview\n",
    "* Topic Modeling allows us efficiently analyse large volumes of text by clustering documents into topics. A large amount of text data is unlabeled meaning we won't be able to apply previous supervised learning approaches to create machine learning models for the data!.\n",
    "* If we have unlabeled data, then we can attempt to \"discover\" labels.\n",
    "* In this case of text data, this means attempting to discover clusters of documents, grouped together by topic.\n",
    "* A very important idea to keep in mind here is that we don't know the \"correct\" topic or \"right answer\"!\n",
    "* All we know is that the documents clustered together share similar topic ideas. It's upto the user to identify what these topics represents."
   ]
  },
  {
   "cell_type": "markdown",
   "id": "d79dad6d",
   "metadata": {},
   "source": [
    "<font color='purple'>For Topic Modeling we have two algorithms:\n",
    "\n",
    "**1. Latent Dirichlet Allocation**\n",
    "    \n",
    "**2. Non-Negative Matrix Factorization**\n",
    "    \n",
    "### Latent Dirichlet Allocation\n",
    "**Johann Peter Gustav Lejeune Dirichlet** was a German mathmaticanin 1800s who contributed widely to the field of modern mathematics. There is probability distribution named after him `Dirichlet Distribution`. Latent Dirichlet Allocation is based off this probabilty distribution.\n",
    "\n",
    "In 2003 LDA was first published as a graphical model for topic discovery in Journal of machine Learning Research by David Blei, Andrew Ng and Michael I. Jordan.\n",
    "    \n",
    "### Non-negative Matrix Factorization\n",
    "A non-negative Matrix factorization is an unsupervised alogorithm that simultaneously performs dimensionality reduction and clustering. We can use it with conjunction with Tk-IDF to model topics across documents. \n",
    "    "
   ]
  },
  {
   "cell_type": "markdown",
   "id": "f4af28ca",
   "metadata": {},
   "source": [
    "## Now we will perform top modeling with the help of Latent Dirichlet Allocation"
   ]
  },
  {
   "cell_type": "markdown",
   "id": "afd540b4",
   "metadata": {},
   "source": [
    "### Load the data"
   ]
  },
  {
   "cell_type": "code",
   "execution_count": 130,
   "id": "a0524aef",
   "metadata": {},
   "outputs": [],
   "source": [
    "import pandas as pd \n",
    "import numpy as np\n"
   ]
  },
  {
   "cell_type": "code",
   "execution_count": 131,
   "id": "61d2de5c",
   "metadata": {},
   "outputs": [
    {
     "data": {
      "text/html": [
       "<div>\n",
       "<style scoped>\n",
       "    .dataframe tbody tr th:only-of-type {\n",
       "        vertical-align: middle;\n",
       "    }\n",
       "\n",
       "    .dataframe tbody tr th {\n",
       "        vertical-align: top;\n",
       "    }\n",
       "\n",
       "    .dataframe thead th {\n",
       "        text-align: right;\n",
       "    }\n",
       "</style>\n",
       "<table border=\"1\" class=\"dataframe\">\n",
       "  <thead>\n",
       "    <tr style=\"text-align: right;\">\n",
       "      <th></th>\n",
       "      <th>Article</th>\n",
       "    </tr>\n",
       "  </thead>\n",
       "  <tbody>\n",
       "    <tr>\n",
       "      <th>0</th>\n",
       "      <td>In the Washington of 2016, even when the polic...</td>\n",
       "    </tr>\n",
       "    <tr>\n",
       "      <th>1</th>\n",
       "      <td>Donald Trump has used Twitter  —   his prefe...</td>\n",
       "    </tr>\n",
       "    <tr>\n",
       "      <th>2</th>\n",
       "      <td>Donald Trump is unabashedly praising Russian...</td>\n",
       "    </tr>\n",
       "    <tr>\n",
       "      <th>3</th>\n",
       "      <td>Updated at 2:50 p. m. ET, Russian President Vl...</td>\n",
       "    </tr>\n",
       "    <tr>\n",
       "      <th>4</th>\n",
       "      <td>From photography, illustration and video, to d...</td>\n",
       "    </tr>\n",
       "  </tbody>\n",
       "</table>\n",
       "</div>"
      ],
      "text/plain": [
       "                                             Article\n",
       "0  In the Washington of 2016, even when the polic...\n",
       "1    Donald Trump has used Twitter  —   his prefe...\n",
       "2    Donald Trump is unabashedly praising Russian...\n",
       "3  Updated at 2:50 p. m. ET, Russian President Vl...\n",
       "4  From photography, illustration and video, to d..."
      ]
     },
     "execution_count": 131,
     "metadata": {},
     "output_type": "execute_result"
    }
   ],
   "source": [
    "npr=pd.read_csv(\"npr.csv\")\n",
    "npr.head()"
   ]
  },
  {
   "cell_type": "markdown",
   "id": "70059531",
   "metadata": {},
   "source": [
    "As you can see we have no labels in this data set "
   ]
  },
  {
   "cell_type": "code",
   "execution_count": 132,
   "id": "4126db38",
   "metadata": {},
   "outputs": [
    {
     "data": {
      "text/plain": [
       "'In the Washington of 2016, even when the policy can be bipartisan, the politics cannot. And in that sense, this year shows little sign of ending on Dec. 31. When President Obama moved to sanction Russia over its alleged interference in the U. S. election just concluded, some Republicans who had long called for similar or more severe measures could scarcely bring themselves to approve. House Speaker Paul Ryan called the Obama measures ”appropriate” but also ”overdue” and ”a prime example of this administration’s ineffective foreign policy that has left America weaker in the eyes of the world.” Other GOP leaders sounded much the same theme. ”[We have] been urging President Obama for years to take strong action to deter Russia’s worldwide aggression, including its   operations,” wrote Rep. Devin Nunes,  . chairman of the House Intelligence Committee. ”Now with just a few weeks left in office, the president has suddenly decided that some stronger measures are indeed warranted.” Appearing on CNN, frequent Obama critic Trent Franks,  . called for ”much tougher” actions and said three times that Obama had ”finally found his tongue.” Meanwhile, at    and on Fox News, various spokesmen for   Trump said Obama’s real target was not the Russians at all but the man poised to take over the White House in less than three weeks. They spoke of Obama trying to ”tie Trump’s hands” or ”box him in,” meaning the   would be forced either to keep the sanctions or be at odds with Republicans who want to be tougher still on Moscow. Throughout 2016, Trump has repeatedly called not for sanctions but for closer ties with Russia, including cooperation in the fight against ISIS. Russia has battled ISIS in Syria on behalf of that country’s embattled dictator, Bashar Assad, bombing the besieged   city of Aleppo that fell to Assad’s forces this week. During the campaign, Trump even urged Russia to ”find” missing emails from the private server of his opponent, Hillary Clinton. He has exchanged public encomiums with Russian President Vladimir Putin on several occasions and added his doubts about the current U. S. levels of support for NATO  —   Putin’s longtime nemesis. There have also been suggestions that Trump’s extensive business dealings with various Russians are the reason he refuses to release his tax returns. All those issues have been disquieting to some Republicans for many months. Sens. John McCain,  . and Lindsay Graham,  . C. prominent senior members of the Armed Services Committee, have accepted the assessment of 17 U. S. intelligence agencies regarding the role of Russia in the hacking of various Democratic committees last year. That includes the FBI and CIA consensus that the Russian goal was not just to discredit American democracy but to defeat Clinton and elect Trump. They say the great majority of their Senate colleagues agree with them, and McCain has slated an Armed Services hearing on cyberthreats for Jan. 5. But the politicizing of the Russian actions  —   the idea that they helped Trump win  —   has also made the issue difficult for Republican leaders. It has allowed Trump supporters to push back on the intelligence agencies and say the entire issue is designed to undermine Trump’s legitimacy. Senate Majority Leader Mitch McConnell has so far resisted calls for a select committee to look into the Russian interference in the 2016 campaign. He has said it is enough for Sen. Richard Burr,  . C. to look into it as chairman of the Senate Intelligence Committee. Typically, Republican leaders and spokesmen say there is no evidence that the actual voting or tallying on Nov. 8 was compromised, and that is true. But it is also a red herring, as interference in those functions has not been alleged and is not the focus of the U. S. intelligence agencies’ concern. For his part, Trump has shown little interest in delving into what happened. He has cast doubt on the U. S. intelligence reports to date and suggested ”no one really knows what happened.” He also has suggested that computers make it very difficult to know who is using them. This week, Trump said it was time to ”get on with our lives and do more important things.” However, at week’s end he did agree to have an intelligence briefing on the subject next week. The   has not wanted the daily intelligence briefings available to him in recent weeks, preferring that they be given to the men he has chosen as his vice president (Mike Pence) and national security adviser (Mike Flynn) with Trump taking them only occasionally. The irony of this controversy arising at the eleventh hour of the Obama presidency can scarcely be overstated, and it defines the dilemma facing both the outgoing president and the incoming party in control. Obama appears to have been reluctant to retaliate against the Russian hacking before the election for fear of seeming to interfere with the election himself. The Republicans, meanwhile, have for years called for greater confrontation with the Russians, with Obama usually resisting. Obama did join with NATO in punishing the Russians with economic sanctions over the annexation of Crimea. Those sanctions may have been painful, coming as they did alongside falling prices for oil  —   the commodity that keeps the Russian economy afloat. On other occasions, despite Russian provocations through surrogates in Syria and elsewhere, Obama did not make overt moves to force Russia’s hand. That includes occasions when Russia was believed to be hacking critical computer systems in neighboring Ukraine, Estonia and Poland. But this week, following a chorus of confirmation from the U. S. intelligence community regarding the Russian role in computer hacking in the political campaign, Obama acted. He imposed a set of mostly diplomatic actions such as sanctioning some Russian officials, closing two diplomatic compounds and expelling 35 Russian diplomats. There may have been more damaging measures taken covertly, and some Russophobes in Washington held out hope for that. But the visible portion of the program scarcely amounted to major retribution. And Putin saw fit to diminish the Obama sanctions further by declining to respond. Although his government has steadfastly denied any interference in the U. S. election, Putin rejected his own foreign minister’s recommended package of    responses. (He even sent an invitation for U. S. diplomats to send their children to a holiday party in Moscow.) That allowed Putin to appear for the moment to be ”the bigger man,” even as he spurned Obama and kept up what has looked like a public bromance with Trump, who tweeted: ”Great move on delay (by V. Putin)   I always knew he was very smart!” At the moment it may seem that the overall Russia question amounts to the first crisis facing the Trump presidency. Whether forced by this campaign interference issue or not, Trump must grasp the nettle of a relationship Mitt Romney once called the greatest threat to U. S. security in the world. To be sure, Trump needs to dispel doubts about his ability to stand up to Putin, who has bullied and cajoled his way to center stage in recent world affairs. But Trump also seems determined to turn the page on past U. S. commitments, from free trade philosophy to funding of NATO and the United Nations. And if his Twitter account is any guide, Trump shows little concern about the conundrum others perceive to be facing him. Above all, Trump has shown himself determined to play by his own rules. A year ago, many were confident that would not work for him in the world of presidential politics. We are about to find out whether it works for him in the Oval Office.'"
      ]
     },
     "execution_count": 132,
     "metadata": {},
     "output_type": "execute_result"
    }
   ],
   "source": [
    "npr[\"Article\"][0]"
   ]
  },
  {
   "cell_type": "code",
   "execution_count": 133,
   "id": "da647141",
   "metadata": {},
   "outputs": [
    {
     "data": {
      "text/plain": [
       "11992"
      ]
     },
     "execution_count": 133,
     "metadata": {},
     "output_type": "execute_result"
    }
   ],
   "source": [
    "len(npr)"
   ]
  },
  {
   "cell_type": "markdown",
   "id": "d7b04c9a",
   "metadata": {},
   "source": [
    "### Preprocessing "
   ]
  },
  {
   "cell_type": "code",
   "execution_count": 134,
   "id": "1a51427a",
   "metadata": {},
   "outputs": [],
   "source": [
    "# Import CountVectorizer\n",
    "from sklearn.feature_extraction.text import CountVectorizer\n",
    "cv=CountVectorizer(max_df=0.95,min_df=2,stop_words='english')"
   ]
  },
  {
   "cell_type": "code",
   "execution_count": 135,
   "id": "752be1ca",
   "metadata": {},
   "outputs": [],
   "source": [
    "# Transform the data\n",
    "dtm=cv.fit_transform(npr[\"Article\"])"
   ]
  },
  {
   "cell_type": "code",
   "execution_count": 136,
   "id": "3f70789d",
   "metadata": {},
   "outputs": [
    {
     "data": {
      "text/plain": [
       "<11992x54777 sparse matrix of type '<class 'numpy.int64'>'\n",
       "\twith 3033388 stored elements in Compressed Sparse Row format>"
      ]
     },
     "execution_count": 136,
     "metadata": {},
     "output_type": "execute_result"
    }
   ],
   "source": [
    "dtm"
   ]
  },
  {
   "cell_type": "markdown",
   "id": "afa6c45c",
   "metadata": {},
   "source": [
    "### LDA "
   ]
  },
  {
   "cell_type": "code",
   "execution_count": 137,
   "id": "071a9d9f",
   "metadata": {},
   "outputs": [
    {
     "data": {
      "text/plain": [
       "LatentDirichletAllocation(batch_size=128, doc_topic_prior=None,\n",
       "             evaluate_every=-1, learning_decay=0.7,\n",
       "             learning_method='batch', learning_offset=10.0,\n",
       "             max_doc_update_iter=100, max_iter=10, mean_change_tol=0.001,\n",
       "             n_components=7, n_jobs=None, n_topics=None, perp_tol=0.1,\n",
       "             random_state=42, topic_word_prior=None,\n",
       "             total_samples=1000000.0, verbose=0)"
      ]
     },
     "execution_count": 137,
     "metadata": {},
     "output_type": "execute_result"
    }
   ],
   "source": [
    "# Import lda \n",
    "from sklearn.decomposition import LatentDirichletAllocation\n",
    "lda=LatentDirichletAllocation(n_components=7,random_state=42)\n",
    "\n",
    "lda.fit(dtm)"
   ]
  },
  {
   "cell_type": "code",
   "execution_count": 142,
   "id": "ad877789",
   "metadata": {},
   "outputs": [
    {
     "data": {
      "text/plain": [
       "54777"
      ]
     },
     "execution_count": 142,
     "metadata": {},
     "output_type": "execute_result"
    }
   ],
   "source": [
    "len(cv.get_feature_names())"
   ]
  },
  {
   "cell_type": "code",
   "execution_count": 151,
   "id": "e5da1e44",
   "metadata": {},
   "outputs": [
    {
     "data": {
      "text/plain": [
       "'transcribe'"
      ]
     },
     "execution_count": 151,
     "metadata": {},
     "output_type": "execute_result"
    }
   ],
   "source": [
    "cv.get_feature_names()[50000]"
   ]
  },
  {
   "cell_type": "code",
   "execution_count": 152,
   "id": "b7b09966",
   "metadata": {},
   "outputs": [
    {
     "name": "stdout",
     "output_type": "stream",
     "text": [
      "surveilled\n",
      "speculators\n",
      "oblivious\n",
      "vignesh\n",
      "malpractice\n",
      "recompense\n",
      "emailed\n",
      "estrada\n",
      "flamethrower\n",
      "radius\n"
     ]
    }
   ],
   "source": [
    "for i in range(10):\n",
    "    j=np.random.randint(0,54777)\n",
    "    print(cv.get_feature_names()[j])"
   ]
  },
  {
   "cell_type": "code",
   "execution_count": 153,
   "id": "6fd57d15",
   "metadata": {},
   "outputs": [
    {
     "data": {
      "text/plain": [
       "7"
      ]
     },
     "execution_count": 153,
     "metadata": {},
     "output_type": "execute_result"
    }
   ],
   "source": [
    "len(lda.components_)"
   ]
  },
  {
   "cell_type": "code",
   "execution_count": 155,
   "id": "5f5f22ca",
   "metadata": {},
   "outputs": [
    {
     "data": {
      "text/plain": [
       "(7, 54777)"
      ]
     },
     "execution_count": 155,
     "metadata": {},
     "output_type": "execute_result"
    }
   ],
   "source": [
    "lda.components_.shape"
   ]
  },
  {
   "cell_type": "code",
   "execution_count": 160,
   "id": "534d3049",
   "metadata": {},
   "outputs": [
    {
     "data": {
      "text/plain": [
       "array([8.64332806e+00, 2.38014333e+03, 1.42900522e-01, ...,\n",
       "       1.43006821e-01, 1.42902042e-01, 1.42861626e-01])"
      ]
     },
     "execution_count": 160,
     "metadata": {},
     "output_type": "execute_result"
    }
   ],
   "source": [
    "lda.components_[0]"
   ]
  },
  {
   "cell_type": "code",
   "execution_count": 161,
   "id": "c7fc9757",
   "metadata": {},
   "outputs": [],
   "source": [
    "## Finding words in the topic #0 with highest probability\n",
    "single_topic=lda.components_[0]\n",
    "top_ten_words=single_topic.argsort()[-10:]"
   ]
  },
  {
   "cell_type": "code",
   "execution_count": 162,
   "id": "901d7230",
   "metadata": {},
   "outputs": [
    {
     "name": "stdout",
     "output_type": "stream",
     "text": [
      "new\n",
      "percent\n",
      "government\n",
      "company\n",
      "million\n",
      "care\n",
      "people\n",
      "health\n",
      "said\n",
      "says\n"
     ]
    }
   ],
   "source": [
    "for index in top_ten_words:\n",
    "    print(cv.get_feature_names()[index])"
   ]
  },
  {
   "cell_type": "markdown",
   "id": "f264ec8d",
   "metadata": {},
   "source": [
    "Seems like our first topic belongs to the public health sector"
   ]
  },
  {
   "cell_type": "code",
   "execution_count": 163,
   "id": "93661930",
   "metadata": {},
   "outputs": [
    {
     "name": "stdout",
     "output_type": "stream",
     "text": [
      "Top 15 words for topic # 0\n",
      "['companies', 'money', 'year', 'federal', '000', 'new', 'percent', 'government', 'company', 'million', 'care', 'people', 'health', 'said', 'says']\n",
      "\n",
      "\n",
      "\n",
      "\n",
      "Top 15 words for topic # 1\n",
      "['military', 'house', 'security', 'russia', 'government', 'npr', 'reports', 'says', 'news', 'people', 'told', 'police', 'president', 'trump', 'said']\n",
      "\n",
      "\n",
      "\n",
      "\n",
      "Top 15 words for topic # 2\n",
      "['way', 'world', 'family', 'home', 'day', 'time', 'water', 'city', 'new', 'years', 'food', 'just', 'people', 'like', 'says']\n",
      "\n",
      "\n",
      "\n",
      "\n",
      "Top 15 words for topic # 3\n",
      "['time', 'new', 'don', 'years', 'medical', 'disease', 'patients', 'just', 'children', 'study', 'like', 'women', 'health', 'people', 'says']\n",
      "\n",
      "\n",
      "\n",
      "\n",
      "Top 15 words for topic # 4\n",
      "['voters', 'vote', 'election', 'party', 'new', 'obama', 'court', 'republican', 'campaign', 'people', 'state', 'president', 'clinton', 'said', 'trump']\n",
      "\n",
      "\n",
      "\n",
      "\n",
      "Top 15 words for topic # 5\n",
      "['years', 'going', 've', 'life', 'don', 'new', 'way', 'music', 'really', 'time', 'know', 'think', 'people', 'just', 'like']\n",
      "\n",
      "\n",
      "\n",
      "\n",
      "Top 15 words for topic # 6\n",
      "['student', 'years', 'data', 'science', 'university', 'people', 'time', 'schools', 'just', 'education', 'new', 'like', 'students', 'school', 'says']\n",
      "\n",
      "\n",
      "\n",
      "\n"
     ]
    }
   ],
   "source": [
    "## Now grab the highest probability words for each topic\n",
    "for i,topic in enumerate(lda.components_):\n",
    "    print(f\"Top 15 words for topic # {i}\")\n",
    "    print([cv.get_feature_names()[index] for index in topic.argsort()[-15:]])\n",
    "    print(\"\\n\")\n",
    "    print(\"\\n\")"
   ]
  },
  {
   "cell_type": "markdown",
   "id": "1b01ef32",
   "metadata": {},
   "source": [
    "### Attaching Discovered Topic Labels to Original Articles"
   ]
  },
  {
   "cell_type": "code",
   "execution_count": 164,
   "id": "3d5aed22",
   "metadata": {},
   "outputs": [
    {
     "data": {
      "text/plain": [
       "11992"
      ]
     },
     "execution_count": 164,
     "metadata": {},
     "output_type": "execute_result"
    }
   ],
   "source": [
    "len(npr)"
   ]
  },
  {
   "cell_type": "code",
   "execution_count": 165,
   "id": "5aaedcd2",
   "metadata": {},
   "outputs": [
    {
     "data": {
      "text/plain": [
       "(11992, 54777)"
      ]
     },
     "execution_count": 165,
     "metadata": {},
     "output_type": "execute_result"
    }
   ],
   "source": [
    "dtm.shape"
   ]
  },
  {
   "cell_type": "code",
   "execution_count": 166,
   "id": "f1195486",
   "metadata": {},
   "outputs": [],
   "source": [
    "topic_results=lda.transform(dtm)"
   ]
  },
  {
   "cell_type": "code",
   "execution_count": 167,
   "id": "a66fd657",
   "metadata": {},
   "outputs": [
    {
     "data": {
      "text/plain": [
       "(11992, 7)"
      ]
     },
     "execution_count": 167,
     "metadata": {},
     "output_type": "execute_result"
    }
   ],
   "source": [
    "topic_results.shape"
   ]
  },
  {
   "cell_type": "code",
   "execution_count": 171,
   "id": "a334c07d",
   "metadata": {},
   "outputs": [
    {
     "data": {
      "text/plain": [
       "array([0.02, 0.68, 0.  , 0.  , 0.3 , 0.  , 0.  ])"
      ]
     },
     "execution_count": 171,
     "metadata": {},
     "output_type": "execute_result"
    }
   ],
   "source": [
    "topic_results[0].round(2)"
   ]
  },
  {
   "cell_type": "code",
   "execution_count": 173,
   "id": "b8061ea5",
   "metadata": {},
   "outputs": [
    {
     "data": {
      "text/plain": [
       "1"
      ]
     },
     "execution_count": 173,
     "metadata": {},
     "output_type": "execute_result"
    }
   ],
   "source": [
    "topic_results[0].argmax()"
   ]
  },
  {
   "cell_type": "markdown",
   "id": "c2b2c6f5",
   "metadata": {},
   "source": [
    "### Attach new column of topic to the original data"
   ]
  },
  {
   "cell_type": "code",
   "execution_count": 174,
   "id": "6a1242dd",
   "metadata": {},
   "outputs": [],
   "source": [
    "npr[\"topic\"]=topic_results.argmax(axis=1)"
   ]
  },
  {
   "cell_type": "code",
   "execution_count": 176,
   "id": "0772429a",
   "metadata": {},
   "outputs": [
    {
     "data": {
      "text/html": [
       "<div>\n",
       "<style scoped>\n",
       "    .dataframe tbody tr th:only-of-type {\n",
       "        vertical-align: middle;\n",
       "    }\n",
       "\n",
       "    .dataframe tbody tr th {\n",
       "        vertical-align: top;\n",
       "    }\n",
       "\n",
       "    .dataframe thead th {\n",
       "        text-align: right;\n",
       "    }\n",
       "</style>\n",
       "<table border=\"1\" class=\"dataframe\">\n",
       "  <thead>\n",
       "    <tr style=\"text-align: right;\">\n",
       "      <th></th>\n",
       "      <th>Article</th>\n",
       "      <th>topic</th>\n",
       "    </tr>\n",
       "  </thead>\n",
       "  <tbody>\n",
       "    <tr>\n",
       "      <th>0</th>\n",
       "      <td>In the Washington of 2016, even when the polic...</td>\n",
       "      <td>1</td>\n",
       "    </tr>\n",
       "    <tr>\n",
       "      <th>1</th>\n",
       "      <td>Donald Trump has used Twitter  —   his prefe...</td>\n",
       "      <td>1</td>\n",
       "    </tr>\n",
       "    <tr>\n",
       "      <th>2</th>\n",
       "      <td>Donald Trump is unabashedly praising Russian...</td>\n",
       "      <td>1</td>\n",
       "    </tr>\n",
       "    <tr>\n",
       "      <th>3</th>\n",
       "      <td>Updated at 2:50 p. m. ET, Russian President Vl...</td>\n",
       "      <td>1</td>\n",
       "    </tr>\n",
       "    <tr>\n",
       "      <th>4</th>\n",
       "      <td>From photography, illustration and video, to d...</td>\n",
       "      <td>2</td>\n",
       "    </tr>\n",
       "  </tbody>\n",
       "</table>\n",
       "</div>"
      ],
      "text/plain": [
       "                                             Article  topic\n",
       "0  In the Washington of 2016, even when the polic...      1\n",
       "1    Donald Trump has used Twitter  —   his prefe...      1\n",
       "2    Donald Trump is unabashedly praising Russian...      1\n",
       "3  Updated at 2:50 p. m. ET, Russian President Vl...      1\n",
       "4  From photography, illustration and video, to d...      2"
      ]
     },
     "execution_count": 176,
     "metadata": {},
     "output_type": "execute_result"
    }
   ],
   "source": [
    "npr.head()"
   ]
  },
  {
   "cell_type": "code",
   "execution_count": 177,
   "id": "37c9ee52",
   "metadata": {},
   "outputs": [
    {
     "data": {
      "text/plain": [
       "'From photography, illustration and video, to data visualizations and immersive experiences, visuals are an important part of our storytelling at NPR. Interwoven with the written and the spoken word, images  —   another visual language  —   can create deeper understanding and empathy for the struggles and triumphs we face together. We told a lot of stories in 2016  —   far more than we can list here. So, instead, here’s a small selection of our favorite pieces, highlighting some of the work we’re most proud of, some of the biggest stories we reported, and some of the stories we had the most fun telling. Transport yourself to Rocky Mountain National Park, with all its sights and sounds, in an immersive geology lesson with Oregon State University geology professor Eric Kirby, who discusses the geologic history of the Rockies in   video. ”Today, Indians use much less energy per person than Americans or Chinese people. Many of its 1. 2   population live on roughly $2 a day. But what if all of those people had electricity at night, a refrigerator, a car? ”With ambitious goals to improve the standard of living, and 400 million people lacking reliable electricity, ’This means we need to enhance the energy supply by four to five times what it is now,’ says Ajay Mathur, a climate expert who runs the Energy and Resources Institute in New Delhi. He says that no matter how fast India increases its clean energy, like solar and wind, the country will probably also double its use of coal between now and 2030. ”Todd Stern, who served till last month as the top U. S. envoy on climate change, says India has a steeper hill to climb than any other country. ’There is no country, probably, with a bigger challenge  —   looking at the number of people, the level of their economic growth, the number of people who don’t have access to electricity,’ he says.” Can India’s Sacred But ’Dead’ Yamuna River Be Saved? India’s Big Battle: Development Vs. Pollution, In India’s Sundarbans, People And Tigers Try To Coexist In A Shrinking Space, ”Trying to understand the Trump Organization is a daunting task.   Donald Trump has not released his tax returns, so the best clues about his privately held business interests come from a financial disclosure form he released in May. ”The document covers scores of pages with small type, and suggests he is financially involved with hundreds of companies, including some that simply license his name. ”A dive into that disclosure form, submitted to the Office of Government Ethics, shows his largest sources of revenue are golf courses and   rents. But his interests are far flung, and include media, retail, entertainment and much more. ”Those business interests are affected by government agencies and policies. NPR scoured this document to create an overview of some of his business assets and operations (excluding debts) and the possible areas where conflicts may arise.” The protests at the Standing Rock Reservation, which started in early 2016, had small roots but grew into the thousands, drawing support from Native Americans from across the country, as well as activists who joined in solidarity against the proposed route of the   Dakota Access Pipeline just north of the reservation. In December, those protests won a concession from the federal government: The Army Corps of Engineers announced it would deny the permit necessary to build the oil pipeline in that area. In Their Own Words: The ’Water Protectors’ Of Standing Rock, Protesters Mark A Solemn Thanksgiving Day At Standing Rock, Protesters, Police Still Clashing Over Disputed North Dakota Pipeline, N. D. Pipeline Protester: ’It’s About Our Rights As Native People’ ”Up to 1 in 5 kids living in the U. S. shows signs or symptoms of a mental health disorder in a given year. So in a school classroom of 25 students, five of them may be struggling with the same issues many adults deal with: depression, anxiety, substance abuse. And yet most children  —   nearly 80 percent  —   who need mental health services won’t get them. ”Whether treated or not, the children do go to school. And the problems they face can tie into major problems found in schools: chronic absence, low achievement, disruptive behavior and dropping out. ”Experts say schools could play a role in identifying students with problems and helping them succeed. Yet it’s a role many schools are not prepared for.” ”Grapefruit’s bitterness can make it hard to love. Indeed, people often smother it in sugar just to get it down. And yet Americans were once urged to sweeten it with salt. ”Ad campaigns from the first and second world wars tried to convince us that ’Grapefruit Tastes Sweeter With Salt!’ as one 1946 ad for Morton’s in Life magazine put it. The pairing, these ads swore, enhanced the flavor. ”In our   world, these curious culinary time capsules raise the question: Does salt really make grapefruit taste sweeter? And if this practice was once common, why do few people seem to eat grapefruit this way today?” Rio de Janeiro hosted the world’s elite athletes in an Olympics that promised transcendent moments in sports  —   and potential controversies outside of the competition. The Summer Games began Aug. 5, and more than 10, 000 athletes from 206 countries participated. From concerns over the Zika virus and Russian athletes banned on doping charges to incredible wins by the U. S. women’s gymnastics team and sweet moments of   support, the 2016 Olympics was one of the biggest events  —   and biggest stories  —   of the year. ’A Fantasy Of A Fantasy’: U. S. Fencer Jason Pryor On Reaching The Olympics, In Rio’s Favelas,   Benefits From Olympics Have Yet To Materialize, How The Olympic Medal Tables Explain The World, ”Philando Castile spent his driving career trapped in a seemingly endless cycle of traffic stops, fines, court appearances, revocations and reinstatements, raising questions about bias, race and luck. ”Castile’s trouble with traffic stops began when he still had his learner’s permit. He was stopped a day before his 19th birthday. From there, he descended into a seemingly endless cycle of traffic stops, fines, court appearances, late fees, revocations and reinstatements in various jurisdictions. ”Court records raise big questions: Was Castile targeted by police? Or was he just a careless or unlucky driver? ”An NPR analysis of those records shows that the    cafeteria worker who was shot and killed by a police officer during a traffic stop in a St. Paul, Minn. suburb, was stopped by police 46 times and racked up more than $6, 000 in fines. Another curious statistic: Of all of the stops, only six of them were things a police officer would notice from outside a car  —   things like speeding or having a broken muffler.” During a week in Cleveland, photographer Gabriella Demczuk explored the ways that people embraced and challenged the Republican Party’s mission in this election  —   both from inside and outside the party. Then in Philadelphia, Demczuk continued her exploration of the fractures in America’s political system, examining the Democratic Party’s attempt to make itself ”stronger together.” True Believers, Protesters And Trump: Scenes From Cleveland, Dissent, Drama And Unity At The Democratic Convention, ” ’With recent events and political environment, these weapons will be harder to get a hold of.’ ’This is what your   dreams it could be when it grows up.’ ’I can meet . .. near the FL Mall in Orlando or any other time.” ”Cash is king.’ ”These classified advertisements for   weapons were listed on Armslist, a website where anyone can advertise a firearm they’d like to sell, and anyone can contact a seller with an offer to buy. The site is legal. But there’s no way to know whether buyers and sellers who meet through Armslist are following federal, state or local background check rules. ”We wanted to see how many   firearms  —   defined here as handguns and rifles able to rapidly fire a large number of bullets, one shot per trigger pull, without having to reload  —   can be currently found on Armslist, and how quickly new listings appear. This provides a window into the difficulty of regulating access to a type of weapon frequently used in mass shootings.” Our favorite albums of the year draw from all of the genres we cover at NPR Music, from rock, pop and   to classical, jazz, electronic and international artists. These are the records NPR Music couldn’t stop playing  —   albums that speak to a moment and a lifetime, that party, and that exist in their own worlds. Our list of the year’s best songs may begin with Beyoncé and end with Drake, but between those two stars you’ll find a   mix that celebrates all of the music we love. These are the pop anthems, rallying cries, party jams, riff rockers, perfumed piano pieces and emotional exorcisms that we loved to share this year. ”Across the country, private organizations,   groups and individuals quietly have been working to ease the plight of Syrian refugees. More than 11, 000 have arrived in the U. S. this year, fulfilling a pledge by the Obama administration. That figure far exceeds the number of Syrian refugees accepted during the previous four years of the Syrian war, and the White House is calling for a big bump in the overall number of refugees next year. ”It had been a long journey for Osama and Ghada and their four kids, who are among the nearly 5 million Syrians who have fled their homeland since the war began in 2011. They survived the war in Syria and had struggled for three years as refugees in Jordan when they were notified by the U. N. refugee agency, UNHCR, that they had been accepted for resettlement in the U. S.” ”There are huge gaps in school funding between affluent and   districts. And, with evidence that money matters, especially for disadvantaged kids, something has to change. ”School Money is a   nationwide collaboration between NPR’s Ed Team and 20 member station reporters exploring how states pay for their public schools and why many are failing to meet the needs of their most vulnerable students.” Is There A Better Way To Pay For America’s Schools? Why America’s Schools Have A Money Problem, President Obama spoke to NPR as he prepared to leave Washington for the holidays, reflecting on the year that was, the 2016 campaign and other news, plus revealing what he’s hearing from citizens. In the   exit interview, NPR’s Steve Inskeep asked Obama about Russian interference in the U. S. election, executive power, the future of the Democratic party and his future role.'"
      ]
     },
     "execution_count": 177,
     "metadata": {},
     "output_type": "execute_result"
    }
   ],
   "source": [
    "npr[\"Article\"][4]"
   ]
  },
  {
   "cell_type": "code",
   "execution_count": null,
   "id": "4a1c50be",
   "metadata": {},
   "outputs": [],
   "source": []
  },
  {
   "cell_type": "code",
   "execution_count": null,
   "id": "849cc5f9",
   "metadata": {},
   "outputs": [],
   "source": []
  }
 ],
 "metadata": {
  "kernelspec": {
   "display_name": "Python 3",
   "language": "python",
   "name": "python3"
  },
  "language_info": {
   "codemirror_mode": {
    "name": "ipython",
    "version": 3
   },
   "file_extension": ".py",
   "mimetype": "text/x-python",
   "name": "python",
   "nbconvert_exporter": "python",
   "pygments_lexer": "ipython3",
   "version": "3.7.10"
  }
 },
 "nbformat": 4,
 "nbformat_minor": 5
}
