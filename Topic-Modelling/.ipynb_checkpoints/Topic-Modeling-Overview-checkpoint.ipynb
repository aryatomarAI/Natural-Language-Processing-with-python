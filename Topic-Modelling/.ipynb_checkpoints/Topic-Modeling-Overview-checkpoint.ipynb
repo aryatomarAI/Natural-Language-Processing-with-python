{
 "cells": [
  {
   "cell_type": "markdown",
   "id": "59ae7b68",
   "metadata": {},
   "source": [
    "# Topic Modeling Overview\n",
    "* Topic Modeling allows us efficiently analyse large volumes of text by clustering documents into topics. A large amount of text data is unlabeled meaning we won't be able to apply previous supervised learning approaches to create machine learning models for the data!.\n",
    "* If we have unlabeled data, then we can attempt to \"discover\" labels.\n",
    "* In this case of text data, this means attempting to discover clusters of documents, grouped together by topic.\n",
    "* A very important idea to keep in mind here is that we don't know the \"correct\" topic or \"right answer\"!\n",
    "* All we know is that the documents clustered together share similar topic ideas. It's upto the user to identify what these topics represents."
   ]
  },
  {
   "cell_type": "code",
   "execution_count": null,
   "id": "3435a095",
   "metadata": {},
   "outputs": [],
   "source": []
  },
  {
   "cell_type": "code",
   "execution_count": null,
   "id": "2aff0291",
   "metadata": {},
   "outputs": [],
   "source": []
  },
  {
   "cell_type": "code",
   "execution_count": null,
   "id": "1a0068d0",
   "metadata": {},
   "outputs": [],
   "source": []
  },
  {
   "cell_type": "code",
   "execution_count": null,
   "id": "a0524aef",
   "metadata": {},
   "outputs": [],
   "source": []
  },
  {
   "cell_type": "code",
   "execution_count": null,
   "id": "61d2de5c",
   "metadata": {},
   "outputs": [],
   "source": []
  },
  {
   "cell_type": "code",
   "execution_count": null,
   "id": "aa69ed88",
   "metadata": {},
   "outputs": [],
   "source": []
  },
  {
   "cell_type": "code",
   "execution_count": null,
   "id": "4126db38",
   "metadata": {},
   "outputs": [],
   "source": []
  },
  {
   "cell_type": "code",
   "execution_count": null,
   "id": "da647141",
   "metadata": {},
   "outputs": [],
   "source": []
  },
  {
   "cell_type": "code",
   "execution_count": null,
   "id": "79b6b261",
   "metadata": {},
   "outputs": [],
   "source": []
  },
  {
   "cell_type": "code",
   "execution_count": null,
   "id": "1a51427a",
   "metadata": {},
   "outputs": [],
   "source": []
  }
 ],
 "metadata": {
  "kernelspec": {
   "display_name": "Python 3",
   "language": "python",
   "name": "python3"
  },
  "language_info": {
   "codemirror_mode": {
    "name": "ipython",
    "version": 3
   },
   "file_extension": ".py",
   "mimetype": "text/x-python",
   "name": "python",
   "nbconvert_exporter": "python",
   "pygments_lexer": "ipython3",
   "version": "3.7.10"
  }
 },
 "nbformat": 4,
 "nbformat_minor": 5
}
